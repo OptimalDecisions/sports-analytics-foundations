{
  "nbformat": 4,
  "nbformat_minor": 0,
  "metadata": {
    "colab": {
      "provenance": [],
      "toc_visible": true,
      "authorship_tag": "ABX9TyP3tkpIKR8UiltydGYVQ0ex",
      "include_colab_link": true
    },
    "kernelspec": {
      "name": "python3",
      "display_name": "Python 3"
    },
    "language_info": {
      "name": "python"
    }
  },
  "cells": [
    {
      "cell_type": "markdown",
      "metadata": {
        "id": "view-in-github",
        "colab_type": "text"
      },
      "source": [
        "<a href=\"https://colab.research.google.com/github/OptimalDecisions/sports-analytics-foundations/blob/main/data-visualization/Data_Visualization_3_2_Matplotlib_Basics.ipynb\" target=\"_parent\"><img src=\"https://colab.research.google.com/assets/colab-badge.svg\" alt=\"Open In Colab\"/></a>"
      ]
    },
    {
      "cell_type": "markdown",
      "source": [
        "  ## Data Visualization\n"
      ],
      "metadata": {
        "id": "3Jk9Yx0tVW8W"
      }
    },
    {
      "cell_type": "markdown",
      "source": [
        "\n",
        "  # Two Ways to Use Matplotlib\n",
        "\n",
        "  <img src = \"../img/sa_logo.png\" width=\"100\" align=\"left\">\n",
        "\n",
        "  Ram Narasimhan\n",
        "\n",
        "  <br><br><br>\n",
        "\n",
        "  << [3.0 Visualization Overview](Data_Visualization_3_0_Overview.ipynb) | [3.1 Visualization Using Pandas](Pandas_Intermediate_2_10_GroupBy.ipynb)  |\n",
        "  [3.2 Matplotlib Basics](Data_Visualization_3_2_Matplotlib_Basics.ipynb) >>\n",
        "\n",
        "\n"
      ],
      "metadata": {
        "id": "ewhP3DEZVbqx"
      }
    },
    {
      "cell_type": "markdown",
      "source": [
        "Concepts covered in this notebook.\n",
        "\n",
        "1. Functional Plotting Using `pyplot`\n",
        "\n",
        "2. Object-Oriented Plotting\n",
        "- Creating Figure and Axes\n",
        "\n"
      ],
      "metadata": {
        "id": "VUO8vpwPsk6p"
      }
    },
    {
      "cell_type": "markdown",
      "source": [
        "\n",
        "\n",
        "Within Matplotlib, there are two major interfaces for creating a graph.\n",
        "\n",
        "Functional: Using Matplotlib’s PyPlot interface\n",
        "Object-Oriented: Creating figure and axes objects\n"
      ],
      "metadata": {
        "id": "U2zE587JdNws"
      }
    },
    {
      "cell_type": "code",
      "source": [
        "import matplotlib.pyplot as plt"
      ],
      "metadata": {
        "id": "2uwVPQws7_Db"
      },
      "execution_count": 1,
      "outputs": []
    },
    {
      "cell_type": "markdown",
      "source": [
        "## 1. Functional Plotting Using `pyplot`\n",
        "\n",
        "### Stateful Interface\n",
        "\n",
        "- This is the traditional and simpler way of creating plots in Matplotlib.\n",
        "\n",
        "- It involves using the pyplot module and maintaining an \"implicit state.\" That is, the plot is held in memory and modified implicitly, thus it not visible until it is rendered.\n",
        "\n",
        "- Functions like `plt.plot()` & `plt.xlabel()` are used to modify \"the current state\".\n",
        "- Finally, the plot is shown/rendered with a `plt.show()`\n",
        "\n",
        "This approach is more straightforward for simple plots and is commonly used for quick and interactive data exploration.\n",
        "\n",
        "Let's look at this method, step by step:\n"
      ],
      "metadata": {
        "id": "Aet2TEu_VlJ_"
      }
    },
    {
      "cell_type": "markdown",
      "source": [
        "\n",
        "### 1.1 Import `pyplot`"
      ],
      "metadata": {
        "id": "UqRB17cgfzHp"
      }
    },
    {
      "cell_type": "code",
      "source": [
        "import matplotlib.pyplot as plt"
      ],
      "metadata": {
        "id": "Mb0mcKWDexQN"
      },
      "execution_count": 2,
      "outputs": []
    },
    {
      "cell_type": "markdown",
      "source": [
        "### 1.2 Create a Plot\n",
        "\n",
        "Use  `plt.plot()` to create a basic plot.\n"
      ],
      "metadata": {
        "id": "dDMFktd_fNVo"
      }
    },
    {
      "cell_type": "markdown",
      "source": [
        "```\n",
        "x = [1, 2, 3, 4]\n",
        "y = [2, 4, 6, 8]\n",
        "plt.plot(x, y)\n",
        "```\n"
      ],
      "metadata": {
        "id": "H_-RnTgxfQDL"
      }
    },
    {
      "cell_type": "markdown",
      "source": [
        "### 1.3 Modify Plot State\n",
        "\n",
        "Use various plt functions to modify the plot's appearance or add elements.\n"
      ],
      "metadata": {
        "id": "Kb387VX6fRbl"
      }
    },
    {
      "cell_type": "markdown",
      "source": [
        "```\n",
        "plt.xlabel('X-axis Label')  # Set the label for the x-axis\n",
        "plt.ylabel('Y-axis Label')  # Set the label for the y-axis\n",
        "plt.title('Simple Line Plot')  # Set the title of the plot\n",
        "```\n"
      ],
      "metadata": {
        "id": "86kKEOpCfTB6"
      }
    },
    {
      "cell_type": "markdown",
      "source": [
        "### 1.4 Display the Plot\n",
        "\n",
        "Finally, use plt.show() to display the plot.\n"
      ],
      "metadata": {
        "id": "Z1EB5EaNfUqI"
      }
    },
    {
      "cell_type": "markdown",
      "source": [
        "```\n",
        "plt.show()\n",
        "```\n"
      ],
      "metadata": {
        "id": "GzEUy6iifJ4a"
      }
    },
    {
      "cell_type": "markdown",
      "source": [
        "In the stateful approach, Matplotlib maintains the state implicitly. Each function call modifies the current state, and subsequent function calls use this updated state.\n",
        "\n",
        "This approach is convenient for quick and simple plots.\n",
        "\n"
      ],
      "metadata": {
        "id": "7MpeoWQpfIKo"
      }
    },
    {
      "cell_type": "code",
      "source": [
        "import matplotlib.pyplot as plt\n",
        "\n",
        "# Create a basic plot\n",
        "x = [1, 2, 3, 4]\n",
        "y = [2, 4, 6, 8]\n",
        "plt.plot(x, y)\n",
        "\n",
        "# Modify plot appearance\n",
        "plt.xlabel('X-axis Label')\n",
        "plt.ylabel('Y-axis Label')\n",
        "plt.title('Simple Line Plot')\n",
        "\n",
        "# Display the plot\n",
        "plt.show()"
      ],
      "metadata": {
        "colab": {
          "base_uri": "https://localhost:8080/",
          "height": 472
        },
        "id": "GXpXhFgwguar",
        "outputId": "adf9a485-6716-4ad4-a10e-bc7a5e70be39"
      },
      "execution_count": 6,
      "outputs": [
        {
          "output_type": "display_data",
          "data": {
            "text/plain": [
              "<Figure size 640x480 with 1 Axes>"
            ],
            "image/png": "[encoded data removed]"
          },
          "metadata": {}
        }
      ]
    },
    {
      "cell_type": "markdown",
      "source": [
        "\n",
        "However, we often want more complex visualizations, especially when dealing with multiple subplots or customizing various plot elements.\n",
        "\n",
        "In those cases, we resort to the \"object-oriented\" way of plotting using Matplotlib."
      ],
      "metadata": {
        "id": "HGIsUdExgtSP"
      }
    },
    {
      "cell_type": "markdown",
      "source": [
        "## 2. Object-oriented Way of Plotting with Matplotlib\n",
        "\n",
        "- The object-oriented approach focuses on creating custom figures and axes to visualize your data.\n",
        "- This is generally more comprehensive and can handle more complex tasks\n",
        "\n"
      ],
      "metadata": {
        "id": "dIrTmwch_5F7"
      }
    },
    {
      "cell_type": "markdown",
      "source": [
        "### 2.1 Object-Oriented Interface\n",
        "\n",
        "This style is more object-oriented and is recommended for more complex and customizable plots.\n",
        "\n",
        "- It involves creating explicit Figure and Axes objects and calling methods on them.\n",
        "- It provides more control and flexibility in creating subplots, customizing axes, and handling multiple plots.\n",
        "\n"
      ],
      "metadata": {
        "id": "Rga_aJ11hIgP"
      }
    },
    {
      "cell_type": "code",
      "source": [
        "x = [1, 2, 3, 4]\n",
        "y = [2, 4, 6, 8]\n",
        "\n",
        "fig, ax = plt.subplots()\n",
        "ax.plot(x, y)\n",
        "ax.set_xlabel('X-axis')\n",
        "ax.set_ylabel('Y-axis')\n",
        "ax.set_title('Simple Line Plot')\n",
        "plt.show()"
      ],
      "metadata": {
        "colab": {
          "base_uri": "https://localhost:8080/",
          "height": 472
        },
        "id": "vZQUCk89hNzv",
        "outputId": "900ba810-32c4-4a11-a4ab-124b345a68eb"
      },
      "execution_count": 7,
      "outputs": [
        {
          "output_type": "display_data",
          "data": {
            "text/plain": [
              "<Figure size 640x480 with 1 Axes>"
            ],
            "image/png": "[encoded data removed]"
          },
          "metadata": {}
        }
      ]
    },
    {
      "cell_type": "markdown",
      "source": [
        "This object-oriented way might initially look like a more complicated way of achieving the same result.\n",
        "\n",
        "But let's understand the *crucial* difference.\n",
        "We can modify both the `fig` (I think of this as the entire canvas) and the confusingly-named `ax` - each plot in the canvas. (More on this in notebook 3.3)\n",
        "\n",
        "### 2.2 Creating and Modifying Figure and Axes\n",
        "\n",
        "Use plt.subplots() to create a Figure and one or more Axes.\n",
        "\n",
        "\n",
        "```\n",
        "fig, ax = plt.subplots()\n",
        "```\n",
        "`fig` is the Figure object, and `ax` is a single Axes object or an array of Axes objects if there are multiple subplots.\n",
        "\n",
        "We now have \"handles\" for the `fig` and the `ax` and can start modifying them.\n"
      ],
      "metadata": {
        "id": "M_X9p5JrhOIc"
      }
    },
    {
      "cell_type": "markdown",
      "source": [
        "\n",
        "Plot Data using Axes\n",
        "\n",
        "Use the ax.plot() method to plot the data on the created Axes.\n",
        "\n",
        "```\n",
        "ax.plot(x, y)\n",
        "```\n",
        "Modify Plot State using Axes Methods\n",
        "\n",
        "Use various ax methods to modify the appearance or add elements to the plot.\n",
        "\n",
        "```\n",
        "ax.set_xlabel('X-axis Label')\n",
        "ax.set_ylabel('Y-axis Label')\n",
        "ax.set_title('Simple Line Plot')\n",
        "```"
      ],
      "metadata": {
        "id": "kLbaGJLWh_of"
      }
    },
    {
      "cell_type": "markdown",
      "source": [
        "Next, let's try and understand the terminology of Matplotlib. It will help clarify things immensely!"
      ],
      "metadata": {
        "id": "y3VxnMkeipr6"
      }
    },
    {
      "cell_type": "markdown",
      "source": [
        "  << [3.0 Visualization Overview](Data_Visualization_3_0_Overview.ipynb) | [3.1 Visualization Using Pandas](Pandas_Intermediate_2_10_GroupBy.ipynb)  |\n",
        "  [3.2 Matplotlib Basics](Data_Visualization_3_2_Matplotlib_Basics.ipynb) >>\n"
      ],
      "metadata": {
        "id": "82zf6UsGi0CD"
      }
    }
  ]
}