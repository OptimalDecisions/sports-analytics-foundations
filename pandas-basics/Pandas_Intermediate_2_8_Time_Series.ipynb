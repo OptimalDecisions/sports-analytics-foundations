{
  "nbformat": 4,
  "nbformat_minor": 0,
  "metadata": {
    "colab": {
      "provenance": [],
      "authorship_tag": "ABX9TyMc/OEkdtH9lSbCwme82YyL",
      "include_colab_link": true
    },
    "kernelspec": {
      "name": "python3",
      "display_name": "Python 3"
    },
    "language_info": {
      "name": "python"
    }
  },
  "cells": [
    {
      "cell_type": "markdown",
      "metadata": {
        "id": "view-in-github",
        "colab_type": "text"
      },
      "source": [
        "<a href=\"https://colab.research.google.com/github/OptimalDecisions/sports-analytics-foundations/blob/main/pandas-basics/Pandas_Intermediate_2_8_Time_Series.ipynb\" target=\"_parent\"><img src=\"https://colab.research.google.com/assets/colab-badge.svg\" alt=\"Open In Colab\"/></a>"
      ]
    },
    {
      "cell_type": "markdown",
      "source": [
        "\n",
        "  ## Pandas Basics 2.8"
      ],
      "metadata": {
        "id": "FTGj4dTYT74-"
      }
    },
    {
      "cell_type": "markdown",
      "source": [
        "\n",
        "\n",
        "  # Time Series\n",
        "\n",
        "  <img src = \"../img/sa_logo.png\" width=\"100\" align=\"left\">\n",
        "\n",
        "  Ram Narasimhan\n",
        "\n",
        "  <br><br><br>\n",
        "\n",
        "  << [Writing to Files](Pandas_Basics_2_7_Writing_to_Files.ipynb) | [Time Series](Pandas_Intermediate_2_8_Time_Series.ipynb) | [Merging Dataframes](Pandas_Intermediate_2_9_Merging_DataFrames.ipynb) >>\n"
      ],
      "metadata": {
        "id": "8J-n00EMUEVx"
      }
    },
    {
      "cell_type": "markdown",
      "source": [
        "## Formatting Date and time columns\n"
      ],
      "metadata": {
        "id": "9ihnnccXUGDI"
      }
    },
    {
      "cell_type": "markdown",
      "source": [
        "\n",
        "## Using Time as the Index\n",
        "\n",
        "\n",
        "## Slicing a dataframe by Time Duration"
      ],
      "metadata": {
        "id": "QHg-1V8EUTBP"
      }
    },
    {
      "cell_type": "markdown",
      "source": [
        "\n",
        "\n",
        "<< [Writing to Files](Pandas_Basics_2_7_Writing_to_Files.ipynb) | [Time Series](Pandas_Intermediate_2_8_Time_Series.ipynb) | [Merging Dataframes](Pandas_Intermediate_2_9_Merging_DataFrames.ipynb) >>"
      ],
      "metadata": {
        "id": "Q4A52jj3UFwj"
      }
    }
  ]
}