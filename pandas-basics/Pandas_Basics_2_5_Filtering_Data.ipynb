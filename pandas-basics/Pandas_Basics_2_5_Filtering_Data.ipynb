{
  "nbformat": 4,
  "nbformat_minor": 0,
  "metadata": {
    "colab": {
      "provenance": [],
      "authorship_tag": "ABX9TyONWC9LtW3U5cucsNaG7gbW",
      "include_colab_link": true
    },
    "kernelspec": {
      "name": "python3",
      "display_name": "Python 3"
    },
    "language_info": {
      "name": "python"
    }
  },
  "cells": [
    {
      "cell_type": "markdown",
      "metadata": {
        "id": "view-in-github",
        "colab_type": "text"
      },
      "source": [
        "<a href=\"https://colab.research.google.com/github/OptimalDecisions/sports-analytics-foundations/blob/main/pandas-basics/Pandas_Basics_2_5_Filtering_Data.ipynb\" target=\"_parent\"><img src=\"https://colab.research.google.com/assets/colab-badge.svg\" alt=\"Open In Colab\"/></a>"
      ]
    },
    {
      "cell_type": "markdown",
      "source": [
        "## Pandas Basics 2.5\n"
      ],
      "metadata": {
        "id": "G5x6rnMwQ7SK"
      }
    },
    {
      "cell_type": "markdown",
      "source": [
        "# Filtering using Conditions\n",
        "\n",
        "  <img src = \"../img/sa_logo.png\" width=\"100\" align=\"left\">\n",
        "\n",
        "  Ram Narasimhan\n",
        "\n",
        "  <br><br><br>\n",
        "\n",
        "  << [Column Operations](Pandas_Basics_2_4_Column_Operations.ipynb) | [Filtering using Conditions](Pandas_Basics_2_5_Filtering_Data.ipynb) | [Sorting](Pandas_Basics_2_6_Sorting.ipynb) >>\n"
      ],
      "metadata": {
        "id": "yrbAY49hQ_kG"
      }
    },
    {
      "cell_type": "markdown",
      "source": [
        "## What is a `Boolean Mask`?\n"
      ],
      "metadata": {
        "id": "pmJPK-QPRG7V"
      }
    },
    {
      "cell_type": "markdown",
      "source": [
        "\n",
        "\n",
        "## \tConditions\n"
      ],
      "metadata": {
        "id": "iQiVOaDBRSXf"
      }
    },
    {
      "cell_type": "markdown",
      "source": [
        "## \tTwo conditions AND, OR\n",
        "\n",
        "### First AND second condition\n",
        "\n",
        "### Either condition 1 OR condition 2\n",
        "\n",
        "\n",
        "\n"
      ],
      "metadata": {
        "id": "LSS-VdwERT3u"
      }
    },
    {
      "cell_type": "markdown",
      "source": [
        "## \tSubsetting Rows\n",
        "\n"
      ],
      "metadata": {
        "id": "fRqUp72hRWCI"
      }
    },
    {
      "cell_type": "markdown",
      "source": [
        "## Using `np.where()` to Search and Modify"
      ],
      "metadata": {
        "id": "XKBMPqZ3Rrzx"
      }
    },
    {
      "cell_type": "markdown",
      "source": [
        "\n",
        "\n",
        "<< [Column Operations](Pandas_Basics_2_4_Column_Operations.ipynb) | [Filtering using Conditions](Pandas_Basics_2_5_Filtering_Data.ipynb) | [Sorting](Pandas_Basics_2_6_Sorting.ipynb) >>"
      ],
      "metadata": {
        "id": "VFp1UwRrRDwz"
      }
    }
  ]
}