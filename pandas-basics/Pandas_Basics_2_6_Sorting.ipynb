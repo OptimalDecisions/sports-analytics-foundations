{
  "nbformat": 4,
  "nbformat_minor": 0,
  "metadata": {
    "colab": {
      "provenance": [],
      "authorship_tag": "ABX9TyMYpf/+tcr0CrDCYlBNgXFP",
      "include_colab_link": true
    },
    "kernelspec": {
      "name": "python3",
      "display_name": "Python 3"
    },
    "language_info": {
      "name": "python"
    }
  },
  "cells": [
    {
      "cell_type": "markdown",
      "metadata": {
        "id": "view-in-github",
        "colab_type": "text"
      },
      "source": [
        "<a href=\"https://colab.research.google.com/github/OptimalDecisions/sports-analytics-foundations/blob/main/pandas-basics/Pandas_Basics_2_6_Sorting.ipynb\" target=\"_parent\"><img src=\"https://colab.research.google.com/assets/colab-badge.svg\" alt=\"Open In Colab\"/></a>"
      ]
    },
    {
      "cell_type": "markdown",
      "source": [
        " ## Pandas Basics 2.6\n"
      ],
      "metadata": {
        "id": "JEFeRWrjSNEs"
      }
    },
    {
      "cell_type": "markdown",
      "source": [
        "\n",
        "  # Sorting\n",
        "\n",
        "  <img src = \"../img/sa_logo.png\" width=\"100\" align=\"left\">\n",
        "\n",
        "  Ram Narasimhan\n",
        "\n",
        "  <br><br><br>\n",
        "\n",
        "  << [Filtering using Conditions](Pandas_Basics_2_5_Filtering_Data.ipynb) | [Sorting](Pandas_Basics_2_6_Sorting.ipynb) | [Writing to Files](Pandas_Basics_2_7_Writing_to_Files.ipynb) >>\n"
      ],
      "metadata": {
        "id": "MO0ICIp6SPDk"
      }
    },
    {
      "cell_type": "markdown",
      "source": [
        "## \tby One Column\n"
      ],
      "metadata": {
        "id": "BE5IgpZuSRZK"
      }
    },
    {
      "cell_type": "markdown",
      "source": [
        "## \tby Multiple Columns\n"
      ],
      "metadata": {
        "id": "OyKptQlRS2Er"
      }
    },
    {
      "cell_type": "markdown",
      "source": [
        "\n",
        "## Sort by a Combination of Ascending and Descending values in Multiple columns"
      ],
      "metadata": {
        "id": "XiRUWsHNSzwV"
      }
    },
    {
      "cell_type": "markdown",
      "source": [
        "\n",
        "\n",
        "<< [Filtering using Conditions](Pandas_Basics_2_5_Filtering_Data.ipynb) | [Sorting](Pandas_Basics_2_6_Sorting.ipynb) | [Writing to Files](Pandas_Basics_2_7_Writing_to_Files.ipynb) >>"
      ],
      "metadata": {
        "id": "gLAu8kQ0SRA_"
      }
    }
  ]
}