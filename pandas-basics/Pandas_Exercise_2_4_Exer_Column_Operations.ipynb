{
  "nbformat": 4,
  "nbformat_minor": 0,
  "metadata": {
    "colab": {
      "provenance": [],
      "toc_visible": true,
      "authorship_tag": "ABX9TyPlF4GPpqpJ11HnKl5aJnwf",
      "include_colab_link": true
    },
    "kernelspec": {
      "name": "python3",
      "display_name": "Python 3"
    },
    "language_info": {
      "name": "python"
    }
  },
  "cells": [
    {
      "cell_type": "markdown",
      "metadata": {
        "id": "view-in-github",
        "colab_type": "text"
      },
      "source": [
        "<a href=\"https://colab.research.google.com/github/OptimalDecisions/sports-analytics-foundations/blob/main/pandas-basics/Pandas_Exercise_2_4_Exer_Column_Operations.ipynb\" target=\"_parent\"><img src=\"https://colab.research.google.com/assets/colab-badge.svg\" alt=\"Open In Colab\"/></a>"
      ]
    },
    {
      "cell_type": "markdown",
      "source": [
        "## Pandas Exercises 2.4\n"
      ],
      "metadata": {
        "id": "G5x6rnMwQ7SK"
      }
    },
    {
      "cell_type": "markdown",
      "source": [
        "# Column Operations\n",
        "\n",
        "  <img src = \"../img/sa_logo.png\" width=\"100\" align=\"left\">\n",
        "\n",
        "  Ram Narasimhan\n",
        "\n",
        "  <br><br><br>\n",
        "\n"
      ],
      "metadata": {
        "id": "yrbAY49hQ_kG"
      }
    },
    {
      "cell_type": "code",
      "source": [
        "import numpy as np\n",
        "import matplotlib.pyplot as plt\n",
        "import pandas as pd\n",
        "import seaborn as sns\n",
        "%matplotlib inline"
      ],
      "metadata": {
        "id": "RdU9cAnkcHnu"
      },
      "execution_count": 6,
      "outputs": []
    },
    {
      "cell_type": "code",
      "source": [
        "# Read in the Play by Play file for an entire NBA Season\n",
        "df = pd.read_csv('https://sports-statistics.com/database/basketball-data/nba/2019-20_pbp.csv')\n"
      ],
      "metadata": {
        "id": "-GFGQlljcwmf"
      },
      "execution_count": 2,
      "outputs": []
    },
    {
      "cell_type": "code",
      "source": [
        "df.columns, df.shape"
      ],
      "metadata": {
        "colab": {
          "base_uri": "https://localhost:8080/"
        },
        "id": "0_E9gXW3cQEo",
        "outputId": "281f9b20-b4f3-4db7-aeb6-9dd690062846"
      },
      "execution_count": 3,
      "outputs": [
        {
          "output_type": "execute_result",
          "data": {
            "text/plain": [
              "(Index(['URL', 'GameType', 'Location', 'Date', 'Time', 'WinningTeam', 'Quarter',\n",
              "        'SecLeft', 'AwayTeam', 'AwayPlay', 'AwayScore', 'HomeTeam', 'HomePlay',\n",
              "        'HomeScore', 'Shooter', 'ShotType', 'ShotOutcome', 'ShotDist',\n",
              "        'Assister', 'Blocker', 'FoulType', 'Fouler', 'Fouled', 'Rebounder',\n",
              "        'ReboundType', 'ViolationPlayer', 'ViolationType', 'TimeoutTeam',\n",
              "        'FreeThrowShooter', 'FreeThrowOutcome', 'FreeThrowNum', 'EnterGame',\n",
              "        'LeaveGame', 'TurnoverPlayer', 'TurnoverType', 'TurnoverCause',\n",
              "        'TurnoverCauser', 'JumpballAwayPlayer', 'JumpballHomePlayer',\n",
              "        'JumpballPoss', 'Unnamed: 40'],\n",
              "       dtype='object'),\n",
              " (539265, 41))"
            ]
          },
          "metadata": {},
          "execution_count": 3
        }
      ]
    },
    {
      "cell_type": "code",
      "source": [
        "df[[c for c in df.columns if 'Player' in c]]"
      ],
      "metadata": {
        "colab": {
          "base_uri": "https://localhost:8080/",
          "height": 423
        },
        "id": "B_CM6vl5MZtw",
        "outputId": "2967fd67-7498-4393-cf67-b2594731d1c2"
      },
      "execution_count": 4,
      "outputs": [
        {
          "output_type": "execute_result",
          "data": {
            "text/plain": [
              "       ViolationPlayer TurnoverPlayer     JumpballAwayPlayer  \\\n",
              "0                  NaN            NaN  D. Favors - favorde01   \n",
              "1                  NaN            NaN                    NaN   \n",
              "2                  NaN            NaN                    NaN   \n",
              "3                  NaN            NaN                    NaN   \n",
              "4                  NaN            NaN                    NaN   \n",
              "...                ...            ...                    ...   \n",
              "539260             NaN            NaN                    NaN   \n",
              "539261             NaN            NaN                    NaN   \n",
              "539262             NaN            NaN                    NaN   \n",
              "539263             NaN            NaN                    NaN   \n",
              "539264             NaN            NaN                    NaN   \n",
              "\n",
              "          JumpballHomePlayer  \n",
              "0       M. Gasol - gasolma01  \n",
              "1                        NaN  \n",
              "2                        NaN  \n",
              "3                        NaN  \n",
              "4                        NaN  \n",
              "...                      ...  \n",
              "539260                   NaN  \n",
              "539261                   NaN  \n",
              "539262                   NaN  \n",
              "539263                   NaN  \n",
              "539264                   NaN  \n",
              "\n",
              "[539265 rows x 4 columns]"
            ],
            "text/html": [
              "\n",
              "  <div id=\"df-80acda02-7c62-4f72-90a0-9be84b79d1b2\" class=\"colab-df-container\">\n",
              "    <div>\n",
              "<style scoped>\n",
              "    .dataframe tbody tr th:only-of-type {\n",
              "        vertical-align: middle;\n",
              "    }\n",
              "\n",
              "    .dataframe tbody tr th {\n",
              "        vertical-align: top;\n",
              "    }\n",
              "\n",
              "    .dataframe thead th {\n",
              "        text-align: right;\n",
              "    }\n",
              "</style>\n",
              "<table border=\"1\" class=\"dataframe\">\n",
              "  <thead>\n",
              "    <tr style=\"text-align: right;\">\n",
              "      <th></th>\n",
              "      <th>ViolationPlayer</th>\n",
              "      <th>TurnoverPlayer</th>\n",
              "      <th>JumpballAwayPlayer</th>\n",
              "      <th>JumpballHomePlayer</th>\n",
              "    </tr>\n",
              "  </thead>\n",
              "  <tbody>\n",
              "    <tr>\n",
              "      <th>0</th>\n",
              "      <td>NaN</td>\n",
              "      <td>NaN</td>\n",
              "      <td>D. Favors - favorde01</td>\n",
              "      <td>M. Gasol - gasolma01</td>\n",
              "    </tr>\n",
              "    <tr>\n",
              "      <th>1</th>\n",
              "      <td>NaN</td>\n",
              "      <td>NaN</td>\n",
              "      <td>NaN</td>\n",
              "      <td>NaN</td>\n",
              "    </tr>\n",
              "    <tr>\n",
              "      <th>2</th>\n",
              "      <td>NaN</td>\n",
              "      <td>NaN</td>\n",
              "      <td>NaN</td>\n",
              "      <td>NaN</td>\n",
              "    </tr>\n",
              "    <tr>\n",
              "      <th>3</th>\n",
              "      <td>NaN</td>\n",
              "      <td>NaN</td>\n",
              "      <td>NaN</td>\n",
              "      <td>NaN</td>\n",
              "    </tr>\n",
              "    <tr>\n",
              "      <th>4</th>\n",
              "      <td>NaN</td>\n",
              "      <td>NaN</td>\n",
              "      <td>NaN</td>\n",
              "      <td>NaN</td>\n",
              "    </tr>\n",
              "    <tr>\n",
              "      <th>...</th>\n",
              "      <td>...</td>\n",
              "      <td>...</td>\n",
              "      <td>...</td>\n",
              "      <td>...</td>\n",
              "    </tr>\n",
              "    <tr>\n",
              "      <th>539260</th>\n",
              "      <td>NaN</td>\n",
              "      <td>NaN</td>\n",
              "      <td>NaN</td>\n",
              "      <td>NaN</td>\n",
              "    </tr>\n",
              "    <tr>\n",
              "      <th>539261</th>\n",
              "      <td>NaN</td>\n",
              "      <td>NaN</td>\n",
              "      <td>NaN</td>\n",
              "      <td>NaN</td>\n",
              "    </tr>\n",
              "    <tr>\n",
              "      <th>539262</th>\n",
              "      <td>NaN</td>\n",
              "      <td>NaN</td>\n",
              "      <td>NaN</td>\n",
              "      <td>NaN</td>\n",
              "    </tr>\n",
              "    <tr>\n",
              "      <th>539263</th>\n",
              "      <td>NaN</td>\n",
              "      <td>NaN</td>\n",
              "      <td>NaN</td>\n",
              "      <td>NaN</td>\n",
              "    </tr>\n",
              "    <tr>\n",
              "      <th>539264</th>\n",
              "      <td>NaN</td>\n",
              "      <td>NaN</td>\n",
              "      <td>NaN</td>\n",
              "      <td>NaN</td>\n",
              "    </tr>\n",
              "  </tbody>\n",
              "</table>\n",
              "<p>539265 rows × 4 columns</p>\n",
              "</div>\n",
              "    <div class=\"colab-df-buttons\">\n",
              "\n",
              "  <div class=\"colab-df-container\">\n",
              "    <button class=\"colab-df-convert\" onclick=\"convertToInteractive('df-80acda02-7c62-4f72-90a0-9be84b79d1b2')\"\n",
              "            title=\"Convert this dataframe to an interactive table.\"\n",
              "            style=\"display:none;\">\n",
              "\n",
              "  <svg xmlns=\"http://www.w3.org/2000/svg\" height=\"24px\" viewBox=\"0 -960 960 960\">\n",
              "    <path d=\"M120-120v-720h720v720H120Zm60-500h600v-160H180v160Zm220 220h160v-160H400v160Zm0 220h160v-160H400v160ZM180-400h160v-160H180v160Zm440 0h160v-160H620v160ZM180-180h160v-160H180v160Zm440 0h160v-160H620v160Z\"/>\n",
              "  </svg>\n",
              "    </button>\n",
              "\n",
              "  <style>\n",
              "    .colab-df-container {\n",
              "      display:flex;\n",
              "      gap: 12px;\n",
              "    }\n",
              "\n",
              "    .colab-df-convert {\n",
              "      background-color: #E8F0FE;\n",
              "      border: none;\n",
              "      border-radius: 50%;\n",
              "      cursor: pointer;\n",
              "      display: none;\n",
              "      fill: #1967D2;\n",
              "      height: 32px;\n",
              "      padding: 0 0 0 0;\n",
              "      width: 32px;\n",
              "    }\n",
              "\n",
              "    .colab-df-convert:hover {\n",
              "      background-color: #E2EBFA;\n",
              "      box-shadow: 0px 1px 2px rgba(60, 64, 67, 0.3), 0px 1px 3px 1px rgba(60, 64, 67, 0.15);\n",
              "      fill: #174EA6;\n",
              "    }\n",
              "\n",
              "    .colab-df-buttons div {\n",
              "      margin-bottom: 4px;\n",
              "    }\n",
              "\n",
              "    [theme=dark] .colab-df-convert {\n",
              "      background-color: #3B4455;\n",
              "      fill: #D2E3FC;\n",
              "    }\n",
              "\n",
              "    [theme=dark] .colab-df-convert:hover {\n",
              "      background-color: #434B5C;\n",
              "      box-shadow: 0px 1px 3px 1px rgba(0, 0, 0, 0.15);\n",
              "      filter: drop-shadow(0px 1px 2px rgba(0, 0, 0, 0.3));\n",
              "      fill: #FFFFFF;\n",
              "    }\n",
              "  </style>\n",
              "\n",
              "    <script>\n",
              "      const buttonEl =\n",
              "        document.querySelector('#df-80acda02-7c62-4f72-90a0-9be84b79d1b2 button.colab-df-convert');\n",
              "      buttonEl.style.display =\n",
              "        google.colab.kernel.accessAllowed ? 'block' : 'none';\n",
              "\n",
              "      async function convertToInteractive(key) {\n",
              "        const element = document.querySelector('#df-80acda02-7c62-4f72-90a0-9be84b79d1b2');\n",
              "        const dataTable =\n",
              "          await google.colab.kernel.invokeFunction('convertToInteractive',\n",
              "                                                    [key], {});\n",
              "        if (!dataTable) return;\n",
              "\n",
              "        const docLinkHtml = 'Like what you see? Visit the ' +\n",
              "          '<a target=\"_blank\" href=https://colab.research.google.com/notebooks/data_table.ipynb>data table notebook</a>'\n",
              "          + ' to learn more about interactive tables.';\n",
              "        element.innerHTML = '';\n",
              "        dataTable['output_type'] = 'display_data';\n",
              "        await google.colab.output.renderOutput(dataTable, element);\n",
              "        const docLink = document.createElement('div');\n",
              "        docLink.innerHTML = docLinkHtml;\n",
              "        element.appendChild(docLink);\n",
              "      }\n",
              "    </script>\n",
              "  </div>\n",
              "\n",
              "\n",
              "<div id=\"df-f831f616-af6b-4179-b548-4e956fe23fae\">\n",
              "  <button class=\"colab-df-quickchart\" onclick=\"quickchart('df-f831f616-af6b-4179-b548-4e956fe23fae')\"\n",
              "            title=\"Suggest charts\"\n",
              "            style=\"display:none;\">\n",
              "\n",
              "<svg xmlns=\"http://www.w3.org/2000/svg\" height=\"24px\"viewBox=\"0 0 24 24\"\n",
              "     width=\"24px\">\n",
              "    <g>\n",
              "        <path d=\"M19 3H5c-1.1 0-2 .9-2 2v14c0 1.1.9 2 2 2h14c1.1 0 2-.9 2-2V5c0-1.1-.9-2-2-2zM9 17H7v-7h2v7zm4 0h-2V7h2v10zm4 0h-2v-4h2v4z\"/>\n",
              "    </g>\n",
              "</svg>\n",
              "  </button>\n",
              "\n",
              "<style>\n",
              "  .colab-df-quickchart {\n",
              "      --bg-color: #E8F0FE;\n",
              "      --fill-color: #1967D2;\n",
              "      --hover-bg-color: #E2EBFA;\n",
              "      --hover-fill-color: #174EA6;\n",
              "      --disabled-fill-color: #AAA;\n",
              "      --disabled-bg-color: #DDD;\n",
              "  }\n",
              "\n",
              "  [theme=dark] .colab-df-quickchart {\n",
              "      --bg-color: #3B4455;\n",
              "      --fill-color: #D2E3FC;\n",
              "      --hover-bg-color: #434B5C;\n",
              "      --hover-fill-color: #FFFFFF;\n",
              "      --disabled-bg-color: #3B4455;\n",
              "      --disabled-fill-color: #666;\n",
              "  }\n",
              "\n",
              "  .colab-df-quickchart {\n",
              "    background-color: var(--bg-color);\n",
              "    border: none;\n",
              "    border-radius: 50%;\n",
              "    cursor: pointer;\n",
              "    display: none;\n",
              "    fill: var(--fill-color);\n",
              "    height: 32px;\n",
              "    padding: 0;\n",
              "    width: 32px;\n",
              "  }\n",
              "\n",
              "  .colab-df-quickchart:hover {\n",
              "    background-color: var(--hover-bg-color);\n",
              "    box-shadow: 0 1px 2px rgba(60, 64, 67, 0.3), 0 1px 3px 1px rgba(60, 64, 67, 0.15);\n",
              "    fill: var(--button-hover-fill-color);\n",
              "  }\n",
              "\n",
              "  .colab-df-quickchart-complete:disabled,\n",
              "  .colab-df-quickchart-complete:disabled:hover {\n",
              "    background-color: var(--disabled-bg-color);\n",
              "    fill: var(--disabled-fill-color);\n",
              "    box-shadow: none;\n",
              "  }\n",
              "\n",
              "  .colab-df-spinner {\n",
              "    border: 2px solid var(--fill-color);\n",
              "    border-color: transparent;\n",
              "    border-bottom-color: var(--fill-color);\n",
              "    animation:\n",
              "      spin 1s steps(1) infinite;\n",
              "  }\n",
              "\n",
              "  @keyframes spin {\n",
              "    0% {\n",
              "      border-color: transparent;\n",
              "      border-bottom-color: var(--fill-color);\n",
              "      border-left-color: var(--fill-color);\n",
              "    }\n",
              "    20% {\n",
              "      border-color: transparent;\n",
              "      border-left-color: var(--fill-color);\n",
              "      border-top-color: var(--fill-color);\n",
              "    }\n",
              "    30% {\n",
              "      border-color: transparent;\n",
              "      border-left-color: var(--fill-color);\n",
              "      border-top-color: var(--fill-color);\n",
              "      border-right-color: var(--fill-color);\n",
              "    }\n",
              "    40% {\n",
              "      border-color: transparent;\n",
              "      border-right-color: var(--fill-color);\n",
              "      border-top-color: var(--fill-color);\n",
              "    }\n",
              "    60% {\n",
              "      border-color: transparent;\n",
              "      border-right-color: var(--fill-color);\n",
              "    }\n",
              "    80% {\n",
              "      border-color: transparent;\n",
              "      border-right-color: var(--fill-color);\n",
              "      border-bottom-color: var(--fill-color);\n",
              "    }\n",
              "    90% {\n",
              "      border-color: transparent;\n",
              "      border-bottom-color: var(--fill-color);\n",
              "    }\n",
              "  }\n",
              "</style>\n",
              "\n",
              "  <script>\n",
              "    async function quickchart(key) {\n",
              "      const quickchartButtonEl =\n",
              "        document.querySelector('#' + key + ' button');\n",
              "      quickchartButtonEl.disabled = true;  // To prevent multiple clicks.\n",
              "      quickchartButtonEl.classList.add('colab-df-spinner');\n",
              "      try {\n",
              "        const charts = await google.colab.kernel.invokeFunction(\n",
              "            'suggestCharts', [key], {});\n",
              "      } catch (error) {\n",
              "        console.error('Error during call to suggestCharts:', error);\n",
              "      }\n",
              "      quickchartButtonEl.classList.remove('colab-df-spinner');\n",
              "      quickchartButtonEl.classList.add('colab-df-quickchart-complete');\n",
              "    }\n",
              "    (() => {\n",
              "      let quickchartButtonEl =\n",
              "        document.querySelector('#df-f831f616-af6b-4179-b548-4e956fe23fae button');\n",
              "      quickchartButtonEl.style.display =\n",
              "        google.colab.kernel.accessAllowed ? 'block' : 'none';\n",
              "    })();\n",
              "  </script>\n",
              "</div>\n",
              "\n",
              "    </div>\n",
              "  </div>\n"
            ]
          },
          "metadata": {},
          "execution_count": 4
        }
      ]
    },
    {
      "cell_type": "markdown",
      "source": [
        "## Selecting A Few Columns\n",
        "\n",
        "### Exercise 241: There are 4 columns which contain the word \"Player\" in them. Write the pandas command to print the `df` with just these 4 columns.\n"
      ],
      "metadata": {
        "id": "QGKCq23VeQO5"
      }
    },
    {
      "cell_type": "code",
      "source": [],
      "metadata": {
        "id": "ArtfV7NgLYtw"
      },
      "execution_count": 4,
      "outputs": []
    },
    {
      "cell_type": "markdown",
      "source": [
        "\n",
        "\n",
        "### Exercise 242: Create a New Column which shows the Total of the Away and the Home team scores.\n",
        "In other words, for each play, show the total of the points scored by both teams."
      ],
      "metadata": {
        "id": "NtkUZOa7LcaT"
      }
    },
    {
      "cell_type": "code",
      "source": [],
      "metadata": {
        "id": "BcGOhORZLX_N"
      },
      "execution_count": 4,
      "outputs": []
    },
    {
      "cell_type": "markdown",
      "source": [
        "##\tCreating New Columns\n",
        "\n"
      ],
      "metadata": {
        "id": "fRqUp72hRWCI"
      }
    },
    {
      "cell_type": "markdown",
      "source": [
        "\n",
        "### Exercise 243: Convert `SecLeft` to `MinutesRemaining`\n",
        "\n",
        "We want to know the minutes remaining in each Quarter. Convert the seconds left to minutes remaining, and use Integer number of minutes.\n",
        "\n",
        "For ex. if there 100 minutes left, show 2 minutes remaining.\n",
        "Hint: Look up `math.round()` to round the number of seconds to minutes\n",
        "\n",
        "Store 'MinutesRemaining' as a new column\n"
      ],
      "metadata": {
        "id": "s730F36CyPGZ"
      }
    },
    {
      "cell_type": "code",
      "source": [
        "\n"
      ],
      "metadata": {
        "id": "50WAUsQlLW7K"
      },
      "execution_count": 4,
      "outputs": []
    },
    {
      "cell_type": "markdown",
      "source": [
        "### Exercise 244: Drop some columns\n",
        "\n",
        "Drop the following columns from the dataframe, permanently.\n",
        "\n",
        "'TimeoutTeam',\n",
        "'FreeThrowShooter', 'FreeThrowOutcome',\n",
        "'FreeThrowNum',\n",
        "'EnterGame',\n",
        "'LeaveGame',\n",
        "        'JumpballAwayPlayer', 'JumpballHomePlayer',\n",
        "        'JumpballPoss', 'Unnamed: 40'\n"
      ],
      "metadata": {
        "id": "jYezeqkbzAj4"
      }
    },
    {
      "cell_type": "code",
      "source": [
        "\n"
      ],
      "metadata": {
        "id": "9IZ2Q3ZzLVWZ"
      },
      "execution_count": 4,
      "outputs": []
    },
    {
      "cell_type": "markdown",
      "source": [
        "## Rename Columns\n"
      ],
      "metadata": {
        "id": "XKBMPqZ3Rrzx"
      }
    },
    {
      "cell_type": "markdown",
      "source": [
        "\n",
        "### Exercise 245: Rename Columns to be easier to read\n",
        "\n",
        "Please make the following changes to the dataframe column Names.\n",
        "\n",
        "```\n",
        "OldName --> New Name\n",
        "\n",
        "Any column that has FreeThrow to be replaced with FT\n",
        "\n",
        "ex. FreeThrowNum --> FTNum etc.\n",
        "\n",
        "Also, change Tm --> Team\n",
        "```"
      ],
      "metadata": {
        "id": "8pqp2bo5CyfX"
      }
    },
    {
      "cell_type": "markdown",
      "source": [
        "### Exercise 6: Split the \"Results\" column to Create 2 New columns\n",
        "\n",
        "In the following df, split the goals to get goals for the Home and the Away Teams. You should have two additional Columns: \"Home Team Goals\" and \"Away Team Goals\".\n",
        "(Ex 3-2 becomes Home Team Goals 3 and  in the Away Team Goals 2 Column)\n",
        "\n"
      ],
      "metadata": {
        "id": "NYOdfNSPLNqn"
      }
    },
    {
      "cell_type": "code",
      "source": [
        "# Read the FIFA 2022 CSV files.\n",
        "url = \"https://raw.githubusercontent.com/OptimalDecisions/sports-analytics-foundations/main/data/fifa-world-cup-2022.csv\"\n",
        "df = pd.read_csv(url)"
      ],
      "metadata": {
        "id": "TNkApDd-PUg5"
      },
      "execution_count": 10,
      "outputs": []
    },
    {
      "cell_type": "code",
      "source": [
        "#Your code to spilt the Results column here"
      ],
      "metadata": {
        "id": "d-FMA0Mq4M1E"
      },
      "execution_count": 14,
      "outputs": []
    }
  ]
}