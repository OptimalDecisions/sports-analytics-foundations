{
  "nbformat": 4,
  "nbformat_minor": 0,
  "metadata": {
    "colab": {
      "provenance": [],
      "authorship_tag": "ABX9TyNpKp1nZzijCTMWWYag3NEw",
      "include_colab_link": true
    },
    "kernelspec": {
      "name": "python3",
      "display_name": "Python 3"
    },
    "language_info": {
      "name": "python"
    }
  },
  "cells": [
    {
      "cell_type": "markdown",
      "metadata": {
        "id": "view-in-github",
        "colab_type": "text"
      },
      "source": [
        "<a href=\"https://colab.research.google.com/github/OptimalDecisions/sports-analytics-foundations/blob/main/pandas-basics/Pandas_Basics_2_3_Exploring_Data.ipynb\" target=\"_parent\"><img src=\"https://colab.research.google.com/assets/colab-badge.svg\" alt=\"Open In Colab\"/></a>"
      ]
    },
    {
      "cell_type": "markdown",
      "source": [
        "## Pandas Basics 2.3\n"
      ],
      "metadata": {
        "id": "RCGm6i1OweoF"
      }
    },
    {
      "cell_type": "markdown",
      "source": [
        "\n",
        "  # Examining, Describing & Summarizing Data\n",
        "\n",
        "  <img src = \"../img/sa_logo.png\" width=\"100\" align=\"left\">\n",
        "\n",
        "  Ram Narasimhan\n",
        "\n",
        "  <br><br><br>\n",
        "\n",
        "  << [Reading Data from files](Pandas_Basics_2_2_Reading_Files.ipynb)|[Examining, Describing & Summarizing Data](Pandas_Basics_2_3_Exploring_Data.ipynb) | [Column Operations](Pandas_Basics_2_4_Column_Operations.ipynb) >>\n",
        "\n"
      ],
      "metadata": {
        "id": "IKiCqunMwoFp"
      }
    },
    {
      "cell_type": "markdown",
      "source": [
        "## Show (print) a dataframe"
      ],
      "metadata": {
        "id": "25W-9E6tw_ME"
      }
    },
    {
      "cell_type": "markdown",
      "source": [
        "## Shape of a Dataframe"
      ],
      "metadata": {
        "id": "k6zNwJY5w8Te"
      }
    },
    {
      "cell_type": "markdown",
      "source": [
        "## `head()` and `tail()`"
      ],
      "metadata": {
        "id": "mjb0SVZuwqiE"
      }
    },
    {
      "cell_type": "markdown",
      "source": [
        "## Describe"
      ],
      "metadata": {
        "id": "YoEbwfBZwx0J"
      }
    },
    {
      "cell_type": "markdown",
      "source": [
        "## List Columns"
      ],
      "metadata": {
        "id": "rcN4JAmkw1Dw"
      }
    },
    {
      "cell_type": "markdown",
      "source": [
        "## Sum of Columns"
      ],
      "metadata": {
        "id": "R93z3WYjw3ZI"
      }
    },
    {
      "cell_type": "markdown",
      "source": [
        "## Mean and Standar deviations (of columns)"
      ],
      "metadata": {
        "id": "1rDXVBurxFHu"
      }
    },
    {
      "cell_type": "markdown",
      "source": [
        "\n",
        "<< [Reading Data from files](Pandas_Basics_2_2_Reading_Files.ipynb)|[Examining, Describing & Summarizing Data](Pandas_Basics_2_3_Exploring_Data.ipynb) | [Column Operations](Pandas_Basics_2_4_Column_Operations.ipynb) >>"
      ],
      "metadata": {
        "id": "V5MDv8EEwmsN"
      }
    }
  ]
}