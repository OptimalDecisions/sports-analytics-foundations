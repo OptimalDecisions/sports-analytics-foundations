{
  "nbformat": 4,
  "nbformat_minor": 0,
  "metadata": {
    "colab": {
      "provenance": [],
      "authorship_tag": "ABX9TyPvNr/VqTzqyNrpch1qNJIZ",
      "include_colab_link": true
    },
    "kernelspec": {
      "name": "python3",
      "display_name": "Python 3"
    },
    "language_info": {
      "name": "python"
    }
  },
  "cells": [
    {
      "cell_type": "markdown",
      "metadata": {
        "id": "view-in-github",
        "colab_type": "text"
      },
      "source": [
        "<a href=\"https://colab.research.google.com/github/OptimalDecisions/sports-analytics-foundations/blob/main/pandas-basics/Pandas_Intermediate_2_9_Merging_DataFrames.ipynb\" target=\"_parent\"><img src=\"https://colab.research.google.com/assets/colab-badge.svg\" alt=\"Open In Colab\"/></a>"
      ]
    },
    {
      "cell_type": "markdown",
      "source": [
        " ## Pandas Basics 2.9\n"
      ],
      "metadata": {
        "id": "mzL9fK_rUu1P"
      }
    },
    {
      "cell_type": "markdown",
      "source": [
        "\n",
        "  # Merging Dataframes\n",
        "\n",
        "  <img src = \"../img/sa_logo.png\" width=\"100\" align=\"left\">\n",
        "\n",
        "  Ram Narasimhan\n",
        "\n",
        "  <br><br><br>\n",
        "\n",
        "  << [Time Series](Pandas_Intermediate_2_8_Time_Series.ipynb) | [Merging Dataframes](Pandas_Intermediate_2_9_Merging_DataFrames.ipynb) | [GroupBy](Pandas_Intermediate_2_10_GroupBy.ipynb) >>\n"
      ],
      "metadata": {
        "id": "pOC-zflIU13H"
      }
    },
    {
      "cell_type": "markdown",
      "source": [
        "## Basic Merge on a Common Column"
      ],
      "metadata": {
        "id": "sOSpBnaXU3k6"
      }
    },
    {
      "cell_type": "markdown",
      "source": [
        "\n",
        "\n",
        "<< [Time Series](Pandas_Intermediate_2_8_Time_Series.ipynb) | [Merging Dataframes](Pandas_Intermediate_2_9_Merging_DataFrames.ipynb) | [GroupBy](Pandas_Intermediate_2_10_GroupBy.ipynb) >>"
      ],
      "metadata": {
        "id": "Khybu9zEU3Co"
      }
    }
  ]
}