{
  "nbformat": 4,
  "nbformat_minor": 0,
  "metadata": {
    "colab": {
      "provenance": [],
      "authorship_tag": "ABX9TyOBrGJ+vlAOBsbf2f1Wubgw",
      "include_colab_link": true
    },
    "kernelspec": {
      "name": "python3",
      "display_name": "Python 3"
    },
    "language_info": {
      "name": "python"
    }
  },
  "cells": [
    {
      "cell_type": "markdown",
      "metadata": {
        "id": "view-in-github",
        "colab_type": "text"
      },
      "source": [
        "<a href=\"https://colab.research.google.com/github/OptimalDecisions/sports-analytics-foundations/blob/main/pandas-basics/Pandas_Basics_2_7_Writing_to_Files.ipynb\" target=\"_parent\"><img src=\"https://colab.research.google.com/assets/colab-badge.svg\" alt=\"Open In Colab\"/></a>"
      ]
    },
    {
      "cell_type": "markdown",
      "source": [
        "  ## Pandas Basics 2.7\n"
      ],
      "metadata": {
        "id": "h4aZL3OvTKQ-"
      }
    },
    {
      "cell_type": "markdown",
      "source": [
        "\n",
        "  # Writing to Files\n",
        "\n",
        "  <img src = \"../img/sa_logo.png\" width=\"100\" align=\"left\">\n",
        "\n",
        "  Ram Narasimhan\n",
        "\n",
        "  <br><br><br>\n",
        "\n",
        "  << [Sorting](Pandas_Basics_2_6_Sorting.ipynb) | [Writing to Files](Pandas_Basics_2_7_Writing_to_Files.ipynb) | [Time Series](Pandas_Intermediate_2_8_Time_Series.ipynb) >>\n"
      ],
      "metadata": {
        "id": "pU157eVaTQKy"
      }
    },
    {
      "cell_type": "markdown",
      "source": [
        "## Saving a Data Frame as a CSV file\n",
        "\n"
      ],
      "metadata": {
        "id": "hva6v9_PTR3y"
      }
    },
    {
      "cell_type": "markdown",
      "source": [
        "## Saving a Data Frame without the `index`\n"
      ],
      "metadata": {
        "id": "49hZpx0uTlUT"
      }
    },
    {
      "cell_type": "markdown",
      "source": [
        "\n",
        "## Saving a Dataframe in other formats"
      ],
      "metadata": {
        "id": "p4lxJnRCTkEt"
      }
    },
    {
      "cell_type": "markdown",
      "source": [
        "\n",
        "\n",
        "<< [Sorting](Pandas_Basics_2_6_Sorting.ipynb) | [Writing to Files](Pandas_Basics_2_7_Writing_to_Files.ipynb) | [Time Series](Pandas_Intermediate_2_8_Time_Series.ipynb) >>"
      ],
      "metadata": {
        "id": "SnjLywCVTRk_"
      }
    }
  ]
}