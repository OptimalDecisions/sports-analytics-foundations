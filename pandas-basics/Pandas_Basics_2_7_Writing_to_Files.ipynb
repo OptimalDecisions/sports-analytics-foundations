{
  "nbformat": 4,
  "nbformat_minor": 0,
  "metadata": {
    "colab": {
      "provenance": [],
      "authorship_tag": "ABX9TyNdA5K5py3AOO/S9cQVnhbt",
      "include_colab_link": true
    },
    "kernelspec": {
      "name": "python3",
      "display_name": "Python 3"
    },
    "language_info": {
      "name": "python"
    }
  },
  "cells": [
    {
      "cell_type": "markdown",
      "metadata": {
        "id": "view-in-github",
        "colab_type": "text"
      },
      "source": [
        "<a href=\"https://colab.research.google.com/github/OptimalDecisions/sports-analytics-foundations/blob/main/pandas-basics/Pandas_Basics_2_7_Writing_to_Files.ipynb\" target=\"_parent\"><img src=\"https://colab.research.google.com/assets/colab-badge.svg\" alt=\"Open In Colab\"/></a>"
      ]
    },
    {
      "cell_type": "markdown",
      "source": [
        "  ## Pandas Basics 2.7\n"
      ],
      "metadata": {
        "id": "h4aZL3OvTKQ-"
      }
    },
    {
      "cell_type": "markdown",
      "source": [
        "\n",
        "  # Writing to Files\n",
        "\n",
        "  <img src = \"../img/sa_logo.png\" width=\"100\" align=\"left\">\n",
        "\n",
        "  Ram Narasimhan\n",
        "\n",
        "  <br><br><br>\n",
        "\n",
        "  << [Sorting](Pandas_Basics_2_6_Sorting.ipynb) | [Writing to Files](Pandas_Basics_2_7_Writing_to_Files.ipynb) | [Time Series](Pandas_Intermediate_2_8_Time_Series.ipynb) >>\n"
      ],
      "metadata": {
        "id": "pU157eVaTQKy"
      }
    },
    {
      "cell_type": "markdown",
      "source": [
        "Topics Covered:\n",
        "\n",
        "- writing to files as CSV (most commonly used)\n",
        "- writing without index\n",
        "- writing to other formats such as JSON, Parquet etc."
      ],
      "metadata": {
        "id": "8mnhItT6czkW"
      }
    },
    {
      "cell_type": "markdown",
      "source": [
        "Writing sports data to files in Pandas is a straightforward process.\n",
        "\n",
        "The `to_csv()` method allows you to save DataFrames as CSV files, and you can control whether to include the index. Setting `index=False` ensures a  cleaner CSV output.\n",
        "\n",
        "Additionally, Pandas provides support for writing to other formats like `JSON`, allowing us to store our results data in various file types.\n"
      ],
      "metadata": {
        "id": "TXnht8-HcS-S"
      }
    },
    {
      "cell_type": "markdown",
      "source": [
        "## Saving a Data Frame as a CSV file\n",
        "\n"
      ],
      "metadata": {
        "id": "hva6v9_PTR3y"
      }
    },
    {
      "cell_type": "markdown",
      "source": [
        "When saving a DataFrame to a CSV file, the default behavior is to include the inde"
      ],
      "metadata": {
        "id": "ZaC4-t7gdMg4"
      }
    },
    {
      "cell_type": "code",
      "source": [
        "import pandas as pd\n",
        "\n",
        "# Sample DataFrame with NBA player statistics\n",
        "data_nba = {\n",
        "    'Player': ['LeBron James', 'Stephen Curry', 'Kevin Durant'],\n",
        "    'Points_Per_Game': [25.0, 28.2, 27.3],\n",
        "    'Assists_Per_Game': [8.1, 6.2, 5.5],\n",
        "}\n",
        "\n",
        "df_nba = pd.DataFrame(data_nba)\n",
        "\n",
        "# Writing NBA player stats to CSV with index\n",
        "df_nba.to_csv('nba_stats_with_index.csv')"
      ],
      "metadata": {
        "id": "0QOmnpZ8dLfd"
      },
      "execution_count": null,
      "outputs": []
    },
    {
      "cell_type": "markdown",
      "source": [
        "In the example above, the `to_csv()` method is used to write the DataFrame to a CSV file. By default, this includes the index in the output."
      ],
      "metadata": {
        "id": "HGGKDkOmdcMC"
      }
    },
    {
      "cell_type": "markdown",
      "source": [
        "## Saving a Data Frame without the `index`\n"
      ],
      "metadata": {
        "id": "49hZpx0uTlUT"
      }
    },
    {
      "cell_type": "markdown",
      "source": [
        "Often, we may not want the index in the output file.\n",
        "\n",
        "To write a DataFrame to a CSV file without including the index, set `index=False`\n",
        "\n"
      ],
      "metadata": {
        "id": "zF05E0xDcnDW"
      }
    },
    {
      "cell_type": "code",
      "source": [
        "# Writing NBA player stats to CSV without index\n",
        "df_nba.to_csv('nba_stats_without_index.csv', index=False)"
      ],
      "metadata": {
        "id": "MJCiY2hvdziq"
      },
      "execution_count": null,
      "outputs": []
    },
    {
      "cell_type": "markdown",
      "source": [
        "Setting `index=False` ensures that the CSV file does not contain an additional column for the index values."
      ],
      "metadata": {
        "id": "LlpA0S5gd0D3"
      }
    },
    {
      "cell_type": "markdown",
      "source": [
        "\n",
        "## Saving a Dataframe in other formats"
      ],
      "metadata": {
        "id": "p4lxJnRCTkEt"
      }
    },
    {
      "cell_type": "markdown",
      "source": [
        "### Writing to JSON\n",
        "\n",
        "Pandas supports writing DataFrames to JSON format\n",
        "\n"
      ],
      "metadata": {
        "id": "nZdKmU2teEtV"
      }
    },
    {
      "cell_type": "code",
      "source": [
        "# Sample DataFrame with soccer player data\n",
        "data_soccer = {\n",
        "    'Player_Name': ['Messi', 'Ronaldo', 'Neymar'],\n",
        "    'Goals_Scored': [30, 28, 18],\n",
        "    'Assists': [10, 5, 8],\n",
        "}\n",
        "\n",
        "df_soccer = pd.DataFrame(data_soccer)\n",
        "\n",
        "# Writing soccer player stats to JSON\n",
        "df_soccer.to_json('soccer_stats.json', orient='records')\n"
      ],
      "metadata": {
        "id": "_QdNJG0UeKMD"
      },
      "execution_count": null,
      "outputs": []
    },
    {
      "cell_type": "code",
      "source": [
        "json_string_pretty = df_soccer.to_json(orient='records', indent=2)\n",
        "print(json_string_pretty)\n"
      ],
      "metadata": {
        "id": "xxVX8TYZeZSD",
        "outputId": "baed7eb0-ee33-49fd-d9b7-80ceb65a9fd1",
        "colab": {
          "base_uri": "https://localhost:8080/"
        }
      },
      "execution_count": null,
      "outputs": [
        {
          "output_type": "stream",
          "name": "stdout",
          "text": [
            "[\n",
            "  {\n",
            "    \"Player_Name\":\"Messi\",\n",
            "    \"Goals_Scored\":30,\n",
            "    \"Assists\":10\n",
            "  },\n",
            "  {\n",
            "    \"Player_Name\":\"Ronaldo\",\n",
            "    \"Goals_Scored\":28,\n",
            "    \"Assists\":5\n",
            "  },\n",
            "  {\n",
            "    \"Player_Name\":\"Neymar\",\n",
            "    \"Goals_Scored\":18,\n",
            "    \"Assists\":8\n",
            "  }\n",
            "]\n"
          ]
        }
      ]
    },
    {
      "cell_type": "markdown",
      "source": [
        "The `to_json()` method is used to write the DataFrame to a JSON file. The orient='records' argument specifies the format of the JSON output."
      ],
      "metadata": {
        "id": "cfILQ8XleD_r"
      }
    },
    {
      "cell_type": "markdown",
      "source": [
        "### Excel (XLSX):\n",
        "\n",
        "Pandas provides support for writing DataFrames to Excel files using the `to_excel()` method. This is useful for creating Excel spreadsheets with your data."
      ],
      "metadata": {
        "id": "cQGlikEefEB7"
      }
    },
    {
      "cell_type": "code",
      "source": [
        "# Writing to Excel\n",
        "df_nba.to_excel('output.xlsx', index=False)"
      ],
      "metadata": {
        "id": "NkgsSoqie_VW"
      },
      "execution_count": null,
      "outputs": []
    },
    {
      "cell_type": "markdown",
      "source": [
        "\n",
        "By mastering these techniques, you'll be able to export your sports analytics results and share them with others in a format that suits your needs."
      ],
      "metadata": {
        "id": "WyCwwfddcPtH"
      }
    },
    {
      "cell_type": "markdown",
      "source": [
        "\n",
        "\n",
        "<< [2.6 Sorting](Pandas_Basics_2_6_Sorting.ipynb) | [2.7 Writing to Files](Pandas_Basics_2_7_Writing_to_Files.ipynb) | [2.8 Time Series](Pandas_Intermediate_2_8_Time_Series.ipynb) >>"
      ],
      "metadata": {
        "id": "SnjLywCVTRk_"
      }
    }
  ]
}