{
  "nbformat": 4,
  "nbformat_minor": 0,
  "metadata": {
    "colab": {
      "provenance": [],
      "authorship_tag": "ABX9TyMwvgTY697Dvt7R08r9fWxK",
      "include_colab_link": true
    },
    "kernelspec": {
      "name": "python3",
      "display_name": "Python 3"
    },
    "language_info": {
      "name": "python"
    }
  },
  "cells": [
    {
      "cell_type": "markdown",
      "metadata": {
        "id": "view-in-github",
        "colab_type": "text"
      },
      "source": [
        "<a href=\"https://colab.research.google.com/github/OptimalDecisions/sports-analytics-foundations/blob/main/pandas-basics/Pandas_Intermediate_2_10_GroupBy.ipynb\" target=\"_parent\"><img src=\"https://colab.research.google.com/assets/colab-badge.svg\" alt=\"Open In Colab\"/></a>"
      ]
    },
    {
      "cell_type": "markdown",
      "source": [
        "  ## Pandas Basics 2.10\n"
      ],
      "metadata": {
        "id": "3Jk9Yx0tVW8W"
      }
    },
    {
      "cell_type": "markdown",
      "source": [
        "\n",
        "  # GroupBy\n",
        "\n",
        "  <img src = \"../img/sa_logo.png\" width=\"100\" align=\"left\">\n",
        "\n",
        "  Ram Narasimhan\n",
        "\n",
        "  <br><br><br>\n",
        "\n",
        "  << [Merging Dataframes](Pandas_Intermediate_2_9_Merging_DataFrames.ipynb) | [GroupBy](Pandas_Intermediate_2_10_GroupBy.ipynb)  >>\n",
        "\n",
        "\n"
      ],
      "metadata": {
        "id": "ewhP3DEZVbqx"
      }
    },
    {
      "cell_type": "markdown",
      "source": [
        "## Split - Aggregate - Combine\n"
      ],
      "metadata": {
        "id": "Aet2TEu_VlJ_"
      }
    },
    {
      "cell_type": "markdown",
      "source": [
        "\n",
        "## Group by one Column\n"
      ],
      "metadata": {
        "id": "I2NLXuCNV2v_"
      }
    },
    {
      "cell_type": "markdown",
      "source": [
        "\n",
        "## Group by Multiple Columns\n"
      ],
      "metadata": {
        "id": "VlShJ0r8V3_l"
      }
    },
    {
      "cell_type": "markdown",
      "source": [
        "\n",
        "## Flatten Indices"
      ],
      "metadata": {
        "id": "nrfOIQJFV5GW"
      }
    },
    {
      "cell_type": "markdown",
      "source": [
        "\n",
        "\n",
        "<< [Merging Dataframes](Pandas_Intermediate_2_9_Merging_DataFrames.ipynb) | [GroupBy](Pandas_Intermediate_2_10_GroupBy.ipynb)  >>"
      ],
      "metadata": {
        "id": "XXJtI6JIVc0y"
      }
    }
  ]
}