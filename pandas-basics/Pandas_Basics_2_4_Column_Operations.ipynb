{
  "nbformat": 4,
  "nbformat_minor": 0,
  "metadata": {
    "colab": {
      "provenance": [],
      "toc_visible": true,
      "authorship_tag": "ABX9TyOyR+exHOnSC9VowXnwwynf",
      "include_colab_link": true
    },
    "kernelspec": {
      "name": "python3",
      "display_name": "Python 3"
    },
    "language_info": {
      "name": "python"
    }
  },
  "cells": [
    {
      "cell_type": "markdown",
      "metadata": {
        "id": "view-in-github",
        "colab_type": "text"
      },
      "source": [
        "<a href=\"https://colab.research.google.com/github/OptimalDecisions/sports-analytics-foundations/blob/main/pandas-basics/Pandas_Basics_2_4_Column_Operations.ipynb\" target=\"_parent\"><img src=\"https://colab.research.google.com/assets/colab-badge.svg\" alt=\"Open In Colab\"/></a>"
      ]
    },
    {
      "cell_type": "markdown",
      "source": [
        "## Pandas Basics 2.4"
      ],
      "metadata": {
        "id": "oQZTaY0EPqOR"
      }
    },
    {
      "cell_type": "markdown",
      "source": [
        "# Column Operations\n",
        "\n",
        "  <img src = \"../img/sa_logo.png\" width=\"100\" align=\"left\">\n",
        "\n",
        "  Ram Narasimhan\n",
        "\n",
        "  <br><br><br>\n",
        "\n",
        "  << [Examining, Describing & Summarizing Data](Pandas_Basics_2_3_Exploring_Data.ipynb)|[Column Operations](Pandas_Basics_2_4_Column_Operations.ipynb) | [Filtering using Conditions](Pandas_Basics_2_5_Filtering_Data.ipynb) >>\n",
        "\n"
      ],
      "metadata": {
        "id": "1f95AV7dPwf5"
      }
    },
    {
      "cell_type": "markdown",
      "source": [
        "## Selecting Columns"
      ],
      "metadata": {
        "id": "hVskhrdWQhWo"
      }
    },
    {
      "cell_type": "markdown",
      "source": [
        "## \tAdding columns\n"
      ],
      "metadata": {
        "id": "U6keGQtOP0oq"
      }
    },
    {
      "cell_type": "markdown",
      "source": [
        "## \tCreate new columns\n"
      ],
      "metadata": {
        "id": "t9xiCbO8QXRr"
      }
    },
    {
      "cell_type": "markdown",
      "source": [
        "## \tDrop Columns\n"
      ],
      "metadata": {
        "id": "hxXfkHjeQWHR"
      }
    },
    {
      "cell_type": "markdown",
      "source": [
        "## \tRename columns\n"
      ],
      "metadata": {
        "id": "qOeTCaSNQTyK"
      }
    },
    {
      "cell_type": "markdown",
      "source": [
        "## \t.apply()"
      ],
      "metadata": {
        "id": "FO13gSTzQSqD"
      }
    },
    {
      "cell_type": "markdown",
      "source": [
        "\n",
        "<< [Examining, Describing & Summarizing Data](Pandas_Basics_2_3_Exploring_Data.ipynb)|[Column Operations](Pandas_Basics_2_4_Column_Operations.ipynb) | [Filtering using Conditions](Pandas_Basics_2_5_Filtering_Data.ipynb) >>"
      ],
      "metadata": {
        "id": "S0lj7XnsPzT0"
      }
    }
  ]
}