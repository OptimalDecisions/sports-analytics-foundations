{
  "nbformat": 4,
  "nbformat_minor": 0,
  "metadata": {
    "colab": {
      "provenance": [],
      "toc_visible": true,
      "authorship_tag": "ABX9TyMSIq6GW0/aCKkbUK2IEQIT",
      "include_colab_link": true
    },
    "kernelspec": {
      "name": "python3",
      "display_name": "Python 3"
    },
    "language_info": {
      "name": "python"
    }
  },
  "cells": [
    {
      "cell_type": "markdown",
      "metadata": {
        "id": "view-in-github",
        "colab_type": "text"
      },
      "source": [
        "<a href=\"https://colab.research.google.com/github/OptimalDecisions/sports-analytics-foundations/blob/main/pandas-basics/Pandas_Basics_2_1_Data_Structures.ipynb\" target=\"_parent\"><img src=\"https://colab.research.google.com/assets/colab-badge.svg\" alt=\"Open In Colab\"/></a>"
      ]
    },
    {
      "cell_type": "markdown",
      "source": [
        " ## Pandas Basics 2.1\n"
      ],
      "metadata": {
        "id": "Ww2LVVl7tmW_"
      }
    },
    {
      "cell_type": "markdown",
      "source": [
        "\n",
        "# Data Structures\n",
        "\n",
        "  <img src = \"../img/sa_logo.png\" width=\"100\" align=\"left\">\n",
        "\n",
        "  Ram Narasimhan\n",
        "\n",
        "  <br><br><br>\n",
        "\n",
        "  << [GroupBy](Pandas_Intermediate_2_10_GroupBy.ipynb)|[Data Structures](Pandas_Basics_2_1_Data_Structures.ipynb) | [Reading Data from files](Pandas_Basics_2_2_Reading_Files.ipynb) >>\n",
        "\n",
        "\n"
      ],
      "metadata": {
        "id": "W9dQL4MMuAPB"
      }
    },
    {
      "cell_type": "markdown",
      "source": [
        "## Series\n",
        "\n"
      ],
      "metadata": {
        "id": "UOSBZM8kty4-"
      }
    },
    {
      "cell_type": "markdown",
      "source": [
        "### Values and index"
      ],
      "metadata": {
        "id": "6-o0qH0UuR71"
      }
    },
    {
      "cell_type": "markdown",
      "source": [
        "## Data Frames"
      ],
      "metadata": {
        "id": "brRwk7nMt3kn"
      }
    },
    {
      "cell_type": "markdown",
      "source": [
        "### Values and index"
      ],
      "metadata": {
        "id": "jDfzfqSMufqt"
      }
    },
    {
      "cell_type": "markdown",
      "source": [
        "\n",
        "<< [GroupBy](Pandas_Intermediate_2_10_GroupBy.ipynb)|[Data Structures](Pandas_Basics_2_1_Data_Structures.ipynb) | [Reading Data from files](Pandas_Basics_2_2_Reading_Files.ipynb) >>"
      ],
      "metadata": {
        "id": "uURMZamHtqGh"
      }
    },
    {
      "cell_type": "code",
      "source": [],
      "metadata": {
        "id": "q4J12jostsz5"
      },
      "execution_count": null,
      "outputs": []
    }
  ]
}