{
  "nbformat": 4,
  "nbformat_minor": 0,
  "metadata": {
    "colab": {
      "provenance": [],
      "toc_visible": true,
      "authorship_tag": "ABX9TyPK8mKteRg5mMLXjP8uiguo",
      "include_colab_link": true
    },
    "kernelspec": {
      "name": "python3",
      "display_name": "Python 3"
    },
    "language_info": {
      "name": "python"
    }
  },
  "cells": [
    {
      "cell_type": "markdown",
      "metadata": {
        "id": "view-in-github",
        "colab_type": "text"
      },
      "source": [
        "<a href=\"https://colab.research.google.com/github/OptimalDecisions/sports-analytics-foundations/blob/main/pandas-basics/Pandas_Basics_2_1_Data_Structures.ipynb\" target=\"_parent\"><img src=\"https://colab.research.google.com/assets/colab-badge.svg\" alt=\"Open In Colab\"/></a>"
      ]
    },
    {
      "cell_type": "markdown",
      "source": [
        " ## Pandas Basics 2.1\n"
      ],
      "metadata": {
        "id": "Ww2LVVl7tmW_"
      }
    },
    {
      "cell_type": "markdown",
      "source": [
        "\n",
        "# Data Structures\n",
        "\n",
        "  <img src = \"../img/sa_logo.png\" width=\"100\" align=\"left\">\n",
        "\n",
        "  Ram Narasimhan\n",
        "\n",
        "  <br><br><br>\n",
        "\n",
        "  << [GroupBy](Pandas_Intermediate_2_10_GroupBy.ipynb)|[Data Structures](Pandas_Basics_2_1_Data_Structures.ipynb) | [Reading Data from files](Pandas_Basics_2_2_Reading_Files.ipynb) >>\n",
        "\n",
        "\n"
      ],
      "metadata": {
        "id": "W9dQL4MMuAPB"
      }
    },
    {
      "cell_type": "markdown",
      "source": [
        "## Series\n",
        "\n",
        "In Pandas, a Series is a one-dimensional labeled array capable of holding any data type. It can be thought of as a column in a spreadsheet, a single column of data with an associated label or index.\n"
      ],
      "metadata": {
        "id": "UOSBZM8kty4-"
      }
    },
    {
      "cell_type": "code",
      "source": [
        "players = pd.Series(['Pele', 'Lionel Messi', 'Cristiano Ronaldo', 'Diego Maradona', 'Zinedine Zidane', 'Thierry Henry', 'Ronaldo Nazario'])\n",
        "\n",
        "# Print the series\n",
        "print(players)"
      ],
      "metadata": {
        "id": "7DeGrpL-36a-",
        "outputId": "4afdb34a-e3f6-40e6-edc7-ccec3433cbcc",
        "colab": {
          "base_uri": "https://localhost:8080/"
        }
      },
      "execution_count": 14,
      "outputs": [
        {
          "output_type": "stream",
          "name": "stdout",
          "text": [
            "0                 Pele\n",
            "1         Lionel Messi\n",
            "2    Cristiano Ronaldo\n",
            "3       Diego Maradona\n",
            "4      Zinedine Zidane\n",
            "5        Thierry Henry\n",
            "6      Ronaldo Nazario\n",
            "dtype: object\n"
          ]
        }
      ]
    },
    {
      "cell_type": "markdown",
      "source": [
        "### Values and index\n",
        "\n",
        "**Values**\n",
        "\n",
        "The values in a Pandas Series represent the actual data. These can be of any data type, including integers, floats, strings, or even more complex objects like other Pandas objects."
      ],
      "metadata": {
        "id": "6-o0qH0UuR71"
      }
    },
    {
      "cell_type": "code",
      "source": [
        "players.values"
      ],
      "metadata": {
        "id": "g-wYd5ur4Lcs",
        "outputId": "b635cb17-5761-4fc4-e9d5-bea5625b1fe1",
        "colab": {
          "base_uri": "https://localhost:8080/"
        }
      },
      "execution_count": 15,
      "outputs": [
        {
          "output_type": "execute_result",
          "data": {
            "text/plain": [
              "array(['Pele', 'Lionel Messi', 'Cristiano Ronaldo', 'Diego Maradona',\n",
              "       'Zinedine Zidane', 'Thierry Henry', 'Ronaldo Nazario'],\n",
              "      dtype=object)"
            ]
          },
          "metadata": {},
          "execution_count": 15
        }
      ]
    },
    {
      "cell_type": "markdown",
      "source": [
        "**Index**\n",
        "\n",
        "The index in a Pandas Series provides labels for each value. It's similar to `row labels` in a spreadsheet or the keys in a dictionary.\n",
        "\n",
        "By default, if you don't specify an index, Pandas will create a default integer-based index starting from 0. However, you can set a custom index based on your needs.\n",
        "\n",
        "In the example below, the default integer index is assigned to the player names"
      ],
      "metadata": {
        "id": "86WCKsca5I_M"
      }
    },
    {
      "cell_type": "code",
      "source": [
        "print(players.index)"
      ],
      "metadata": {
        "id": "4ui2SQSd4N-6",
        "outputId": "3ea36b24-cc06-4a98-c243-dee2776b325d",
        "colab": {
          "base_uri": "https://localhost:8080/"
        }
      },
      "execution_count": 19,
      "outputs": [
        {
          "output_type": "stream",
          "name": "stdout",
          "text": [
            "RangeIndex(start=0, stop=7, step=1)\n"
          ]
        }
      ]
    },
    {
      "cell_type": "markdown",
      "source": [
        "We can use the `index` to refer to a particular element in this series. We use square brackets to access by index"
      ],
      "metadata": {
        "id": "ed4QBELO4fHH"
      }
    },
    {
      "cell_type": "code",
      "source": [
        "players[3]"
      ],
      "metadata": {
        "id": "gszR52yV4otz",
        "outputId": "2f1f9071-4196-49b9-ab15-970cb1641106",
        "colab": {
          "base_uri": "https://localhost:8080/",
          "height": 36
        }
      },
      "execution_count": 20,
      "outputs": [
        {
          "output_type": "execute_result",
          "data": {
            "text/plain": [
              "'Diego Maradona'"
            ],
            "application/vnd.google.colaboratory.intrinsic+json": {
              "type": "string"
            }
          },
          "metadata": {},
          "execution_count": 20
        }
      ]
    },
    {
      "cell_type": "markdown",
      "source": [
        "## Data Frames"
      ],
      "metadata": {
        "id": "brRwk7nMt3kn"
      }
    },
    {
      "cell_type": "code",
      "source": [
        "import pandas as pd\n",
        "\n",
        "data = {\n",
        "    'Player': ['Pele', 'Lionel Messi', 'Cristiano Ronaldo', 'Diego Maradona', 'Zinedine Zidane', 'Thierry Henry', 'Ronaldo Nazario'],\n",
        "    'Country': ['Brazil', 'Argentina', 'Portugal', 'Argentina', 'France', 'France', 'Brazil'],\n",
        "    'Lifetime Goals': [1283, 821, 890, 345, 126, 360, 352],  # These numbers are approximations and need verification\n",
        "    'Retirement': [1977, None, None, 1997, 2006, 2014, 2011],  # Update with the actual retirement years\n",
        "    'World Cup Wins': [3, 1, 0, 1, 1, 1, 2]  # Update with the actual number of World Cup wins\n",
        "}\n",
        "\n",
        "\n",
        "df = pd.DataFrame(data)\n",
        "\n",
        "#print the result\n",
        "print(df)\n"
      ],
      "metadata": {
        "id": "Mwue5dbV1bhM",
        "outputId": "560c3d5c-1bf0-458a-b63f-b62563b0ed82",
        "colab": {
          "base_uri": "https://localhost:8080/"
        }
      },
      "execution_count": 9,
      "outputs": [
        {
          "output_type": "stream",
          "name": "stdout",
          "text": [
            "              Player    Country  Lifetime Goals  Retirement  World Cup Wins\n",
            "0               Pele     Brazil            1283      1977.0               3\n",
            "1       Lionel Messi  Argentina             821         NaN               1\n",
            "2  Cristiano Ronaldo   Portugal             890         NaN               0\n",
            "3     Diego Maradona  Argentina             345      1997.0               1\n",
            "4    Zinedine Zidane     France             126      2006.0               1\n",
            "5      Thierry Henry     France             360      2014.0               1\n",
            "6    Ronaldo Nazario     Brazil             352      2011.0               2\n"
          ]
        }
      ]
    },
    {
      "cell_type": "markdown",
      "source": [
        "### Values and index\n",
        "\n",
        "**Values**\n",
        "The values in the DataFrame represent the actual data. Each column in the DataFrame corresponds to a different attribute, and each row corresponds to a different observation or record.\n",
        "For example, in the 'Player' column, the values are the names of soccer players ('Pele', 'Lionel Messi', etc.). In the 'Lifetime Goals' column, the values represent the number of lifetime goals for each player.\n",
        "\n",
        "**Index**\n",
        "\n",
        "The index in a DataFrame provides labels for each row. It's similar to row labels in a spreadsheet or the keys in a dictionary.\n",
        "By default, if you don't specify an index, Pandas will create a default integer-based index starting from 0."
      ],
      "metadata": {
        "id": "jDfzfqSMufqt"
      }
    },
    {
      "cell_type": "code",
      "source": [
        "df.values # It is more common to use the values of a Series (column), not for the whole dataframe."
      ],
      "metadata": {
        "id": "QpJQh4Cq53PP",
        "outputId": "695d01a5-0c5d-400c-b103-98b96542efb9",
        "colab": {
          "base_uri": "https://localhost:8080/"
        }
      },
      "execution_count": 22,
      "outputs": [
        {
          "output_type": "execute_result",
          "data": {
            "text/plain": [
              "array([['Pele', 'Brazil', 1283, 1977.0, 3],\n",
              "       ['Lionel Messi', 'Argentina', 821, nan, 1],\n",
              "       ['Cristiano Ronaldo', 'Portugal', 890, nan, 0],\n",
              "       ['Diego Maradona', 'Argentina', 345, 1997.0, 1],\n",
              "       ['Zinedine Zidane', 'France', 126, 2006.0, 1],\n",
              "       ['Thierry Henry', 'France', 360, 2014.0, 1],\n",
              "       ['Ronaldo Nazario', 'Brazil', 352, 2011.0, 2]], dtype=object)"
            ]
          },
          "metadata": {},
          "execution_count": 22
        }
      ]
    },
    {
      "cell_type": "code",
      "source": [
        "df.index"
      ],
      "metadata": {
        "id": "MVeMOXCF6CP-",
        "outputId": "e18902f5-582d-42c6-9d27-70ae5c7fdc7c",
        "colab": {
          "base_uri": "https://localhost:8080/"
        }
      },
      "execution_count": 23,
      "outputs": [
        {
          "output_type": "execute_result",
          "data": {
            "text/plain": [
              "RangeIndex(start=0, stop=7, step=1)"
            ]
          },
          "metadata": {},
          "execution_count": 23
        }
      ]
    },
    {
      "cell_type": "markdown",
      "source": [
        "### Label-based indexing\n",
        "\n",
        "In Pandas, you can refer to a particular row in a DataFrame using the `loc` accessor.\n",
        "\n",
        "Let's see to reference the row corresponding to `Diego Maradona`:\n",
        "\n",
        "Using loc: You reference the row by its label (index). In our example, the indices are integers.\n"
      ],
      "metadata": {
        "id": "zbV74NTV6XQs"
      }
    },
    {
      "cell_type": "code",
      "source": [
        "df.loc[3]"
      ],
      "metadata": {
        "id": "q4J12jostsz5",
        "outputId": "ee1dd779-df6d-4b80-99aa-0542dbf13ce2",
        "colab": {
          "base_uri": "https://localhost:8080/"
        }
      },
      "execution_count": 24,
      "outputs": [
        {
          "output_type": "execute_result",
          "data": {
            "text/plain": [
              "Player            Diego Maradona\n",
              "Country                Argentina\n",
              "Lifetime Goals               345\n",
              "Retirement                1997.0\n",
              "World Cup Wins                 1\n",
              "Name: 3, dtype: object"
            ]
          },
          "metadata": {},
          "execution_count": 24
        }
      ]
    },
    {
      "cell_type": "markdown",
      "source": [
        "Next, let's see how to read Data from Files"
      ],
      "metadata": {
        "id": "0ZjKDtp86FSw"
      }
    },
    {
      "cell_type": "markdown",
      "source": [
        "\n",
        "<< [2.0 Getting Started](Pandas_Intermediate_2_0_Getting_Started.ipynb)  |  [2.1 Data Structures](Pandas_Basics_2_1_Data_Structures.ipynb)         |    [2.2 Reading Data from files](Pandas_Basics_2_2_Reading_Files.ipynb) >>"
      ],
      "metadata": {
        "id": "uURMZamHtqGh"
      }
    }
  ]
}