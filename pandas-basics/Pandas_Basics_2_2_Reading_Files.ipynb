{
  "nbformat": 4,
  "nbformat_minor": 0,
  "metadata": {
    "colab": {
      "provenance": [],
      "authorship_tag": "ABX9TyNs+yMBSB8T/w2wJnjyh6lU",
      "include_colab_link": true
    },
    "kernelspec": {
      "name": "python3",
      "display_name": "Python 3"
    },
    "language_info": {
      "name": "python"
    }
  },
  "cells": [
    {
      "cell_type": "markdown",
      "metadata": {
        "id": "view-in-github",
        "colab_type": "text"
      },
      "source": [
        "<a href=\"https://colab.research.google.com/github/OptimalDecisions/sports-analytics-foundations/blob/main/pandas-basics/Pandas_Basics_2_2_Reading_Files.ipynb\" target=\"_parent\"><img src=\"https://colab.research.google.com/assets/colab-badge.svg\" alt=\"Open In Colab\"/></a>"
      ]
    },
    {
      "cell_type": "markdown",
      "source": [
        " ## Pandas Basics 2.2\n"
      ],
      "metadata": {
        "id": "jzzXwDv9vLsL"
      }
    },
    {
      "cell_type": "markdown",
      "source": [
        "\n",
        "  # Reading Data from files\n",
        "\n",
        "  <img src = \"../img/sa_logo.png\" width=\"100\" align=\"left\">\n",
        "\n",
        "  Ram Narasimhan\n",
        "\n",
        "  <br><br><br>\n",
        "\n",
        "  << [Data Structures](Pandas_Basics_2_1_Data_Structures.ipynb)|[Reading Data from files](Pandas_Basics_2_2_Reading_Files.ipynb) | [Examining, Describing & Summarizing Data](Pandas_Basics_2_3_Exploring_Data.ipynb) >>\n",
        "\n"
      ],
      "metadata": {
        "id": "3QaT-6k5vSPz"
      }
    },
    {
      "cell_type": "markdown",
      "source": [
        "## `read_csv` - Read from CSV files"
      ],
      "metadata": {
        "id": "ubWqkvN1vbMM"
      }
    },
    {
      "cell_type": "markdown",
      "source": [
        "\n",
        "## `read_excel`\n",
        "\n",
        "The read_excel convenience function in pandas imports a specific sheet from an Excel file\n"
      ],
      "metadata": {
        "id": "0mFuNbA8vwec"
      }
    },
    {
      "cell_type": "markdown",
      "source": [
        "  << [Data Structures](Pandas_Basics_2_1_Data_Structures.ipynb)|[Reading Data from files](Pandas_Basics_2_2_Reading_Files.ipynb) | [Examining, Describing & Summarizing Data](Pandas_Basics_2_3_Exploring_Data.ipynb) >>\n"
      ],
      "metadata": {
        "id": "9I40cBvTvVXQ"
      }
    }
  ]
}