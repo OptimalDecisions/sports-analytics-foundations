{
  "nbformat": 4,
  "nbformat_minor": 0,
  "metadata": {
    "colab": {
      "provenance": [],
      "authorship_tag": "ABX9TyNaRCCAPNwyT5dCNp7YZk69",
      "include_colab_link": true
    },
    "kernelspec": {
      "name": "python3",
      "display_name": "Python 3"
    },
    "language_info": {
      "name": "python"
    }
  },
  "cells": [
    {
      "cell_type": "markdown",
      "metadata": {
        "id": "view-in-github",
        "colab_type": "text"
      },
      "source": [
        "<a href=\"https://colab.research.google.com/github/OptimalDecisions/sports-analytics-foundations/blob/main/pandas-basics/Pandas_Exercise_2_1_Exer_Series_and_DataFrames.ipynb\" target=\"_parent\"><img src=\"https://colab.research.google.com/assets/colab-badge.svg\" alt=\"Open In Colab\"/></a>"
      ]
    },
    {
      "cell_type": "markdown",
      "source": [
        "\n",
        "### 2.1 Pandas Exercises\n",
        "\n",
        "## Pandas Exercises: Series and Dataframes\n",
        "\n",
        "  <img src = \"../img/sa_logo.png\" width=\"100\" align=\"left\">\n",
        "\n",
        "  Ram Narasimhan\n",
        "\n",
        "  <br><br><br>\n",
        "\n",
        "In this notebook, the exercises will test your ability to create Series, and Dataframe objects, and to access elements.\n",
        "\n"
      ],
      "metadata": {
        "id": "WFYrGbFpuQHg"
      }
    },
    {
      "cell_type": "code",
      "execution_count": null,
      "metadata": {
        "id": "YeYK3Bt7AMKZ"
      },
      "outputs": [],
      "source": [
        "import pandas as pd"
      ]
    },
    {
      "cell_type": "markdown",
      "source": [
        "### Exercise 1: Create a Series\n",
        "\n",
        "Create a Pandas Series named\n",
        "`tens` with the following data: `10`, `20`, `30`, `40`, `50`. Assign custom indices of your choice to each element.\n",
        "\n"
      ],
      "metadata": {
        "id": "6zZICmD0A0B6"
      }
    },
    {
      "cell_type": "code",
      "source": [],
      "metadata": {
        "id": "QV8SSo670QiL"
      },
      "execution_count": null,
      "outputs": []
    },
    {
      "cell_type": "markdown",
      "source": [
        "### Exercise 2: Create a DataFrame\n",
        "\n",
        "Create a DataFrame named `students` with the following data:\n",
        "\n",
        "```\n",
        "   Name  Age  Grade\n",
        "0  John   15     A\n",
        "1  Mary   12     B\n",
        "2  Bob    14     C\n",
        "```\n",
        "\n",
        "Hint: Use `pd.Dataframe` and specify the data as a `dictionary` with the keys being `Name`, `Age` and `Grade`"
      ],
      "metadata": {
        "id": "mPFKJFsK0N6h"
      }
    },
    {
      "cell_type": "code",
      "source": [],
      "metadata": {
        "id": "k7lEOc2lka-g"
      },
      "execution_count": null,
      "outputs": []
    },
    {
      "cell_type": "markdown",
      "source": [
        "### Exercise 3: Accessing Elements\n",
        "\n",
        "From the series `tens` above, print the element with index 3 and 4."
      ],
      "metadata": {
        "id": "l8qlvSoP0uKN"
      }
    },
    {
      "cell_type": "code",
      "source": [],
      "metadata": {
        "id": "SfAhNIpElKUj"
      },
      "execution_count": null,
      "outputs": []
    },
    {
      "cell_type": "markdown",
      "source": [
        "### Exercise 4: Accessing Rows and Columns of a Dataframe\n",
        "\n",
        "From the `students` dataframe, print the `Name` and the `Grade` columns."
      ],
      "metadata": {
        "id": "H94buldx1Eml"
      }
    },
    {
      "cell_type": "code",
      "source": [],
      "metadata": {
        "id": "yL4JN_To1WJC"
      },
      "execution_count": null,
      "outputs": []
    },
    {
      "cell_type": "markdown",
      "source": [
        "### Exercise 5: Access based on `loc`\n",
        "\n",
        "In the `students` dataframe, print out just the row whose index is 2."
      ],
      "metadata": {
        "id": "jQaq3seO1X-5"
      }
    },
    {
      "cell_type": "code",
      "source": [],
      "metadata": {
        "id": "yy4Rmwtj1p0Y"
      },
      "execution_count": null,
      "outputs": []
    }
  ]
}