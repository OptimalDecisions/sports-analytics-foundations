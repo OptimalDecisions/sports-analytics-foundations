{
  "nbformat": 4,
  "nbformat_minor": 0,
  "metadata": {
    "colab": {
      "provenance": [],
      "authorship_tag": "ABX9TyOg2q/ZZLyfNC+Qaul+yA5O",
      "include_colab_link": true
    },
    "kernelspec": {
      "name": "python3",
      "display_name": "Python 3"
    },
    "language_info": {
      "name": "python"
    }
  },
  "cells": [
    {
      "cell_type": "markdown",
      "metadata": {
        "id": "view-in-github",
        "colab_type": "text"
      },
      "source": [
        "<a href=\"https://colab.research.google.com/github/OptimalDecisions/sports-analytics-foundations/blob/main/pandas-basics/Pandas_Exercise_2_2_Exer_Reading_Files.ipynb\" target=\"_parent\"><img src=\"https://colab.research.google.com/assets/colab-badge.svg\" alt=\"Open In Colab\"/></a>"
      ]
    },
    {
      "cell_type": "markdown",
      "source": [
        "\n",
        "### 2.2 Pandas Exercises\n",
        "\n",
        "## Pandas Exercises: Reading Data Files into Pandas\n",
        "\n",
        "  <img src = \"../img/sa_logo.png\" width=\"100\" align=\"left\">\n",
        "\n",
        "  Ram Narasimhan\n",
        "\n",
        "  <br><br><br>\n",
        "\n",
        "In this notebook, the exercises here are intended to test your ability to read data files into Pandas.\n"
      ],
      "metadata": {
        "id": "WFYrGbFpuQHg"
      }
    },
    {
      "cell_type": "code",
      "source": [
        "import numpy as np\n",
        "import matplotlib.pyplot as plt\n",
        "import pandas as pd\n",
        "import seaborn as sns\n",
        "%matplotlib inline\n"
      ],
      "metadata": {
        "id": "RdU9cAnkcHnu"
      },
      "execution_count": null,
      "outputs": []
    },
    {
      "cell_type": "code",
      "source": [],
      "metadata": {
        "id": "E7tUy5zlGVM5"
      },
      "execution_count": null,
      "outputs": []
    },
    {
      "cell_type": "markdown",
      "source": [
        "### Exercise 1: Read this CSV file into Pandas\n",
        "\n",
        "```\n",
        "url : https://github.com/laxmimerit/All-CSV-ML-Data-Files-Download/blob/master/\n",
        "```\n",
        "\n"
      ],
      "metadata": {
        "id": "1kyrGnVjGGf3"
      }
    },
    {
      "cell_type": "markdown",
      "source": [
        "### Exercise 2: Overcoming UnicodeDecodeError\n",
        "\n",
        "If you try to read this CSV file, you will encounter an error. Can you read the file after overcoming the error?\n",
        "\n",
        "url = 'https://raw.githubusercontent.com/nikhgarg/nba-data-analytics/master/draft.csv'"
      ],
      "metadata": {
        "id": "9Mh2opEfGasD"
      }
    },
    {
      "cell_type": "markdown",
      "source": [
        "### Exercise 3: Read a tab-separated file\n",
        "\n",
        "Use read_csv to read this file.\n",
        "\n",
        "👉 Note that it is tab-separated!\n",
        "\n",
        "```\n",
        "url = https://github.com/NateMeyvis/knockoutpool/blob/master/data/powerrankings.tsv\n",
        "```"
      ],
      "metadata": {
        "id": "XNZt-4BYJQmA"
      }
    },
    {
      "cell_type": "code",
      "source": [],
      "metadata": {
        "id": "jNHT8ujgKCs8"
      },
      "execution_count": null,
      "outputs": []
    },
    {
      "cell_type": "markdown",
      "source": [
        "\n",
        "### 🎯 Challenge 4: Read a non-standard file\n",
        "\n",
        "This file is not in a standard CSV format.\n",
        "http://lib.stat.cmu.edu/datasets/boston\n",
        "\n",
        "1. Read this file using `pd.read_csv()`\n",
        "2. Use the skip rows option to skip the first 22 rows\n",
        "3. Since this file is not comma-separated, use `sep=\\s+`"
      ],
      "metadata": {
        "id": "YRzDKJJPJNJl"
      }
    },
    {
      "cell_type": "code",
      "source": [],
      "metadata": {
        "id": "9Af2QW77JHfH"
      },
      "execution_count": null,
      "outputs": []
    }
  ]
}