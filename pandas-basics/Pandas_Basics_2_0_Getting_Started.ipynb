{
  "nbformat": 4,
  "nbformat_minor": 0,
  "metadata": {
    "colab": {
      "provenance": [],
      "toc_visible": true,
      "authorship_tag": "ABX9TyOLhwZuZYlevtPnFvjgS/uW",
      "include_colab_link": true
    },
    "kernelspec": {
      "name": "python3",
      "display_name": "Python 3"
    },
    "language_info": {
      "name": "python"
    }
  },
  "cells": [
    {
      "cell_type": "markdown",
      "metadata": {
        "id": "view-in-github",
        "colab_type": "text"
      },
      "source": [
        "<a href=\"https://colab.research.google.com/github/OptimalDecisions/sports-analytics-foundations/blob/main/pandas-basics/Pandas_Basics_2_0_Getting_Started.ipynb\" target=\"_parent\"><img src=\"https://colab.research.google.com/assets/colab-badge.svg\" alt=\"Open In Colab\"/></a>"
      ]
    },
    {
      "cell_type": "markdown",
      "source": [
        " ## Pandas Basics 2.0\n"
      ],
      "metadata": {
        "id": "Ww2LVVl7tmW_"
      }
    },
    {
      "cell_type": "markdown",
      "source": [
        "\n",
        "# Getting Started with Pandas\n",
        "\n",
        "  <img src = \"../img/sa_logo.png\" width=\"100\" align=\"left\">\n",
        "\n",
        "  Ram Narasimhan\n",
        "\n",
        "  <br><br><br>\n",
        "  [2.1 Data Structures](Pandas_Basics_2_1_Data_Structures.ipynb) >>\n",
        "\n",
        "\n"
      ],
      "metadata": {
        "id": "W9dQL4MMuAPB"
      }
    },
    {
      "cell_type": "markdown",
      "source": [
        "## What is Pandas?\n",
        "\n",
        "- Pandas is a Python library that provides powerful tools for working with data\n",
        "sets.\n",
        "\n",
        "- It allows you to analyze, clean, explore, and manipulate data, making it an essential tool for data analysts, scientists, and engineers working with structured data in Python.\n",
        "\n",
        "- It is widely used in data science in conjunction with other libraries.\n",
        "\n",
        "- If you're new to Pandas, it's recommended to start with the primary two components: the Series, which is essentially a column, and the DataFrame, which is a multi-dimensional table made up of a collection of Series.\n"
      ],
      "metadata": {
        "id": "UOSBZM8kty4-"
      }
    },
    {
      "cell_type": "markdown",
      "source": [
        "## Importing Pandas & Friends\n",
        "It is the convention to start any notebook which uses the Pandas module with an `import` statement.\n",
        "\n",
        "```\n",
        "import pandas as pd\n",
        "import numpy as np\n",
        "```"
      ],
      "metadata": {
        "id": "TBdJURPMyVSg"
      }
    },
    {
      "cell_type": "markdown",
      "source": [
        "This creates an `alias` and instead of typing pandas, we can use the much quicker `pd` to refer to the library inside within our code."
      ],
      "metadata": {
        "id": "e88sInGRyjxY"
      }
    },
    {
      "cell_type": "markdown",
      "source": [
        "## When to use Pandas?\n",
        "\n",
        "Some common use cases for the Pandas Python package include:\n",
        "\n",
        "- **Data Cleaning and Preparation**: Pandas provides functions for handling missing values, duplicates, and converting data into a suitable format for analysis\n",
        "\n",
        "- **Data Exploration and Visualization**: It offers functions for summarizing and visualizing large datasets, calculating basic statistics, and creating various types of plots such as histograms, scatter plots, and bar charts\n",
        "\n",
        "- **Feature Engineering**: Pandas provides robust functionality for creating new features from existing data, such as calculating aggregate statistics, creating dummy variables, and applying custom functions\n",
        "\n",
        "- **Time Series Analysis**: It offers specialized data structures and functions for working with time-stamped data, including resampling, time-shifting, and modeling time-series data\n",
        "\n",
        "- **Machine Learning Preparation**: Pandas is often used to prepare data for machine learning tasks, such as data preprocessing and feature selection\n",
        "\n",
        "- Economics, Recommendation Systems, Stock Prediction, Neuroscience, Statistics, Advertising, and Analytics: Pandas is widely used in these fields for data analysis and manipulation tasks\n",
        "\n",
        "\n",
        "\n",
        "Pandas is a versatile library that simplifies data manipulation tasks in Python and is widely used in data science, machine learning, and various other domains"
      ],
      "metadata": {
        "id": "GWhZa07Ey_3R"
      }
    },
    {
      "cell_type": "markdown",
      "source": [
        "## Pandas for Sports Analytics\n",
        "\n",
        "Pandas is a versatile tool for sports analytics, offering a wide range of capabilities for collecting, organizing, analyzing, and visualizing sports data.\n",
        "\n",
        "- **Data Collection and Organization**: Pandas can be used to collect and organize sports data, including player and team statistics, game logs, and more\n",
        "\n",
        "- **Data Analysis and Visualization**: It enables the analysis of sports data and the creation of visualizations to gain insights. For example, Pandas can be used to draw meaningful results from football matches, visualize player involvement during a match using heat maps, and compare the performance of athletes\n",
        "- **Feature Engineering**: Pandas provides functionality for creating new features from sports data, such as calculating aggregate statistics, creating derived metrics, and performing data transformations specific to sports analytics\n",
        "- **Predictive Modeling**: It can be used to build predictive models for sports outcomes by leveraging data analytics and machine learning techniques\n",
        "\n",
        "\n",
        "\n"
      ],
      "metadata": {
        "id": "AMJ6UOUazq77"
      }
    },
    {
      "cell_type": "markdown",
      "source": [
        "[2.1 Data Structures](Pandas_Basics_2_1_Data_Structures.ipynb) >>\n",
        "\n",
        "\n"
      ],
      "metadata": {
        "id": "uURMZamHtqGh"
      }
    },
    {
      "cell_type": "code",
      "source": [],
      "metadata": {
        "id": "q4J12jostsz5"
      },
      "execution_count": null,
      "outputs": []
    }
  ]
}