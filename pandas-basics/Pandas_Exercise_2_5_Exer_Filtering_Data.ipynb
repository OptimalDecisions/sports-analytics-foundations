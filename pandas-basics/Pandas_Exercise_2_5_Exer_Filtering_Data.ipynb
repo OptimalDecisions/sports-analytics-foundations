{
  "nbformat": 4,
  "nbformat_minor": 0,
  "metadata": {
    "colab": {
      "provenance": [],
      "toc_visible": true,
      "authorship_tag": "ABX9TyMYqnBKjh8Kln2lbIocInvW",
      "include_colab_link": true
    },
    "kernelspec": {
      "name": "python3",
      "display_name": "Python 3"
    },
    "language_info": {
      "name": "python"
    }
  },
  "cells": [
    {
      "cell_type": "markdown",
      "metadata": {
        "id": "view-in-github",
        "colab_type": "text"
      },
      "source": [
        "<a href=\"https://colab.research.google.com/github/OptimalDecisions/sports-analytics-foundations/blob/main/pandas-basics/Pandas_Exercise_2_5_Exer_Filtering_Data.ipynb\" target=\"_parent\"><img src=\"https://colab.research.google.com/assets/colab-badge.svg\" alt=\"Open In Colab\"/></a>"
      ]
    },
    {
      "cell_type": "markdown",
      "source": [
        "## Pandas Exercises 2.5\n"
      ],
      "metadata": {
        "id": "G5x6rnMwQ7SK"
      }
    },
    {
      "cell_type": "markdown",
      "source": [
        "# Filtering using Conditions\n",
        "\n",
        "  <img src = \"../img/sa_logo.png\" width=\"100\" align=\"left\">\n",
        "\n",
        "  Ram Narasimhan\n",
        "\n",
        "  <br><br><br>\n",
        "\n"
      ],
      "metadata": {
        "id": "yrbAY49hQ_kG"
      }
    },
    {
      "cell_type": "code",
      "source": [
        "import numpy as np\n",
        "import matplotlib.pyplot as plt\n",
        "import pandas as pd\n",
        "import seaborn as sns\n",
        "%matplotlib inline"
      ],
      "metadata": {
        "id": "RdU9cAnkcHnu"
      },
      "execution_count": null,
      "outputs": []
    },
    {
      "cell_type": "code",
      "source": [
        "# Read in the Play by Play file for an entire NBA Season\n",
        "df = pd.read_csv('https://sports-statistics.com/database/basketball-data/nba/2019-20_pbp.csv')\n"
      ],
      "metadata": {
        "id": "-GFGQlljcwmf"
      },
      "execution_count": null,
      "outputs": []
    },
    {
      "cell_type": "code",
      "source": [
        "df.columns, df.shape"
      ],
      "metadata": {
        "colab": {
          "base_uri": "https://localhost:8080/"
        },
        "id": "0_E9gXW3cQEo",
        "outputId": "5e44e8ae-861b-44d9-ac3c-b474a6f029cd"
      },
      "execution_count": null,
      "outputs": [
        {
          "output_type": "execute_result",
          "data": {
            "text/plain": [
              "(Index(['URL', 'GameType', 'Location', 'Date', 'Time', 'WinningTeam', 'Quarter',\n",
              "        'SecLeft', 'AwayTeam', 'AwayPlay', 'AwayScore', 'HomeTeam', 'HomePlay',\n",
              "        'HomeScore', 'Shooter', 'ShotType', 'ShotOutcome', 'ShotDist',\n",
              "        'Assister', 'Blocker', 'FoulType', 'Fouler', 'Fouled', 'Rebounder',\n",
              "        'ReboundType', 'ViolationPlayer', 'ViolationType', 'TimeoutTeam',\n",
              "        'FreeThrowShooter', 'FreeThrowOutcome', 'FreeThrowNum', 'EnterGame',\n",
              "        'LeaveGame', 'TurnoverPlayer', 'TurnoverType', 'TurnoverCause',\n",
              "        'TurnoverCauser', 'JumpballAwayPlayer', 'JumpballHomePlayer',\n",
              "        'JumpballPoss', 'Unnamed: 40'],\n",
              "       dtype='object'),\n",
              " (539265, 41))"
            ]
          },
          "metadata": {},
          "execution_count": 6
        }
      ]
    },
    {
      "cell_type": "markdown",
      "source": [
        "## \tFiltering by Condition\n"
      ],
      "metadata": {
        "id": "iQiVOaDBRSXf"
      }
    },
    {
      "cell_type": "markdown",
      "source": [
        "### Exercise 251: Keep only Playoff games, and further filter out any overtime games. (That is keep only the first 4 quarters of plays.)\n",
        "\n",
        "### Exercise 251a: Do this filtering by use the `~` or Negative condition"
      ],
      "metadata": {
        "id": "QGKCq23VeQO5"
      }
    },
    {
      "cell_type": "markdown",
      "source": [
        "## \tCreating New Dataframe by Subsetting Rows\n",
        "\n"
      ],
      "metadata": {
        "id": "fRqUp72hRWCI"
      }
    },
    {
      "cell_type": "markdown",
      "source": [
        "\n",
        "### Exercise 252: Create a small dataframe. It should only contain plays in which 3-pointers were \"made\" in Playoff games in the season.\n"
      ],
      "metadata": {
        "id": "s730F36CyPGZ"
      }
    },
    {
      "cell_type": "markdown",
      "source": [
        "### 🎯 Challenge 253: Create a copy of the Original Dataframe, in which 3-point free throws resulted in ALL 3 free throws being missed!"
      ],
      "metadata": {
        "id": "jYezeqkbzAj4"
      }
    },
    {
      "cell_type": "markdown",
      "source": [
        "## Using `np.where()` to Search and Modify\n",
        "\n"
      ],
      "metadata": {
        "id": "XKBMPqZ3Rrzx"
      }
    },
    {
      "cell_type": "markdown",
      "source": [
        "\n",
        "### Exercise 254: Flag Turnover Plays\n",
        "\n",
        "Basketball games are won or lost on Turnovers. We want to analyze Turnovers. Use `np.where()` to create a new column called \"Turnovers\" -- This column should contain 1 for any plays in which a turnover occurred, and a 0 for all other plays.\n"
      ],
      "metadata": {
        "id": "8pqp2bo5CyfX"
      }
    }
  ]
}