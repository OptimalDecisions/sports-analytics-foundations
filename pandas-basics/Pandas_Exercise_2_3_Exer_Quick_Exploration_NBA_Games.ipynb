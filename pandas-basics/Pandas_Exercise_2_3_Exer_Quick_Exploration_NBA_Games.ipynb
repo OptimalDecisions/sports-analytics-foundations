{
  "nbformat": 4,
  "nbformat_minor": 0,
  "metadata": {
    "colab": {
      "provenance": [],
      "authorship_tag": "ABX9TyPqKtKM8C0KeWKuHQQf2oIb",
      "include_colab_link": true
    },
    "kernelspec": {
      "name": "python3",
      "display_name": "Python 3"
    },
    "language_info": {
      "name": "python"
    }
  },
  "cells": [
    {
      "cell_type": "markdown",
      "metadata": {
        "id": "view-in-github",
        "colab_type": "text"
      },
      "source": [
        "<a href=\"https://colab.research.google.com/github/OptimalDecisions/sports-analytics-foundations/blob/main/pandas-basics/Pandas_Exercise_2_3_Exer_Quick_Exploration_NBA_Games.ipynb\" target=\"_parent\"><img src=\"https://colab.research.google.com/assets/colab-badge.svg\" alt=\"Open In Colab\"/></a>"
      ]
    },
    {
      "cell_type": "markdown",
      "source": [
        "\n",
        "  # Pandas Exercise: Examining, Describing & Summarizing Data\n",
        "\n",
        "  <img src = \"../img/sa_logo.png\" width=\"100\" align=\"left\">\n",
        "\n",
        "  Ram Narasimhan\n",
        "\n",
        "  <br><br><br>\n",
        "\n",
        "\n"
      ],
      "metadata": {
        "id": "WFYrGbFpuQHg"
      }
    },
    {
      "cell_type": "code",
      "execution_count": null,
      "metadata": {
        "id": "YeYK3Bt7AMKZ"
      },
      "outputs": [],
      "source": [
        "import pandas as pd"
      ]
    },
    {
      "cell_type": "code",
      "source": [
        "url = \"https://raw.githubusercontent.com/OptimalDecisions/sports-analytics-foundations/main/data/nba_games_with_names.csv\"\n",
        "df = pd.read_csv(url)"
      ],
      "metadata": {
        "id": "qsdUPacXAPr3"
      },
      "execution_count": null,
      "outputs": []
    },
    {
      "cell_type": "code",
      "source": [
        "df.head()"
      ],
      "metadata": {
        "colab": {
          "base_uri": "https://localhost:8080/",
          "height": 273
        },
        "id": "pxKHFK4nj7HU",
        "outputId": "ed917fc3-3b4d-48c6-acbb-58f7be4a3637"
      },
      "execution_count": null,
      "outputs": [
        {
          "output_type": "execute_result",
          "data": {
            "text/plain": [
              "  GAME_DATE_EST   GAME_ID GAME_STATUS_TEXT  HOME_TEAM_ID  VISITOR_TEAM_ID  \\\n",
              "0    2022-12-22  22200477            Final    1610612740       1610612759   \n",
              "1    2022-12-22  22200478            Final    1610612762       1610612764   \n",
              "2    2022-12-21  22200466            Final    1610612739       1610612749   \n",
              "3    2022-12-21  22200467            Final    1610612755       1610612765   \n",
              "4    2022-12-21  22200468            Final    1610612737       1610612741   \n",
              "\n",
              "   SEASON  TEAM_ID_home  PTS_home  FG_PCT_home  FT_PCT_home  ...  \\\n",
              "0    2022    1610612740     126.0        0.484        0.926  ...   \n",
              "1    2022    1610612762     120.0        0.488        0.952  ...   \n",
              "2    2022    1610612739     114.0        0.482        0.786  ...   \n",
              "3    2022    1610612755     113.0        0.441        0.909  ...   \n",
              "4    2022    1610612737     108.0        0.429        1.000  ...   \n",
              "\n",
              "   FG3_PCT_away  AST_away  REB_away  HOME_TEAM_WINS  ABBREVIATION_h  \\\n",
              "0         0.321      23.0      44.0               1             NOP   \n",
              "1         0.333      20.0      37.0               1             UTA   \n",
              "2         0.433      20.0      46.0               1             CLE   \n",
              "3         0.261      15.0      46.0               1             PHI   \n",
              "4         0.292      20.0      47.0               0             ATL   \n",
              "\n",
              "   NICKNAME_h        CITY_h  ABBREVIATION_a  NICKNAME_a       CITY_a  \n",
              "0    Pelicans   New Orleans             SAS       Spurs  San Antonio  \n",
              "1        Jazz          Utah             WAS     Wizards   Washington  \n",
              "2   Cavaliers     Cleveland             MIL       Bucks    Milwaukee  \n",
              "3       76ers  Philadelphia             DET     Pistons      Detroit  \n",
              "4       Hawks       Atlanta             CHI       Bulls      Chicago  \n",
              "\n",
              "[5 rows x 27 columns]"
            ],
            "text/html": [
              "\n",
              "  <div id=\"df-1f8ec8c0-9fee-415e-95d6-2e9638a2053b\" class=\"colab-df-container\">\n",
              "    <div>\n",
              "<style scoped>\n",
              "    .dataframe tbody tr th:only-of-type {\n",
              "        vertical-align: middle;\n",
              "    }\n",
              "\n",
              "    .dataframe tbody tr th {\n",
              "        vertical-align: top;\n",
              "    }\n",
              "\n",
              "    .dataframe thead th {\n",
              "        text-align: right;\n",
              "    }\n",
              "</style>\n",
              "<table border=\"1\" class=\"dataframe\">\n",
              "  <thead>\n",
              "    <tr style=\"text-align: right;\">\n",
              "      <th></th>\n",
              "      <th>GAME_DATE_EST</th>\n",
              "      <th>GAME_ID</th>\n",
              "      <th>GAME_STATUS_TEXT</th>\n",
              "      <th>HOME_TEAM_ID</th>\n",
              "      <th>VISITOR_TEAM_ID</th>\n",
              "      <th>SEASON</th>\n",
              "      <th>TEAM_ID_home</th>\n",
              "      <th>PTS_home</th>\n",
              "      <th>FG_PCT_home</th>\n",
              "      <th>FT_PCT_home</th>\n",
              "      <th>...</th>\n",
              "      <th>FG3_PCT_away</th>\n",
              "      <th>AST_away</th>\n",
              "      <th>REB_away</th>\n",
              "      <th>HOME_TEAM_WINS</th>\n",
              "      <th>ABBREVIATION_h</th>\n",
              "      <th>NICKNAME_h</th>\n",
              "      <th>CITY_h</th>\n",
              "      <th>ABBREVIATION_a</th>\n",
              "      <th>NICKNAME_a</th>\n",
              "      <th>CITY_a</th>\n",
              "    </tr>\n",
              "  </thead>\n",
              "  <tbody>\n",
              "    <tr>\n",
              "      <th>0</th>\n",
              "      <td>2022-12-22</td>\n",
              "      <td>22200477</td>\n",
              "      <td>Final</td>\n",
              "      <td>1610612740</td>\n",
              "      <td>1610612759</td>\n",
              "      <td>2022</td>\n",
              "      <td>1610612740</td>\n",
              "      <td>126.0</td>\n",
              "      <td>0.484</td>\n",
              "      <td>0.926</td>\n",
              "      <td>...</td>\n",
              "      <td>0.321</td>\n",
              "      <td>23.0</td>\n",
              "      <td>44.0</td>\n",
              "      <td>1</td>\n",
              "      <td>NOP</td>\n",
              "      <td>Pelicans</td>\n",
              "      <td>New Orleans</td>\n",
              "      <td>SAS</td>\n",
              "      <td>Spurs</td>\n",
              "      <td>San Antonio</td>\n",
              "    </tr>\n",
              "    <tr>\n",
              "      <th>1</th>\n",
              "      <td>2022-12-22</td>\n",
              "      <td>22200478</td>\n",
              "      <td>Final</td>\n",
              "      <td>1610612762</td>\n",
              "      <td>1610612764</td>\n",
              "      <td>2022</td>\n",
              "      <td>1610612762</td>\n",
              "      <td>120.0</td>\n",
              "      <td>0.488</td>\n",
              "      <td>0.952</td>\n",
              "      <td>...</td>\n",
              "      <td>0.333</td>\n",
              "      <td>20.0</td>\n",
              "      <td>37.0</td>\n",
              "      <td>1</td>\n",
              "      <td>UTA</td>\n",
              "      <td>Jazz</td>\n",
              "      <td>Utah</td>\n",
              "      <td>WAS</td>\n",
              "      <td>Wizards</td>\n",
              "      <td>Washington</td>\n",
              "    </tr>\n",
              "    <tr>\n",
              "      <th>2</th>\n",
              "      <td>2022-12-21</td>\n",
              "      <td>22200466</td>\n",
              "      <td>Final</td>\n",
              "      <td>1610612739</td>\n",
              "      <td>1610612749</td>\n",
              "      <td>2022</td>\n",
              "      <td>1610612739</td>\n",
              "      <td>114.0</td>\n",
              "      <td>0.482</td>\n",
              "      <td>0.786</td>\n",
              "      <td>...</td>\n",
              "      <td>0.433</td>\n",
              "      <td>20.0</td>\n",
              "      <td>46.0</td>\n",
              "      <td>1</td>\n",
              "      <td>CLE</td>\n",
              "      <td>Cavaliers</td>\n",
              "      <td>Cleveland</td>\n",
              "      <td>MIL</td>\n",
              "      <td>Bucks</td>\n",
              "      <td>Milwaukee</td>\n",
              "    </tr>\n",
              "    <tr>\n",
              "      <th>3</th>\n",
              "      <td>2022-12-21</td>\n",
              "      <td>22200467</td>\n",
              "      <td>Final</td>\n",
              "      <td>1610612755</td>\n",
              "      <td>1610612765</td>\n",
              "      <td>2022</td>\n",
              "      <td>1610612755</td>\n",
              "      <td>113.0</td>\n",
              "      <td>0.441</td>\n",
              "      <td>0.909</td>\n",
              "      <td>...</td>\n",
              "      <td>0.261</td>\n",
              "      <td>15.0</td>\n",
              "      <td>46.0</td>\n",
              "      <td>1</td>\n",
              "      <td>PHI</td>\n",
              "      <td>76ers</td>\n",
              "      <td>Philadelphia</td>\n",
              "      <td>DET</td>\n",
              "      <td>Pistons</td>\n",
              "      <td>Detroit</td>\n",
              "    </tr>\n",
              "    <tr>\n",
              "      <th>4</th>\n",
              "      <td>2022-12-21</td>\n",
              "      <td>22200468</td>\n",
              "      <td>Final</td>\n",
              "      <td>1610612737</td>\n",
              "      <td>1610612741</td>\n",
              "      <td>2022</td>\n",
              "      <td>1610612737</td>\n",
              "      <td>108.0</td>\n",
              "      <td>0.429</td>\n",
              "      <td>1.000</td>\n",
              "      <td>...</td>\n",
              "      <td>0.292</td>\n",
              "      <td>20.0</td>\n",
              "      <td>47.0</td>\n",
              "      <td>0</td>\n",
              "      <td>ATL</td>\n",
              "      <td>Hawks</td>\n",
              "      <td>Atlanta</td>\n",
              "      <td>CHI</td>\n",
              "      <td>Bulls</td>\n",
              "      <td>Chicago</td>\n",
              "    </tr>\n",
              "  </tbody>\n",
              "</table>\n",
              "<p>5 rows × 27 columns</p>\n",
              "</div>\n",
              "    <div class=\"colab-df-buttons\">\n",
              "\n",
              "  <div class=\"colab-df-container\">\n",
              "    <button class=\"colab-df-convert\" onclick=\"convertToInteractive('df-1f8ec8c0-9fee-415e-95d6-2e9638a2053b')\"\n",
              "            title=\"Convert this dataframe to an interactive table.\"\n",
              "            style=\"display:none;\">\n",
              "\n",
              "  <svg xmlns=\"http://www.w3.org/2000/svg\" height=\"24px\" viewBox=\"0 -960 960 960\">\n",
              "    <path d=\"M120-120v-720h720v720H120Zm60-500h600v-160H180v160Zm220 220h160v-160H400v160Zm0 220h160v-160H400v160ZM180-400h160v-160H180v160Zm440 0h160v-160H620v160ZM180-180h160v-160H180v160Zm440 0h160v-160H620v160Z\"/>\n",
              "  </svg>\n",
              "    </button>\n",
              "\n",
              "  <style>\n",
              "    .colab-df-container {\n",
              "      display:flex;\n",
              "      gap: 12px;\n",
              "    }\n",
              "\n",
              "    .colab-df-convert {\n",
              "      background-color: #E8F0FE;\n",
              "      border: none;\n",
              "      border-radius: 50%;\n",
              "      cursor: pointer;\n",
              "      display: none;\n",
              "      fill: #1967D2;\n",
              "      height: 32px;\n",
              "      padding: 0 0 0 0;\n",
              "      width: 32px;\n",
              "    }\n",
              "\n",
              "    .colab-df-convert:hover {\n",
              "      background-color: #E2EBFA;\n",
              "      box-shadow: 0px 1px 2px rgba(60, 64, 67, 0.3), 0px 1px 3px 1px rgba(60, 64, 67, 0.15);\n",
              "      fill: #174EA6;\n",
              "    }\n",
              "\n",
              "    .colab-df-buttons div {\n",
              "      margin-bottom: 4px;\n",
              "    }\n",
              "\n",
              "    [theme=dark] .colab-df-convert {\n",
              "      background-color: #3B4455;\n",
              "      fill: #D2E3FC;\n",
              "    }\n",
              "\n",
              "    [theme=dark] .colab-df-convert:hover {\n",
              "      background-color: #434B5C;\n",
              "      box-shadow: 0px 1px 3px 1px rgba(0, 0, 0, 0.15);\n",
              "      filter: drop-shadow(0px 1px 2px rgba(0, 0, 0, 0.3));\n",
              "      fill: #FFFFFF;\n",
              "    }\n",
              "  </style>\n",
              "\n",
              "    <script>\n",
              "      const buttonEl =\n",
              "        document.querySelector('#df-1f8ec8c0-9fee-415e-95d6-2e9638a2053b button.colab-df-convert');\n",
              "      buttonEl.style.display =\n",
              "        google.colab.kernel.accessAllowed ? 'block' : 'none';\n",
              "\n",
              "      async function convertToInteractive(key) {\n",
              "        const element = document.querySelector('#df-1f8ec8c0-9fee-415e-95d6-2e9638a2053b');\n",
              "        const dataTable =\n",
              "          await google.colab.kernel.invokeFunction('convertToInteractive',\n",
              "                                                    [key], {});\n",
              "        if (!dataTable) return;\n",
              "\n",
              "        const docLinkHtml = 'Like what you see? Visit the ' +\n",
              "          '<a target=\"_blank\" href=https://colab.research.google.com/notebooks/data_table.ipynb>data table notebook</a>'\n",
              "          + ' to learn more about interactive tables.';\n",
              "        element.innerHTML = '';\n",
              "        dataTable['output_type'] = 'display_data';\n",
              "        await google.colab.output.renderOutput(dataTable, element);\n",
              "        const docLink = document.createElement('div');\n",
              "        docLink.innerHTML = docLinkHtml;\n",
              "        element.appendChild(docLink);\n",
              "      }\n",
              "    </script>\n",
              "  </div>\n",
              "\n",
              "\n",
              "<div id=\"df-d35211b5-a0c6-49cd-bfa3-e21aa0dd8b55\">\n",
              "  <button class=\"colab-df-quickchart\" onclick=\"quickchart('df-d35211b5-a0c6-49cd-bfa3-e21aa0dd8b55')\"\n",
              "            title=\"Suggest charts\"\n",
              "            style=\"display:none;\">\n",
              "\n",
              "<svg xmlns=\"http://www.w3.org/2000/svg\" height=\"24px\"viewBox=\"0 0 24 24\"\n",
              "     width=\"24px\">\n",
              "    <g>\n",
              "        <path d=\"M19 3H5c-1.1 0-2 .9-2 2v14c0 1.1.9 2 2 2h14c1.1 0 2-.9 2-2V5c0-1.1-.9-2-2-2zM9 17H7v-7h2v7zm4 0h-2V7h2v10zm4 0h-2v-4h2v4z\"/>\n",
              "    </g>\n",
              "</svg>\n",
              "  </button>\n",
              "\n",
              "<style>\n",
              "  .colab-df-quickchart {\n",
              "      --bg-color: #E8F0FE;\n",
              "      --fill-color: #1967D2;\n",
              "      --hover-bg-color: #E2EBFA;\n",
              "      --hover-fill-color: #174EA6;\n",
              "      --disabled-fill-color: #AAA;\n",
              "      --disabled-bg-color: #DDD;\n",
              "  }\n",
              "\n",
              "  [theme=dark] .colab-df-quickchart {\n",
              "      --bg-color: #3B4455;\n",
              "      --fill-color: #D2E3FC;\n",
              "      --hover-bg-color: #434B5C;\n",
              "      --hover-fill-color: #FFFFFF;\n",
              "      --disabled-bg-color: #3B4455;\n",
              "      --disabled-fill-color: #666;\n",
              "  }\n",
              "\n",
              "  .colab-df-quickchart {\n",
              "    background-color: var(--bg-color);\n",
              "    border: none;\n",
              "    border-radius: 50%;\n",
              "    cursor: pointer;\n",
              "    display: none;\n",
              "    fill: var(--fill-color);\n",
              "    height: 32px;\n",
              "    padding: 0;\n",
              "    width: 32px;\n",
              "  }\n",
              "\n",
              "  .colab-df-quickchart:hover {\n",
              "    background-color: var(--hover-bg-color);\n",
              "    box-shadow: 0 1px 2px rgba(60, 64, 67, 0.3), 0 1px 3px 1px rgba(60, 64, 67, 0.15);\n",
              "    fill: var(--button-hover-fill-color);\n",
              "  }\n",
              "\n",
              "  .colab-df-quickchart-complete:disabled,\n",
              "  .colab-df-quickchart-complete:disabled:hover {\n",
              "    background-color: var(--disabled-bg-color);\n",
              "    fill: var(--disabled-fill-color);\n",
              "    box-shadow: none;\n",
              "  }\n",
              "\n",
              "  .colab-df-spinner {\n",
              "    border: 2px solid var(--fill-color);\n",
              "    border-color: transparent;\n",
              "    border-bottom-color: var(--fill-color);\n",
              "    animation:\n",
              "      spin 1s steps(1) infinite;\n",
              "  }\n",
              "\n",
              "  @keyframes spin {\n",
              "    0% {\n",
              "      border-color: transparent;\n",
              "      border-bottom-color: var(--fill-color);\n",
              "      border-left-color: var(--fill-color);\n",
              "    }\n",
              "    20% {\n",
              "      border-color: transparent;\n",
              "      border-left-color: var(--fill-color);\n",
              "      border-top-color: var(--fill-color);\n",
              "    }\n",
              "    30% {\n",
              "      border-color: transparent;\n",
              "      border-left-color: var(--fill-color);\n",
              "      border-top-color: var(--fill-color);\n",
              "      border-right-color: var(--fill-color);\n",
              "    }\n",
              "    40% {\n",
              "      border-color: transparent;\n",
              "      border-right-color: var(--fill-color);\n",
              "      border-top-color: var(--fill-color);\n",
              "    }\n",
              "    60% {\n",
              "      border-color: transparent;\n",
              "      border-right-color: var(--fill-color);\n",
              "    }\n",
              "    80% {\n",
              "      border-color: transparent;\n",
              "      border-right-color: var(--fill-color);\n",
              "      border-bottom-color: var(--fill-color);\n",
              "    }\n",
              "    90% {\n",
              "      border-color: transparent;\n",
              "      border-bottom-color: var(--fill-color);\n",
              "    }\n",
              "  }\n",
              "</style>\n",
              "\n",
              "  <script>\n",
              "    async function quickchart(key) {\n",
              "      const quickchartButtonEl =\n",
              "        document.querySelector('#' + key + ' button');\n",
              "      quickchartButtonEl.disabled = true;  // To prevent multiple clicks.\n",
              "      quickchartButtonEl.classList.add('colab-df-spinner');\n",
              "      try {\n",
              "        const charts = await google.colab.kernel.invokeFunction(\n",
              "            'suggestCharts', [key], {});\n",
              "      } catch (error) {\n",
              "        console.error('Error during call to suggestCharts:', error);\n",
              "      }\n",
              "      quickchartButtonEl.classList.remove('colab-df-spinner');\n",
              "      quickchartButtonEl.classList.add('colab-df-quickchart-complete');\n",
              "    }\n",
              "    (() => {\n",
              "      let quickchartButtonEl =\n",
              "        document.querySelector('#df-d35211b5-a0c6-49cd-bfa3-e21aa0dd8b55 button');\n",
              "      quickchartButtonEl.style.display =\n",
              "        google.colab.kernel.accessAllowed ? 'block' : 'none';\n",
              "    })();\n",
              "  </script>\n",
              "</div>\n",
              "\n",
              "    </div>\n",
              "  </div>\n"
            ]
          },
          "metadata": {},
          "execution_count": 6
        }
      ]
    },
    {
      "cell_type": "code",
      "source": [
        "df.columns"
      ],
      "metadata": {
        "colab": {
          "base_uri": "https://localhost:8080/"
        },
        "id": "9siHvnPxAayJ",
        "outputId": "c7de933e-1ded-4a1f-85db-8da5c44e7bc1"
      },
      "execution_count": null,
      "outputs": [
        {
          "output_type": "execute_result",
          "data": {
            "text/plain": [
              "Index(['GAME_DATE_EST', 'GAME_ID', 'GAME_STATUS_TEXT', 'HOME_TEAM_ID',\n",
              "       'VISITOR_TEAM_ID', 'SEASON', 'TEAM_ID_home', 'PTS_home', 'FG_PCT_home',\n",
              "       'FT_PCT_home', 'FG3_PCT_home', 'AST_home', 'REB_home', 'TEAM_ID_away',\n",
              "       'PTS_away', 'FG_PCT_away', 'FT_PCT_away', 'FG3_PCT_away', 'AST_away',\n",
              "       'REB_away', 'HOME_TEAM_WINS', 'ABBREVIATION_h', 'NICKNAME_h', 'CITY_h',\n",
              "       'ABBREVIATION_a', 'NICKNAME_a', 'CITY_a'],\n",
              "      dtype='object')"
            ]
          },
          "metadata": {},
          "execution_count": 4
        }
      ]
    },
    {
      "cell_type": "markdown",
      "source": [
        "### Question 1: What date ranges does this data set cover?\n",
        "\n",
        "Try and examine any relevant column, and print the earliest and the latest date range in this NBA games dataset\n"
      ],
      "metadata": {
        "id": "6zZICmD0A0B6"
      }
    },
    {
      "cell_type": "code",
      "source": [],
      "metadata": {
        "id": "k7lEOc2lka-g"
      },
      "execution_count": null,
      "outputs": []
    },
    {
      "cell_type": "markdown",
      "source": [
        "### Question 2: How many NBA teams are represented?\n",
        "\n",
        "Hint: How many unique Team names are in this dataset?"
      ],
      "metadata": {
        "id": "T0AStieQAoCi"
      }
    },
    {
      "cell_type": "code",
      "source": [],
      "metadata": {
        "colab": {
          "base_uri": "https://localhost:8080/"
        },
        "id": "7dGzJdiBkvR6",
        "outputId": "e77bd332-4b49-4a7d-af2f-15af4b06d6e9"
      },
      "execution_count": null,
      "outputs": [
        {
          "output_type": "execute_result",
          "data": {
            "text/plain": [
              "30"
            ]
          },
          "metadata": {},
          "execution_count": 14
        }
      ]
    },
    {
      "cell_type": "markdown",
      "source": [
        "### Question 3: How many percentage points is a HOME Team advantage worth?\n",
        "\n",
        "i.e How often does the HOME TEAM win?\n",
        "\n",
        "First, make a Guess! We know it is probably greater than 50%. But how much greater?\n",
        "\n",
        "- Which column will help us find that percentage easily?\n",
        "- Hint: For a percentage calculation, we need a numerator and a denominator, and we will divide the two to get our percentage of interest"
      ],
      "metadata": {
        "id": "YtE-WS7GBHP4"
      }
    },
    {
      "cell_type": "code",
      "source": [],
      "metadata": {
        "colab": {
          "base_uri": "https://localhost:8080/"
        },
        "id": "pLRoC6S9lEgL",
        "outputId": "6f05cbf2-26de-4998-e4e6-fd09eb82940c"
      },
      "execution_count": null,
      "outputs": [
        {
          "output_type": "execute_result",
          "data": {
            "text/plain": [
              "0.5870323815241454"
            ]
          },
          "metadata": {},
          "execution_count": 20
        }
      ]
    },
    {
      "cell_type": "markdown",
      "source": [
        "### Question 4: Print out all the COLUMN TYPES.\n",
        "\n",
        "- Columns in Pandas dataframes can be Integer, Floats or Boolean or DateTime or \"Objects.\"\n",
        "\n",
        "- Challenge: Can you list only the numerical columns?"
      ],
      "metadata": {
        "id": "GptBSzuqG9t2"
      }
    },
    {
      "cell_type": "code",
      "source": [],
      "metadata": {
        "id": "SD3DCLlaJKP5",
        "colab": {
          "base_uri": "https://localhost:8080/"
        },
        "outputId": "4fd3eec3-ac59-4443-f89a-8929f0a6442c"
      },
      "execution_count": null,
      "outputs": [
        {
          "output_type": "execute_result",
          "data": {
            "text/plain": [
              "GAME_DATE_EST        object\n",
              "GAME_ID               int64\n",
              "GAME_STATUS_TEXT     object\n",
              "HOME_TEAM_ID          int64\n",
              "VISITOR_TEAM_ID       int64\n",
              "SEASON                int64\n",
              "TEAM_ID_home          int64\n",
              "PTS_home            float64\n",
              "FG_PCT_home         float64\n",
              "FT_PCT_home         float64\n",
              "FG3_PCT_home        float64\n",
              "AST_home            float64\n",
              "REB_home            float64\n",
              "TEAM_ID_away          int64\n",
              "PTS_away            float64\n",
              "FG_PCT_away         float64\n",
              "FT_PCT_away         float64\n",
              "FG3_PCT_away        float64\n",
              "AST_away            float64\n",
              "REB_away            float64\n",
              "HOME_TEAM_WINS        int64\n",
              "ABBREVIATION_h       object\n",
              "NICKNAME_h           object\n",
              "CITY_h               object\n",
              "ABBREVIATION_a       object\n",
              "NICKNAME_a           object\n",
              "CITY_a               object\n",
              "dtype: object"
            ]
          },
          "metadata": {},
          "execution_count": 16
        }
      ]
    },
    {
      "cell_type": "markdown",
      "source": [
        "### Question 5: Summarize all the Numerical Columns in the dataframe.\n",
        "\n",
        "- Hint: There is a simple Pandas command to do so."
      ],
      "metadata": {
        "id": "cbnZmtdzt08f"
      }
    },
    {
      "cell_type": "code",
      "source": [],
      "metadata": {
        "id": "SfAhNIpElKUj"
      },
      "execution_count": null,
      "outputs": []
    }
  ]
}