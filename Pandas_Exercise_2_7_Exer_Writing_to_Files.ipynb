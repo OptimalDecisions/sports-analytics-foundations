{
  "nbformat": 4,
  "nbformat_minor": 0,
  "metadata": {
    "colab": {
      "provenance": [],
      "toc_visible": true,
      "authorship_tag": "ABX9TyOgK94HNfGhvhfbGequeO/4",
      "include_colab_link": true
    },
    "kernelspec": {
      "name": "python3",
      "display_name": "Python 3"
    },
    "language_info": {
      "name": "python"
    }
  },
  "cells": [
    {
      "cell_type": "markdown",
      "metadata": {
        "id": "view-in-github",
        "colab_type": "text"
      },
      "source": [
        "<a href=\"https://colab.research.google.com/github/OptimalDecisions/sports-analytics-foundations/blob/main/Pandas_Exercise_2_7_Exer_Writing_to_Files.ipynb\" target=\"_parent\"><img src=\"https://colab.research.google.com/assets/colab-badge.svg\" alt=\"Open In Colab\"/></a>"
      ]
    },
    {
      "cell_type": "markdown",
      "source": [
        "## Pandas Exercises 2.6\n"
      ],
      "metadata": {
        "id": "G5x6rnMwQ7SK"
      }
    },
    {
      "cell_type": "markdown",
      "source": [
        "# Sorting\n",
        "\n",
        "<img src = \"../img/sa_logo.png\" width=\"100\" align=\"left\">\n",
        "\n",
        "  Ram Narasimhan\n",
        "\n",
        "  <br><br><br>\n",
        "\n",
        "\n",
        "This notebook contains exercises based on the sort topics covered in [notebook 2.7](https://github.com/OptimalDecisions/sports-analytics-foundations/blob/main/pandas-basics/Pandas_Basics_2_7_Writing_to_Files.ipynb)"
      ],
      "metadata": {
        "id": "yrbAY49hQ_kG"
      }
    },
    {
      "cell_type": "code",
      "source": [
        "import numpy as np\n",
        "import matplotlib.pyplot as plt\n",
        "import pandas as pd\n",
        "import seaborn as sns\n",
        "%matplotlib inline"
      ],
      "metadata": {
        "id": "RdU9cAnkcHnu"
      },
      "execution_count": 9,
      "outputs": []
    },
    {
      "cell_type": "code",
      "source": [
        "# Data for chess champions\n",
        "data = {\n",
        "    'Player': ['Garry Kasparov', 'Bobby Fischer', 'Magnus Carlsen', 'Anatoly Karpov', 'Vishwanathan Anand',\n",
        "               'Vladimir Kramnik', 'Mikhail Tal', 'Hikaru Nakamura', 'Fabiano Caruana', 'Levon Aronian'],\n",
        "    'Rating': [2851, 2785, 2882, 2780, 2817, 2817, 2700, 2746, 2844, 2781],\n",
        "    'Year': [1999, 1972, 2014, 1994, 2008, 2007, 1960, 2015, 2014, 2014]\n",
        "}\n",
        "\n",
        "# Create DataFrame\n",
        "df = pd.DataFrame(data)\n",
        "\n",
        "# Display the DataFrame\n",
        "print(df)\n"
      ],
      "metadata": {
        "colab": {
          "base_uri": "https://localhost:8080/"
        },
        "id": "rXm6gsnv61Yd",
        "outputId": "bd418b4a-8242-4fb0-ab35-e9d2958f36fb"
      },
      "execution_count": 10,
      "outputs": [
        {
          "output_type": "stream",
          "name": "stdout",
          "text": [
            "               Player  Rating  Year\n",
            "0      Garry Kasparov    2851  1999\n",
            "1       Bobby Fischer    2785  1972\n",
            "2      Magnus Carlsen    2882  2014\n",
            "3      Anatoly Karpov    2780  1994\n",
            "4  Vishwanathan Anand    2817  2008\n",
            "5    Vladimir Kramnik    2817  2007\n",
            "6         Mikhail Tal    2700  1960\n",
            "7     Hikaru Nakamura    2746  2015\n",
            "8     Fabiano Caruana    2844  2014\n",
            "9       Levon Aronian    2781  2014\n"
          ]
        }
      ]
    },
    {
      "cell_type": "markdown",
      "source": [
        "## Exercise 1: Write this data to a CSV file\n",
        "\n"
      ],
      "metadata": {
        "id": "NjWPjL-ZiKrH"
      }
    },
    {
      "cell_type": "code",
      "source": [
        "# write to a CSV file"
      ],
      "metadata": {
        "id": "lVQMWbcdiQ1x"
      },
      "execution_count": 11,
      "outputs": []
    },
    {
      "cell_type": "markdown",
      "source": [
        "## Exercise 2: Write to a CSV file, without the Integer index.\n",
        "\n"
      ],
      "metadata": {
        "id": "7ayM4YMO7VvI"
      }
    },
    {
      "cell_type": "code",
      "source": [
        "# write to a CSV file without the Index"
      ],
      "metadata": {
        "id": "19Ka1oq57VvK"
      },
      "execution_count": 12,
      "outputs": []
    },
    {
      "cell_type": "markdown",
      "source": [
        "## Exercise 3: Write this data to an Excel File\n",
        "\n"
      ],
      "metadata": {
        "id": "oPRzN_5M7fE3"
      }
    },
    {
      "cell_type": "code",
      "source": [
        "# write to an Excel File"
      ],
      "metadata": {
        "id": "f-bk9kp57fE4"
      },
      "execution_count": 13,
      "outputs": []
    },
    {
      "cell_type": "markdown",
      "source": [
        "## Exercise 4: Write this data and `pretty` print it in JSON format\n",
        "\n"
      ],
      "metadata": {
        "id": "lUO1Aa0g7pPc"
      }
    },
    {
      "cell_type": "code",
      "source": [
        "# Print the chess champions data in JSON format.\n"
      ],
      "metadata": {
        "id": "gMMMRlBQ7pPc"
      },
      "execution_count": 14,
      "outputs": []
    }
  ]
}