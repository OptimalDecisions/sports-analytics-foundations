{
  "nbformat": 4,
  "nbformat_minor": 0,
  "metadata": {
    "colab": {
      "provenance": [],
      "authorship_tag": "ABX9TyOXHB8sKGiBrm4+7FOTf+kd",
      "include_colab_link": true
    },
    "kernelspec": {
      "name": "python3",
      "display_name": "Python 3"
    },
    "language_info": {
      "name": "python"
    }
  },
  "cells": [
    {
      "cell_type": "markdown",
      "metadata": {
        "id": "view-in-github",
        "colab_type": "text"
      },
      "source": [
        "<a href=\"https://colab.research.google.com/github/OptimalDecisions/sports-analytics-foundations/blob/main/sa-getting-started/Pandas_Example_Merging_Datasets.ipynb\" target=\"_parent\"><img src=\"https://colab.research.google.com/assets/colab-badge.svg\" alt=\"Open In Colab\"/></a>"
      ]
    },
    {
      "cell_type": "markdown",
      "source": [
        "# Pandas Example of Shaping data by Merging Dataframes\n",
        "\n",
        "\n",
        "<img src = \"../img/sa_logo.png\" width=\"100\" align=\"left\">\n",
        "\n",
        "Ram Narasimhan\n",
        "\n",
        "<br><br><br>\n"
      ],
      "metadata": {
        "id": "Yy8ETVSL9Whk"
      }
    },
    {
      "cell_type": "markdown",
      "source": [
        "\n",
        "\n",
        "\n",
        "We have two csv files. One of them contains tons of NBA games, one row per game.\n",
        "However, it only has a TEAM_ID for both the home and away teams. It is much easier (for a human!) to work with NBA team names and cities.\n",
        "\n",
        "In this example, we are going to merge (left join) two times.\n",
        "\n",
        "STEP 1: The first merge will bring in all the HOME TEAM data into the data frame.\n",
        "\n",
        "Step 2: We will merge again, this time bringing in all the AWAY TEAM's details.\n",
        "\n",
        "STEP 3: After dropping some redundant columns, we will write it to a CSV file for future use."
      ],
      "metadata": {
        "id": "H-f6mTY6-lUS"
      }
    },
    {
      "cell_type": "code",
      "execution_count": 66,
      "metadata": {
        "id": "_TpkbK-DalvJ"
      },
      "outputs": [],
      "source": [
        "\n",
        "import numpy as np\n",
        "import matplotlib.pyplot as plt\n",
        "import pandas as pd\n",
        "import seaborn as sns\n",
        "%matplotlib inline\n"
      ]
    },
    {
      "cell_type": "code",
      "source": [
        "\n",
        "teams = pd.read_csv('/nba_teams.csv')\n",
        "games = pd.read_csv('/games.csv')"
      ],
      "metadata": {
        "id": "KoMujkXCa0ln"
      },
      "execution_count": 67,
      "outputs": []
    },
    {
      "cell_type": "code",
      "source": [
        "games.shape, teams.shape"
      ],
      "metadata": {
        "colab": {
          "base_uri": "https://localhost:8080/"
        },
        "id": "TLiD8_kDbAl_",
        "outputId": "1e32dcc5-8fa5-41a2-8387-1f7021420366"
      },
      "execution_count": 68,
      "outputs": [
        {
          "output_type": "execute_result",
          "data": {
            "text/plain": [
              "((26651, 21), (30, 14))"
            ]
          },
          "metadata": {},
          "execution_count": 68
        }
      ]
    },
    {
      "cell_type": "code",
      "source": [
        "games.columns, teams.columns"
      ],
      "metadata": {
        "colab": {
          "base_uri": "https://localhost:8080/"
        },
        "id": "ErkJ1_SZbBEE",
        "outputId": "cd64e35a-7ec4-45c0-e67f-697053dd16bc"
      },
      "execution_count": 69,
      "outputs": [
        {
          "output_type": "execute_result",
          "data": {
            "text/plain": [
              "(Index(['GAME_DATE_EST', 'GAME_ID', 'GAME_STATUS_TEXT', 'HOME_TEAM_ID',\n",
              "        'VISITOR_TEAM_ID', 'SEASON', 'TEAM_ID_home', 'PTS_home', 'FG_PCT_home',\n",
              "        'FT_PCT_home', 'FG3_PCT_home', 'AST_home', 'REB_home', 'TEAM_ID_away',\n",
              "        'PTS_away', 'FG_PCT_away', 'FT_PCT_away', 'FG3_PCT_away', 'AST_away',\n",
              "        'REB_away', 'HOME_TEAM_WINS'],\n",
              "       dtype='object'),\n",
              " Index(['LEAGUE_ID', 'TEAM_ID', 'MIN_YEAR', 'MAX_YEAR', 'ABBREVIATION',\n",
              "        'NICKNAME', 'YEARFOUNDED', 'CITY', 'ARENA', 'ARENACAPACITY', 'OWNER',\n",
              "        'GENERALMANAGER', 'HEADCOACH', 'DLEAGUEAFFILIATION'],\n",
              "       dtype='object'))"
            ]
          },
          "metadata": {},
          "execution_count": 69
        }
      ]
    },
    {
      "cell_type": "code",
      "source": [
        "useful_team_cols = ['TEAM_ID', 'ABBREVIATION', 'NICKNAME', 'CITY']"
      ],
      "metadata": {
        "id": "yOSxzdgVbSLk"
      },
      "execution_count": 70,
      "outputs": []
    },
    {
      "cell_type": "code",
      "source": [
        "teams = teams[useful_team_cols]"
      ],
      "metadata": {
        "id": "vpAHmz9Uh0O3"
      },
      "execution_count": 71,
      "outputs": []
    },
    {
      "cell_type": "markdown",
      "source": [
        "## STEP 1\n",
        "\n",
        "### Merge (left join) Games with the `teams` df, matching on home team ID"
      ],
      "metadata": {
        "id": "Hz76SGa599EC"
      }
    },
    {
      "cell_type": "code",
      "source": [
        "# Merge based on TEAM_ID_home\n",
        "\n",
        "merged_games_home = pd.merge(games, teams,\n",
        "                             left_on='TEAM_ID_home',\n",
        "                             right_on='TEAM_ID',\n",
        "                             how='left')\n",
        "\n"
      ],
      "metadata": {
        "id": "sZk_PZ-ZbmjP"
      },
      "execution_count": 72,
      "outputs": []
    },
    {
      "cell_type": "code",
      "source": [
        "merged_games_home.head()"
      ],
      "metadata": {
        "colab": {
          "base_uri": "https://localhost:8080/",
          "height": 273
        },
        "id": "PncyW3ip2Lty",
        "outputId": "2f23f14c-c8f4-437a-d2ea-0319649ae768"
      },
      "execution_count": 73,
      "outputs": [
        {
          "output_type": "execute_result",
          "data": {
            "text/plain": [
              "  GAME_DATE_EST   GAME_ID GAME_STATUS_TEXT  HOME_TEAM_ID  VISITOR_TEAM_ID  \\\n",
              "0    2022-12-22  22200477            Final    1610612740       1610612759   \n",
              "1    2022-12-22  22200478            Final    1610612762       1610612764   \n",
              "2    2022-12-21  22200466            Final    1610612739       1610612749   \n",
              "3    2022-12-21  22200467            Final    1610612755       1610612765   \n",
              "4    2022-12-21  22200468            Final    1610612737       1610612741   \n",
              "\n",
              "   SEASON  TEAM_ID_home  PTS_home  FG_PCT_home  FT_PCT_home  ...  FG_PCT_away  \\\n",
              "0    2022    1610612740     126.0        0.484        0.926  ...        0.478   \n",
              "1    2022    1610612762     120.0        0.488        0.952  ...        0.561   \n",
              "2    2022    1610612739     114.0        0.482        0.786  ...        0.470   \n",
              "3    2022    1610612755     113.0        0.441        0.909  ...        0.392   \n",
              "4    2022    1610612737     108.0        0.429        1.000  ...        0.500   \n",
              "\n",
              "   FT_PCT_away  FG3_PCT_away  AST_away  REB_away  HOME_TEAM_WINS     TEAM_ID  \\\n",
              "0        0.815         0.321      23.0      44.0               1  1610612740   \n",
              "1        0.765         0.333      20.0      37.0               1  1610612762   \n",
              "2        0.682         0.433      20.0      46.0               1  1610612739   \n",
              "3        0.735         0.261      15.0      46.0               1  1610612755   \n",
              "4        0.773         0.292      20.0      47.0               0  1610612737   \n",
              "\n",
              "   ABBREVIATION   NICKNAME          CITY  \n",
              "0           NOP   Pelicans   New Orleans  \n",
              "1           UTA       Jazz          Utah  \n",
              "2           CLE  Cavaliers     Cleveland  \n",
              "3           PHI      76ers  Philadelphia  \n",
              "4           ATL      Hawks       Atlanta  \n",
              "\n",
              "[5 rows x 25 columns]"
            ],
            "text/html": [
              "\n",
              "  <div id=\"df-60ba1c68-c89e-4a63-9ffb-3b675545cd16\" class=\"colab-df-container\">\n",
              "    <div>\n",
              "<style scoped>\n",
              "    .dataframe tbody tr th:only-of-type {\n",
              "        vertical-align: middle;\n",
              "    }\n",
              "\n",
              "    .dataframe tbody tr th {\n",
              "        vertical-align: top;\n",
              "    }\n",
              "\n",
              "    .dataframe thead th {\n",
              "        text-align: right;\n",
              "    }\n",
              "</style>\n",
              "<table border=\"1\" class=\"dataframe\">\n",
              "  <thead>\n",
              "    <tr style=\"text-align: right;\">\n",
              "      <th></th>\n",
              "      <th>GAME_DATE_EST</th>\n",
              "      <th>GAME_ID</th>\n",
              "      <th>GAME_STATUS_TEXT</th>\n",
              "      <th>HOME_TEAM_ID</th>\n",
              "      <th>VISITOR_TEAM_ID</th>\n",
              "      <th>SEASON</th>\n",
              "      <th>TEAM_ID_home</th>\n",
              "      <th>PTS_home</th>\n",
              "      <th>FG_PCT_home</th>\n",
              "      <th>FT_PCT_home</th>\n",
              "      <th>...</th>\n",
              "      <th>FG_PCT_away</th>\n",
              "      <th>FT_PCT_away</th>\n",
              "      <th>FG3_PCT_away</th>\n",
              "      <th>AST_away</th>\n",
              "      <th>REB_away</th>\n",
              "      <th>HOME_TEAM_WINS</th>\n",
              "      <th>TEAM_ID</th>\n",
              "      <th>ABBREVIATION</th>\n",
              "      <th>NICKNAME</th>\n",
              "      <th>CITY</th>\n",
              "    </tr>\n",
              "  </thead>\n",
              "  <tbody>\n",
              "    <tr>\n",
              "      <th>0</th>\n",
              "      <td>2022-12-22</td>\n",
              "      <td>22200477</td>\n",
              "      <td>Final</td>\n",
              "      <td>1610612740</td>\n",
              "      <td>1610612759</td>\n",
              "      <td>2022</td>\n",
              "      <td>1610612740</td>\n",
              "      <td>126.0</td>\n",
              "      <td>0.484</td>\n",
              "      <td>0.926</td>\n",
              "      <td>...</td>\n",
              "      <td>0.478</td>\n",
              "      <td>0.815</td>\n",
              "      <td>0.321</td>\n",
              "      <td>23.0</td>\n",
              "      <td>44.0</td>\n",
              "      <td>1</td>\n",
              "      <td>1610612740</td>\n",
              "      <td>NOP</td>\n",
              "      <td>Pelicans</td>\n",
              "      <td>New Orleans</td>\n",
              "    </tr>\n",
              "    <tr>\n",
              "      <th>1</th>\n",
              "      <td>2022-12-22</td>\n",
              "      <td>22200478</td>\n",
              "      <td>Final</td>\n",
              "      <td>1610612762</td>\n",
              "      <td>1610612764</td>\n",
              "      <td>2022</td>\n",
              "      <td>1610612762</td>\n",
              "      <td>120.0</td>\n",
              "      <td>0.488</td>\n",
              "      <td>0.952</td>\n",
              "      <td>...</td>\n",
              "      <td>0.561</td>\n",
              "      <td>0.765</td>\n",
              "      <td>0.333</td>\n",
              "      <td>20.0</td>\n",
              "      <td>37.0</td>\n",
              "      <td>1</td>\n",
              "      <td>1610612762</td>\n",
              "      <td>UTA</td>\n",
              "      <td>Jazz</td>\n",
              "      <td>Utah</td>\n",
              "    </tr>\n",
              "    <tr>\n",
              "      <th>2</th>\n",
              "      <td>2022-12-21</td>\n",
              "      <td>22200466</td>\n",
              "      <td>Final</td>\n",
              "      <td>1610612739</td>\n",
              "      <td>1610612749</td>\n",
              "      <td>2022</td>\n",
              "      <td>1610612739</td>\n",
              "      <td>114.0</td>\n",
              "      <td>0.482</td>\n",
              "      <td>0.786</td>\n",
              "      <td>...</td>\n",
              "      <td>0.470</td>\n",
              "      <td>0.682</td>\n",
              "      <td>0.433</td>\n",
              "      <td>20.0</td>\n",
              "      <td>46.0</td>\n",
              "      <td>1</td>\n",
              "      <td>1610612739</td>\n",
              "      <td>CLE</td>\n",
              "      <td>Cavaliers</td>\n",
              "      <td>Cleveland</td>\n",
              "    </tr>\n",
              "    <tr>\n",
              "      <th>3</th>\n",
              "      <td>2022-12-21</td>\n",
              "      <td>22200467</td>\n",
              "      <td>Final</td>\n",
              "      <td>1610612755</td>\n",
              "      <td>1610612765</td>\n",
              "      <td>2022</td>\n",
              "      <td>1610612755</td>\n",
              "      <td>113.0</td>\n",
              "      <td>0.441</td>\n",
              "      <td>0.909</td>\n",
              "      <td>...</td>\n",
              "      <td>0.392</td>\n",
              "      <td>0.735</td>\n",
              "      <td>0.261</td>\n",
              "      <td>15.0</td>\n",
              "      <td>46.0</td>\n",
              "      <td>1</td>\n",
              "      <td>1610612755</td>\n",
              "      <td>PHI</td>\n",
              "      <td>76ers</td>\n",
              "      <td>Philadelphia</td>\n",
              "    </tr>\n",
              "    <tr>\n",
              "      <th>4</th>\n",
              "      <td>2022-12-21</td>\n",
              "      <td>22200468</td>\n",
              "      <td>Final</td>\n",
              "      <td>1610612737</td>\n",
              "      <td>1610612741</td>\n",
              "      <td>2022</td>\n",
              "      <td>1610612737</td>\n",
              "      <td>108.0</td>\n",
              "      <td>0.429</td>\n",
              "      <td>1.000</td>\n",
              "      <td>...</td>\n",
              "      <td>0.500</td>\n",
              "      <td>0.773</td>\n",
              "      <td>0.292</td>\n",
              "      <td>20.0</td>\n",
              "      <td>47.0</td>\n",
              "      <td>0</td>\n",
              "      <td>1610612737</td>\n",
              "      <td>ATL</td>\n",
              "      <td>Hawks</td>\n",
              "      <td>Atlanta</td>\n",
              "    </tr>\n",
              "  </tbody>\n",
              "</table>\n",
              "<p>5 rows × 25 columns</p>\n",
              "</div>\n",
              "    <div class=\"colab-df-buttons\">\n",
              "\n",
              "  <div class=\"colab-df-container\">\n",
              "    <button class=\"colab-df-convert\" onclick=\"convertToInteractive('df-60ba1c68-c89e-4a63-9ffb-3b675545cd16')\"\n",
              "            title=\"Convert this dataframe to an interactive table.\"\n",
              "            style=\"display:none;\">\n",
              "\n",
              "  <svg xmlns=\"http://www.w3.org/2000/svg\" height=\"24px\" viewBox=\"0 -960 960 960\">\n",
              "    <path d=\"M120-120v-720h720v720H120Zm60-500h600v-160H180v160Zm220 220h160v-160H400v160Zm0 220h160v-160H400v160ZM180-400h160v-160H180v160Zm440 0h160v-160H620v160ZM180-180h160v-160H180v160Zm440 0h160v-160H620v160Z\"/>\n",
              "  </svg>\n",
              "    </button>\n",
              "\n",
              "  <style>\n",
              "    .colab-df-container {\n",
              "      display:flex;\n",
              "      gap: 12px;\n",
              "    }\n",
              "\n",
              "    .colab-df-convert {\n",
              "      background-color: #E8F0FE;\n",
              "      border: none;\n",
              "      border-radius: 50%;\n",
              "      cursor: pointer;\n",
              "      display: none;\n",
              "      fill: #1967D2;\n",
              "      height: 32px;\n",
              "      padding: 0 0 0 0;\n",
              "      width: 32px;\n",
              "    }\n",
              "\n",
              "    .colab-df-convert:hover {\n",
              "      background-color: #E2EBFA;\n",
              "      box-shadow: 0px 1px 2px rgba(60, 64, 67, 0.3), 0px 1px 3px 1px rgba(60, 64, 67, 0.15);\n",
              "      fill: #174EA6;\n",
              "    }\n",
              "\n",
              "    .colab-df-buttons div {\n",
              "      margin-bottom: 4px;\n",
              "    }\n",
              "\n",
              "    [theme=dark] .colab-df-convert {\n",
              "      background-color: #3B4455;\n",
              "      fill: #D2E3FC;\n",
              "    }\n",
              "\n",
              "    [theme=dark] .colab-df-convert:hover {\n",
              "      background-color: #434B5C;\n",
              "      box-shadow: 0px 1px 3px 1px rgba(0, 0, 0, 0.15);\n",
              "      filter: drop-shadow(0px 1px 2px rgba(0, 0, 0, 0.3));\n",
              "      fill: #FFFFFF;\n",
              "    }\n",
              "  </style>\n",
              "\n",
              "    <script>\n",
              "      const buttonEl =\n",
              "        document.querySelector('#df-60ba1c68-c89e-4a63-9ffb-3b675545cd16 button.colab-df-convert');\n",
              "      buttonEl.style.display =\n",
              "        google.colab.kernel.accessAllowed ? 'block' : 'none';\n",
              "\n",
              "      async function convertToInteractive(key) {\n",
              "        const element = document.querySelector('#df-60ba1c68-c89e-4a63-9ffb-3b675545cd16');\n",
              "        const dataTable =\n",
              "          await google.colab.kernel.invokeFunction('convertToInteractive',\n",
              "                                                    [key], {});\n",
              "        if (!dataTable) return;\n",
              "\n",
              "        const docLinkHtml = 'Like what you see? Visit the ' +\n",
              "          '<a target=\"_blank\" href=https://colab.research.google.com/notebooks/data_table.ipynb>data table notebook</a>'\n",
              "          + ' to learn more about interactive tables.';\n",
              "        element.innerHTML = '';\n",
              "        dataTable['output_type'] = 'display_data';\n",
              "        await google.colab.output.renderOutput(dataTable, element);\n",
              "        const docLink = document.createElement('div');\n",
              "        docLink.innerHTML = docLinkHtml;\n",
              "        element.appendChild(docLink);\n",
              "      }\n",
              "    </script>\n",
              "  </div>\n",
              "\n",
              "\n",
              "<div id=\"df-a2998178-5d6f-4d34-b88f-272d185d59a1\">\n",
              "  <button class=\"colab-df-quickchart\" onclick=\"quickchart('df-a2998178-5d6f-4d34-b88f-272d185d59a1')\"\n",
              "            title=\"Suggest charts\"\n",
              "            style=\"display:none;\">\n",
              "\n",
              "<svg xmlns=\"http://www.w3.org/2000/svg\" height=\"24px\"viewBox=\"0 0 24 24\"\n",
              "     width=\"24px\">\n",
              "    <g>\n",
              "        <path d=\"M19 3H5c-1.1 0-2 .9-2 2v14c0 1.1.9 2 2 2h14c1.1 0 2-.9 2-2V5c0-1.1-.9-2-2-2zM9 17H7v-7h2v7zm4 0h-2V7h2v10zm4 0h-2v-4h2v4z\"/>\n",
              "    </g>\n",
              "</svg>\n",
              "  </button>\n",
              "\n",
              "<style>\n",
              "  .colab-df-quickchart {\n",
              "      --bg-color: #E8F0FE;\n",
              "      --fill-color: #1967D2;\n",
              "      --hover-bg-color: #E2EBFA;\n",
              "      --hover-fill-color: #174EA6;\n",
              "      --disabled-fill-color: #AAA;\n",
              "      --disabled-bg-color: #DDD;\n",
              "  }\n",
              "\n",
              "  [theme=dark] .colab-df-quickchart {\n",
              "      --bg-color: #3B4455;\n",
              "      --fill-color: #D2E3FC;\n",
              "      --hover-bg-color: #434B5C;\n",
              "      --hover-fill-color: #FFFFFF;\n",
              "      --disabled-bg-color: #3B4455;\n",
              "      --disabled-fill-color: #666;\n",
              "  }\n",
              "\n",
              "  .colab-df-quickchart {\n",
              "    background-color: var(--bg-color);\n",
              "    border: none;\n",
              "    border-radius: 50%;\n",
              "    cursor: pointer;\n",
              "    display: none;\n",
              "    fill: var(--fill-color);\n",
              "    height: 32px;\n",
              "    padding: 0;\n",
              "    width: 32px;\n",
              "  }\n",
              "\n",
              "  .colab-df-quickchart:hover {\n",
              "    background-color: var(--hover-bg-color);\n",
              "    box-shadow: 0 1px 2px rgba(60, 64, 67, 0.3), 0 1px 3px 1px rgba(60, 64, 67, 0.15);\n",
              "    fill: var(--button-hover-fill-color);\n",
              "  }\n",
              "\n",
              "  .colab-df-quickchart-complete:disabled,\n",
              "  .colab-df-quickchart-complete:disabled:hover {\n",
              "    background-color: var(--disabled-bg-color);\n",
              "    fill: var(--disabled-fill-color);\n",
              "    box-shadow: none;\n",
              "  }\n",
              "\n",
              "  .colab-df-spinner {\n",
              "    border: 2px solid var(--fill-color);\n",
              "    border-color: transparent;\n",
              "    border-bottom-color: var(--fill-color);\n",
              "    animation:\n",
              "      spin 1s steps(1) infinite;\n",
              "  }\n",
              "\n",
              "  @keyframes spin {\n",
              "    0% {\n",
              "      border-color: transparent;\n",
              "      border-bottom-color: var(--fill-color);\n",
              "      border-left-color: var(--fill-color);\n",
              "    }\n",
              "    20% {\n",
              "      border-color: transparent;\n",
              "      border-left-color: var(--fill-color);\n",
              "      border-top-color: var(--fill-color);\n",
              "    }\n",
              "    30% {\n",
              "      border-color: transparent;\n",
              "      border-left-color: var(--fill-color);\n",
              "      border-top-color: var(--fill-color);\n",
              "      border-right-color: var(--fill-color);\n",
              "    }\n",
              "    40% {\n",
              "      border-color: transparent;\n",
              "      border-right-color: var(--fill-color);\n",
              "      border-top-color: var(--fill-color);\n",
              "    }\n",
              "    60% {\n",
              "      border-color: transparent;\n",
              "      border-right-color: var(--fill-color);\n",
              "    }\n",
              "    80% {\n",
              "      border-color: transparent;\n",
              "      border-right-color: var(--fill-color);\n",
              "      border-bottom-color: var(--fill-color);\n",
              "    }\n",
              "    90% {\n",
              "      border-color: transparent;\n",
              "      border-bottom-color: var(--fill-color);\n",
              "    }\n",
              "  }\n",
              "</style>\n",
              "\n",
              "  <script>\n",
              "    async function quickchart(key) {\n",
              "      const quickchartButtonEl =\n",
              "        document.querySelector('#' + key + ' button');\n",
              "      quickchartButtonEl.disabled = true;  // To prevent multiple clicks.\n",
              "      quickchartButtonEl.classList.add('colab-df-spinner');\n",
              "      try {\n",
              "        const charts = await google.colab.kernel.invokeFunction(\n",
              "            'suggestCharts', [key], {});\n",
              "      } catch (error) {\n",
              "        console.error('Error during call to suggestCharts:', error);\n",
              "      }\n",
              "      quickchartButtonEl.classList.remove('colab-df-spinner');\n",
              "      quickchartButtonEl.classList.add('colab-df-quickchart-complete');\n",
              "    }\n",
              "    (() => {\n",
              "      let quickchartButtonEl =\n",
              "        document.querySelector('#df-a2998178-5d6f-4d34-b88f-272d185d59a1 button');\n",
              "      quickchartButtonEl.style.display =\n",
              "        google.colab.kernel.accessAllowed ? 'block' : 'none';\n",
              "    })();\n",
              "  </script>\n",
              "</div>\n",
              "\n",
              "    </div>\n",
              "  </div>\n"
            ]
          },
          "metadata": {},
          "execution_count": 73
        }
      ]
    },
    {
      "cell_type": "markdown",
      "source": [
        "We've added 4 columns with the first merge. Let's make sure that the resulting dataframe does indeed reflect that."
      ],
      "metadata": {
        "id": "af3HUal58GsT"
      }
    },
    {
      "cell_type": "code",
      "source": [
        "\n",
        "merged_games_home.shape"
      ],
      "metadata": {
        "colab": {
          "base_uri": "https://localhost:8080/"
        },
        "id": "dWKKKLqn6zBl",
        "outputId": "6c8f00d6-982e-48be-eef8-9afaecd959cc"
      },
      "execution_count": 74,
      "outputs": [
        {
          "output_type": "execute_result",
          "data": {
            "text/plain": [
              "(26651, 25)"
            ]
          },
          "metadata": {},
          "execution_count": 74
        }
      ]
    },
    {
      "cell_type": "markdown",
      "source": [
        "## STEP 2\n",
        "### Merge again with team, but this time by matching `TEAM_ID_away` with the `TEAM_ID` in `teams`\n",
        "\n",
        "When doing repeated merges, it is possible but the same column shows up multiple times. To avoid this confusion, we add `suffixes`. In this case `_h` for home team and `_a` for the away team.\n"
      ],
      "metadata": {
        "id": "guS4vrSdcDbt"
      }
    },
    {
      "cell_type": "code",
      "source": [
        "merged_games_all = pd.merge(merged_games_home, teams,\n",
        "                             left_on='TEAM_ID_away',\n",
        "                             right_on='TEAM_ID', how='left',\n",
        "                             suffixes=('_h', '_a'))\n",
        "\n"
      ],
      "metadata": {
        "id": "LIZBz0X38Q9Z"
      },
      "execution_count": null,
      "outputs": []
    },
    {
      "cell_type": "markdown",
      "source": [
        "The warning can be ignored this time. It is occurring because we already had a column called TEAM_ID_home, and the `merge` produces yet another column (based on the suffix) called TEAM_ID_home. The same df cannot have 2 columns of the same name."
      ],
      "metadata": {
        "id": "Uo2GyeVK5_y1"
      }
    },
    {
      "cell_type": "code",
      "source": [
        "merged_games_all.shape, merged_games_all.columns\n"
      ],
      "metadata": {
        "colab": {
          "base_uri": "https://localhost:8080/"
        },
        "id": "PWngKHlQ2WGs",
        "outputId": "4ce1557f-d51c-446e-a2a6-0ab7378e4dd3"
      },
      "execution_count": 76,
      "outputs": [
        {
          "output_type": "execute_result",
          "data": {
            "text/plain": [
              "((26651, 29),\n",
              " Index(['GAME_DATE_EST', 'GAME_ID', 'GAME_STATUS_TEXT', 'HOME_TEAM_ID',\n",
              "        'VISITOR_TEAM_ID', 'SEASON', 'TEAM_ID_home', 'PTS_home', 'FG_PCT_home',\n",
              "        'FT_PCT_home', 'FG3_PCT_home', 'AST_home', 'REB_home', 'TEAM_ID_away',\n",
              "        'PTS_away', 'FG_PCT_away', 'FT_PCT_away', 'FG3_PCT_away', 'AST_away',\n",
              "        'REB_away', 'HOME_TEAM_WINS', 'TEAM_ID_h', 'ABBREVIATION_h',\n",
              "        'NICKNAME_h', 'CITY_h', 'TEAM_ID_a', 'ABBREVIATION_a', 'NICKNAME_a',\n",
              "        'CITY_a'],\n",
              "       dtype='object'))"
            ]
          },
          "metadata": {},
          "execution_count": 76
        }
      ]
    },
    {
      "cell_type": "code",
      "source": [
        "# Drop redundant TEAM ID columns\n",
        "merged_games_all.drop(['TEAM_ID_h', 'TEAM_ID_a'], axis=1, inplace=True)\n"
      ],
      "metadata": {
        "id": "GUtWcYLE2Vkw"
      },
      "execution_count": 77,
      "outputs": []
    },
    {
      "cell_type": "code",
      "source": [
        "merged_games_all.sample()"
      ],
      "metadata": {
        "id": "wjlyaojwcKJ9",
        "colab": {
          "base_uri": "https://localhost:8080/",
          "height": 147
        },
        "outputId": "22ab6516-1d44-48aa-ae69-b0c4e08206bf"
      },
      "execution_count": 78,
      "outputs": [
        {
          "output_type": "execute_result",
          "data": {
            "text/plain": [
              "      GAME_DATE_EST   GAME_ID GAME_STATUS_TEXT  HOME_TEAM_ID  VISITOR_TEAM_ID  \\\n",
              "18609    2004-01-17  20300570            Final    1610612740       1610612753   \n",
              "\n",
              "       SEASON  TEAM_ID_home  PTS_home  FG_PCT_home  FT_PCT_home  ...  \\\n",
              "18609    2003    1610612740      91.0        0.442        0.625  ...   \n",
              "\n",
              "       FG3_PCT_away  AST_away  REB_away  HOME_TEAM_WINS  ABBREVIATION_h  \\\n",
              "18609         0.313      20.0      38.0               1             NOP   \n",
              "\n",
              "       NICKNAME_h       CITY_h  ABBREVIATION_a  NICKNAME_a   CITY_a  \n",
              "18609    Pelicans  New Orleans             ORL       Magic  Orlando  \n",
              "\n",
              "[1 rows x 27 columns]"
            ],
            "text/html": [
              "\n",
              "  <div id=\"df-907bc479-d372-4302-a894-4f9102b71cce\" class=\"colab-df-container\">\n",
              "    <div>\n",
              "<style scoped>\n",
              "    .dataframe tbody tr th:only-of-type {\n",
              "        vertical-align: middle;\n",
              "    }\n",
              "\n",
              "    .dataframe tbody tr th {\n",
              "        vertical-align: top;\n",
              "    }\n",
              "\n",
              "    .dataframe thead th {\n",
              "        text-align: right;\n",
              "    }\n",
              "</style>\n",
              "<table border=\"1\" class=\"dataframe\">\n",
              "  <thead>\n",
              "    <tr style=\"text-align: right;\">\n",
              "      <th></th>\n",
              "      <th>GAME_DATE_EST</th>\n",
              "      <th>GAME_ID</th>\n",
              "      <th>GAME_STATUS_TEXT</th>\n",
              "      <th>HOME_TEAM_ID</th>\n",
              "      <th>VISITOR_TEAM_ID</th>\n",
              "      <th>SEASON</th>\n",
              "      <th>TEAM_ID_home</th>\n",
              "      <th>PTS_home</th>\n",
              "      <th>FG_PCT_home</th>\n",
              "      <th>FT_PCT_home</th>\n",
              "      <th>...</th>\n",
              "      <th>FG3_PCT_away</th>\n",
              "      <th>AST_away</th>\n",
              "      <th>REB_away</th>\n",
              "      <th>HOME_TEAM_WINS</th>\n",
              "      <th>ABBREVIATION_h</th>\n",
              "      <th>NICKNAME_h</th>\n",
              "      <th>CITY_h</th>\n",
              "      <th>ABBREVIATION_a</th>\n",
              "      <th>NICKNAME_a</th>\n",
              "      <th>CITY_a</th>\n",
              "    </tr>\n",
              "  </thead>\n",
              "  <tbody>\n",
              "    <tr>\n",
              "      <th>18609</th>\n",
              "      <td>2004-01-17</td>\n",
              "      <td>20300570</td>\n",
              "      <td>Final</td>\n",
              "      <td>1610612740</td>\n",
              "      <td>1610612753</td>\n",
              "      <td>2003</td>\n",
              "      <td>1610612740</td>\n",
              "      <td>91.0</td>\n",
              "      <td>0.442</td>\n",
              "      <td>0.625</td>\n",
              "      <td>...</td>\n",
              "      <td>0.313</td>\n",
              "      <td>20.0</td>\n",
              "      <td>38.0</td>\n",
              "      <td>1</td>\n",
              "      <td>NOP</td>\n",
              "      <td>Pelicans</td>\n",
              "      <td>New Orleans</td>\n",
              "      <td>ORL</td>\n",
              "      <td>Magic</td>\n",
              "      <td>Orlando</td>\n",
              "    </tr>\n",
              "  </tbody>\n",
              "</table>\n",
              "<p>1 rows × 27 columns</p>\n",
              "</div>\n",
              "    <div class=\"colab-df-buttons\">\n",
              "\n",
              "  <div class=\"colab-df-container\">\n",
              "    <button class=\"colab-df-convert\" onclick=\"convertToInteractive('df-907bc479-d372-4302-a894-4f9102b71cce')\"\n",
              "            title=\"Convert this dataframe to an interactive table.\"\n",
              "            style=\"display:none;\">\n",
              "\n",
              "  <svg xmlns=\"http://www.w3.org/2000/svg\" height=\"24px\" viewBox=\"0 -960 960 960\">\n",
              "    <path d=\"M120-120v-720h720v720H120Zm60-500h600v-160H180v160Zm220 220h160v-160H400v160Zm0 220h160v-160H400v160ZM180-400h160v-160H180v160Zm440 0h160v-160H620v160ZM180-180h160v-160H180v160Zm440 0h160v-160H620v160Z\"/>\n",
              "  </svg>\n",
              "    </button>\n",
              "\n",
              "  <style>\n",
              "    .colab-df-container {\n",
              "      display:flex;\n",
              "      gap: 12px;\n",
              "    }\n",
              "\n",
              "    .colab-df-convert {\n",
              "      background-color: #E8F0FE;\n",
              "      border: none;\n",
              "      border-radius: 50%;\n",
              "      cursor: pointer;\n",
              "      display: none;\n",
              "      fill: #1967D2;\n",
              "      height: 32px;\n",
              "      padding: 0 0 0 0;\n",
              "      width: 32px;\n",
              "    }\n",
              "\n",
              "    .colab-df-convert:hover {\n",
              "      background-color: #E2EBFA;\n",
              "      box-shadow: 0px 1px 2px rgba(60, 64, 67, 0.3), 0px 1px 3px 1px rgba(60, 64, 67, 0.15);\n",
              "      fill: #174EA6;\n",
              "    }\n",
              "\n",
              "    .colab-df-buttons div {\n",
              "      margin-bottom: 4px;\n",
              "    }\n",
              "\n",
              "    [theme=dark] .colab-df-convert {\n",
              "      background-color: #3B4455;\n",
              "      fill: #D2E3FC;\n",
              "    }\n",
              "\n",
              "    [theme=dark] .colab-df-convert:hover {\n",
              "      background-color: #434B5C;\n",
              "      box-shadow: 0px 1px 3px 1px rgba(0, 0, 0, 0.15);\n",
              "      filter: drop-shadow(0px 1px 2px rgba(0, 0, 0, 0.3));\n",
              "      fill: #FFFFFF;\n",
              "    }\n",
              "  </style>\n",
              "\n",
              "    <script>\n",
              "      const buttonEl =\n",
              "        document.querySelector('#df-907bc479-d372-4302-a894-4f9102b71cce button.colab-df-convert');\n",
              "      buttonEl.style.display =\n",
              "        google.colab.kernel.accessAllowed ? 'block' : 'none';\n",
              "\n",
              "      async function convertToInteractive(key) {\n",
              "        const element = document.querySelector('#df-907bc479-d372-4302-a894-4f9102b71cce');\n",
              "        const dataTable =\n",
              "          await google.colab.kernel.invokeFunction('convertToInteractive',\n",
              "                                                    [key], {});\n",
              "        if (!dataTable) return;\n",
              "\n",
              "        const docLinkHtml = 'Like what you see? Visit the ' +\n",
              "          '<a target=\"_blank\" href=https://colab.research.google.com/notebooks/data_table.ipynb>data table notebook</a>'\n",
              "          + ' to learn more about interactive tables.';\n",
              "        element.innerHTML = '';\n",
              "        dataTable['output_type'] = 'display_data';\n",
              "        await google.colab.output.renderOutput(dataTable, element);\n",
              "        const docLink = document.createElement('div');\n",
              "        docLink.innerHTML = docLinkHtml;\n",
              "        element.appendChild(docLink);\n",
              "      }\n",
              "    </script>\n",
              "  </div>\n",
              "\n",
              "\n",
              "    </div>\n",
              "  </div>\n"
            ]
          },
          "metadata": {},
          "execution_count": 78
        }
      ]
    },
    {
      "cell_type": "code",
      "source": [
        "merged_games_all.columns"
      ],
      "metadata": {
        "id": "SUBlPoQeirwG",
        "colab": {
          "base_uri": "https://localhost:8080/"
        },
        "outputId": "12cebd96-3c86-4bc1-89d4-a227ae49f840"
      },
      "execution_count": 79,
      "outputs": [
        {
          "output_type": "execute_result",
          "data": {
            "text/plain": [
              "Index(['GAME_DATE_EST', 'GAME_ID', 'GAME_STATUS_TEXT', 'HOME_TEAM_ID',\n",
              "       'VISITOR_TEAM_ID', 'SEASON', 'TEAM_ID_home', 'PTS_home', 'FG_PCT_home',\n",
              "       'FT_PCT_home', 'FG3_PCT_home', 'AST_home', 'REB_home', 'TEAM_ID_away',\n",
              "       'PTS_away', 'FG_PCT_away', 'FT_PCT_away', 'FG3_PCT_away', 'AST_away',\n",
              "       'REB_away', 'HOME_TEAM_WINS', 'ABBREVIATION_h', 'NICKNAME_h', 'CITY_h',\n",
              "       'ABBREVIATION_a', 'NICKNAME_a', 'CITY_a'],\n",
              "      dtype='object')"
            ]
          },
          "metadata": {},
          "execution_count": 79
        }
      ]
    },
    {
      "cell_type": "code",
      "source": [
        "merged_games_all.shape"
      ],
      "metadata": {
        "id": "N6sOXFjPjB8j",
        "colab": {
          "base_uri": "https://localhost:8080/"
        },
        "outputId": "fd6900e2-653e-4a0e-bca9-00cba91919ac"
      },
      "execution_count": 80,
      "outputs": [
        {
          "output_type": "execute_result",
          "data": {
            "text/plain": [
              "(26651, 27)"
            ]
          },
          "metadata": {},
          "execution_count": 80
        }
      ]
    },
    {
      "cell_type": "markdown",
      "source": [
        "Everything looks good! Let save it to a csv file for future use."
      ],
      "metadata": {
        "id": "oNeEmttL6vz1"
      }
    },
    {
      "cell_type": "markdown",
      "source": [
        "## Step 3\n",
        "### Write the dataframe to a new csv file"
      ],
      "metadata": {
        "id": "WjV6QOLT-MP0"
      }
    },
    {
      "cell_type": "code",
      "source": [
        "# prompt: write merged_games_all to a csv, without the integer index\n",
        "\n",
        "merged_games_all.to_csv('nba_games_with_names.csv', index=False)\n"
      ],
      "metadata": {
        "id": "z68N2V4n8yrg"
      },
      "execution_count": 81,
      "outputs": []
    }
  ]
}