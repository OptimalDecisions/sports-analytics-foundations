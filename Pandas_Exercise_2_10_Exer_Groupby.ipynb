{
  "nbformat": 4,
  "nbformat_minor": 0,
  "metadata": {
    "colab": {
      "provenance": [],
      "toc_visible": true,
      "authorship_tag": "ABX9TyOkf591gJ47++F6uqX1ExH8",
      "include_colab_link": true
    },
    "kernelspec": {
      "name": "python3",
      "display_name": "Python 3"
    },
    "language_info": {
      "name": "python"
    }
  },
  "cells": [
    {
      "cell_type": "markdown",
      "metadata": {
        "id": "view-in-github",
        "colab_type": "text"
      },
      "source": [
        "<a href=\"https://colab.research.google.com/github/OptimalDecisions/sports-analytics-foundations/blob/main/Pandas_Exercise_2_10_Exer_Groupby.ipynb\" target=\"_parent\"><img src=\"https://colab.research.google.com/assets/colab-badge.svg\" alt=\"Open In Colab\"/></a>"
      ]
    },
    {
      "cell_type": "markdown",
      "source": [
        "## Pandas Exercises 2.10\n"
      ],
      "metadata": {
        "id": "G5x6rnMwQ7SK"
      }
    },
    {
      "cell_type": "markdown",
      "source": [
        "# Groupby Exercises\n",
        "\n",
        "<img src = \"../img/sa_logo.png\" width=\"100\" align=\"left\">\n",
        "\n",
        "Ram Narasimhan\n",
        "\n",
        "  <br><br><br>\n",
        "\n",
        "This notebook contains exercises based on the topics covered in [notebook 2.10](https://github.com/OptimalDecisions/sports-analytics-foundations/blob/main/pandas-basics/Pandas_Basics_2_9_Merging_Dataframes.ipynb)"
      ],
      "metadata": {
        "id": "yrbAY49hQ_kG"
      }
    },
    {
      "cell_type": "code",
      "source": [
        "import numpy as np\n",
        "import matplotlib.pyplot as plt\n",
        "import pandas as pd\n",
        "import seaborn as sns\n",
        "%matplotlib inline"
      ],
      "metadata": {
        "id": "RdU9cAnkcHnu"
      },
      "execution_count": 2,
      "outputs": []
    },
    {
      "cell_type": "code",
      "source": [
        "url = \"https://raw.githubusercontent.com/OptimalDecisions/sports-analytics-foundations/main/data/fifa-world-cup-2022.csv\"\n",
        "df = pd.read_csv(url)"
      ],
      "metadata": {
        "id": "7fvTKJJkcJwy"
      },
      "execution_count": 3,
      "outputs": []
    },
    {
      "cell_type": "markdown",
      "source": [
        "### Exercise 1: Number of Matches in Each Round\n",
        "\n",
        "You want to analyze the distribution of matches in each round of the FIFA 2022 tournament. Group the data by 'Round Number' and calculate the total number of matches played in each round.\n",
        "\n",
        "Your task: Group by 'Round Number' and calculate the total number of matches played in each round.\n",
        "\n",
        "Trivia question: Why are there 2 games in the Finals round? Shouldn't there be just 1?\n"
      ],
      "metadata": {
        "id": "K9COl9UabjNk"
      }
    },
    {
      "cell_type": "code",
      "source": [
        "df.groupby('Round Number').size()"
      ],
      "metadata": {
        "colab": {
          "base_uri": "https://localhost:8080/"
        },
        "id": "VbY6BTb16ckS",
        "outputId": "81878621-9284-498f-e1fc-df2ffb3bba44"
      },
      "execution_count": 27,
      "outputs": [
        {
          "output_type": "execute_result",
          "data": {
            "text/plain": [
              "Round Number\n",
              "1                 16\n",
              "2                 16\n",
              "3                 16\n",
              "Finals             2\n",
              "Quarter Finals     4\n",
              "Round of 16        8\n",
              "Semi Finals        2\n",
              "dtype: int64"
            ]
          },
          "metadata": {},
          "execution_count": 27
        }
      ]
    },
    {
      "cell_type": "markdown",
      "source": [
        "### Exercise 2: Highest Scoring Matches by Round\n",
        "\n",
        "You are interested in identifying the highest-scoring matches in the FIFA 2022 in each Round.\n",
        "\n",
        "Group the data by 'Round Number' and find the match with the highest total number of goals.\n",
        "\n",
        "Hint: You might have to Split the `Result` Column and create a \"Total Goals\" column to make things easier!"
      ],
      "metadata": {
        "id": "Y3fqW1xybftt"
      }
    },
    {
      "cell_type": "code",
      "source": [],
      "metadata": {
        "colab": {
          "base_uri": "https://localhost:8080/"
        },
        "id": "uE6SainKbyK2",
        "outputId": "e5ed9489-031e-4b09-fc53-2fb7b6b4e5fc"
      },
      "execution_count": 29,
      "outputs": [
        {
          "output_type": "execute_result",
          "data": {
            "text/plain": [
              "Round Number\n",
              "1                 7 - 0\n",
              "2                 4 - 1\n",
              "3                 2 - 4\n",
              "Finals            3 - 3\n",
              "Quarter Finals    2 - 2\n",
              "Round of 16       6 - 1\n",
              "Semi Finals       3 - 0\n",
              "Name: Result, dtype: object"
            ]
          },
          "metadata": {},
          "execution_count": 29
        }
      ]
    },
    {
      "cell_type": "code",
      "source": [],
      "metadata": {
        "id": "BTeHE7ojcmD9"
      },
      "execution_count": 33,
      "outputs": []
    },
    {
      "cell_type": "markdown",
      "source": [
        "### Exercise 3: Most Common Result by Group\n",
        "\n",
        "You are interested in finding the most common match result for each group (Groups A-F). Group the data by `Group` and determine the most frequent match result within each group.\n",
        "\n",
        "Your task: Group by 'Group' and find the most common match result within each group.\n",
        "\n",
        "Read the [StackOverflow responses here](https://stackoverflow.com/questions/52073054/group-by-a-column-to-find-the-most-frequent-value-in-another-column).\n"
      ],
      "metadata": {
        "id": "9vosGD5gb8NB"
      }
    },
    {
      "cell_type": "code",
      "source": [
        "\n"
      ],
      "metadata": {
        "id": "8_xyxJv19bZR"
      },
      "execution_count": 33,
      "outputs": []
    },
    {
      "cell_type": "markdown",
      "source": [
        "### Exercise 4: Average Goals Scored\n",
        "\n",
        "You want to analyze the average number of goals scored by each team in the FIFA 2022 dataset. Group the data by teams and calculate the average number of goals scored in home and away matches separately.\n",
        "\n",
        "Your task: Group by both 'Home Team' and 'Away Team' and calculate the average number of goals scored by each team.\n",
        "\n"
      ],
      "metadata": {
        "id": "4T-3zX6AcAFq"
      }
    },
    {
      "cell_type": "code",
      "source": [],
      "metadata": {
        "colab": {
          "base_uri": "https://localhost:8080/"
        },
        "id": "7bMmV2nL1iQJ",
        "outputId": "689c8019-8422-4c60-e1d9-7e700d031cd5"
      },
      "execution_count": 15,
      "outputs": [
        {
          "output_type": "execute_result",
          "data": {
            "text/plain": [
              "Index(['Home Team', 'Total Matches Played'], dtype='object')"
            ]
          },
          "metadata": {},
          "execution_count": 15
        }
      ]
    },
    {
      "cell_type": "markdown",
      "source": [
        "### Challenge 1: Grouping by Teams\n",
        "\n",
        "You have a FIFA 2022 dataset with game results. Your task is to group the data by both home and away teams and calculate the total number of matches played by each team.\n",
        "\n",
        "Your task: Group by both 'Home Team' and 'Away Team' and calculate the total number of matches played by each team.\n",
        "\n",
        "Don't forget to include gaems from both the home and the away side when counting!\n"
      ],
      "metadata": {
        "id": "axsgqY9wbc5j"
      }
    }
  ]
}