{
  "nbformat": 4,
  "nbformat_minor": 0,
  "metadata": {
    "colab": {
      "provenance": [],
      "toc_visible": true,
      "authorship_tag": "ABX9TyNOjCzRdp1ozI8xLX89Nya4",
      "include_colab_link": true
    },
    "kernelspec": {
      "name": "python3",
      "display_name": "Python 3"
    },
    "language_info": {
      "name": "python"
    }
  },
  "cells": [
    {
      "cell_type": "markdown",
      "metadata": {
        "id": "view-in-github",
        "colab_type": "text"
      },
      "source": [
        "<a href=\"https://colab.research.google.com/github/OptimalDecisions/sports-analytics-foundations/blob/main/Pandas_Exercise_2_4_Exer_Column_Operations.ipynb\" target=\"_parent\"><img src=\"https://colab.research.google.com/assets/colab-badge.svg\" alt=\"Open In Colab\"/></a>"
      ]
    },
    {
      "cell_type": "markdown",
      "source": [
        "## Pandas Exercises 2.4\n"
      ],
      "metadata": {
        "id": "G5x6rnMwQ7SK"
      }
    },
    {
      "cell_type": "markdown",
      "source": [
        "# Column Operations\n",
        "\n",
        "  <img src = \"../img/sa_logo.png\" width=\"100\" align=\"left\">\n",
        "\n",
        "  Ram Narasimhan\n",
        "\n",
        "  <br><br><br>\n",
        "\n"
      ],
      "metadata": {
        "id": "yrbAY49hQ_kG"
      }
    },
    {
      "cell_type": "code",
      "source": [
        "import numpy as np\n",
        "import matplotlib.pyplot as plt\n",
        "import pandas as pd\n",
        "import seaborn as sns\n",
        "%matplotlib inline"
      ],
      "metadata": {
        "id": "RdU9cAnkcHnu"
      },
      "execution_count": null,
      "outputs": []
    },
    {
      "cell_type": "code",
      "source": [
        "# Read in the Play by Play file for an entire NBA Season\n",
        "df = pd.read_csv('https://sports-statistics.com/database/basketball-data/nba/2019-20_pbp.csv')\n"
      ],
      "metadata": {
        "id": "-GFGQlljcwmf"
      },
      "execution_count": null,
      "outputs": []
    },
    {
      "cell_type": "code",
      "source": [
        "df.columns, df.shape"
      ],
      "metadata": {
        "colab": {
          "base_uri": "https://localhost:8080/"
        },
        "id": "0_E9gXW3cQEo",
        "outputId": "8088f88a-54fa-408c-d40b-7273a5151af3"
      },
      "execution_count": null,
      "outputs": [
        {
          "output_type": "execute_result",
          "data": {
            "text/plain": [
              "(Index(['URL', 'GameType', 'Location', 'Date', 'Time', 'WinningTeam', 'Quarter',\n",
              "        'SecLeft', 'AwayTeam', 'AwayPlay', 'AwayScore', 'HomeTeam', 'HomePlay',\n",
              "        'HomeScore', 'Shooter', 'ShotType', 'ShotOutcome', 'ShotDist',\n",
              "        'Assister', 'Blocker', 'FoulType', 'Fouler', 'Fouled', 'Rebounder',\n",
              "        'ReboundType', 'ViolationPlayer', 'ViolationType', 'TimeoutTeam',\n",
              "        'FreeThrowShooter', 'FreeThrowOutcome', 'FreeThrowNum', 'EnterGame',\n",
              "        'LeaveGame', 'TurnoverPlayer', 'TurnoverType', 'TurnoverCause',\n",
              "        'TurnoverCauser', 'JumpballAwayPlayer', 'JumpballHomePlayer',\n",
              "        'JumpballPoss', 'Unnamed: 40'],\n",
              "       dtype='object'),\n",
              " (539265, 41))"
            ]
          },
          "metadata": {},
          "execution_count": 4
        }
      ]
    },
    {
      "cell_type": "markdown",
      "source": [
        "## Selecting A Few Columns\n",
        "\n",
        "### Exercise 241: There are 4 columns which contain the word \"Player\" in them. Write the pandas command to print the `df` with just these 4 columns.\n"
      ],
      "metadata": {
        "id": "QGKCq23VeQO5"
      }
    },
    {
      "cell_type": "code",
      "source": [],
      "metadata": {
        "id": "ArtfV7NgLYtw"
      },
      "execution_count": null,
      "outputs": []
    },
    {
      "cell_type": "markdown",
      "source": [
        "\n",
        "\n",
        "### Exercise 242: Create a New Column which shows the Total of the Away and the Home team scores.\n",
        "In other words, for each play, show the total of the points scored by both teams."
      ],
      "metadata": {
        "id": "NtkUZOa7LcaT"
      }
    },
    {
      "cell_type": "code",
      "source": [],
      "metadata": {
        "id": "BcGOhORZLX_N"
      },
      "execution_count": null,
      "outputs": []
    },
    {
      "cell_type": "markdown",
      "source": [
        "##\tCreating New Columns\n",
        "\n"
      ],
      "metadata": {
        "id": "fRqUp72hRWCI"
      }
    },
    {
      "cell_type": "markdown",
      "source": [
        "\n",
        "### Exercise 243: Convert `SecLeft` to `MinutesRemaining`\n",
        "\n",
        "We want to know the minutes remaining in each Quarter. Convert the seconds left to minutes remaining, and use Integer number of minutes.\n",
        "\n",
        "For ex. if there 100 minutes left, show 2 minutes remaining.\n",
        "Hint: Look up `math.round()` to round the number of seconds to minutes\n",
        "\n",
        "Store 'MinutesRemaining' as a new column\n"
      ],
      "metadata": {
        "id": "s730F36CyPGZ"
      }
    },
    {
      "cell_type": "code",
      "source": [
        "\n"
      ],
      "metadata": {
        "id": "50WAUsQlLW7K"
      },
      "execution_count": null,
      "outputs": []
    },
    {
      "cell_type": "markdown",
      "source": [
        "### Exercise 244: Drop some columns\n",
        "\n",
        "Drop the following columns from the dataframe, permanently.\n",
        "\n",
        "'TimeoutTeam',\n",
        "'FreeThrowShooter', 'FreeThrowOutcome',\n",
        "'FreeThrowNum',\n",
        "'EnterGame',\n",
        "'LeaveGame',\n",
        "        'JumpballAwayPlayer', 'JumpballHomePlayer',\n",
        "        'JumpballPoss', 'Unnamed: 40'\n"
      ],
      "metadata": {
        "id": "jYezeqkbzAj4"
      }
    },
    {
      "cell_type": "code",
      "source": [
        "\n"
      ],
      "metadata": {
        "id": "9IZ2Q3ZzLVWZ"
      },
      "execution_count": null,
      "outputs": []
    },
    {
      "cell_type": "markdown",
      "source": [
        "## Rename Columns\n"
      ],
      "metadata": {
        "id": "XKBMPqZ3Rrzx"
      }
    },
    {
      "cell_type": "markdown",
      "source": [
        "\n",
        "### Exercise 245: Rename Columns to be easier to read\n",
        "\n",
        "Please make the following changes to the dataframe column Names.\n",
        "\n",
        "```\n",
        "OldName --> New Name\n",
        "\n",
        "Any column that has FreeThrow to be replaced with FT\n",
        "\n",
        "ex. FreeThrowNum --> FTNum etc.\n",
        "\n",
        "Also, change Tm --> Team\n",
        "```"
      ],
      "metadata": {
        "id": "8pqp2bo5CyfX"
      }
    },
    {
      "cell_type": "code",
      "source": [],
      "metadata": {
        "id": "NYOdfNSPLNqn"
      },
      "execution_count": null,
      "outputs": []
    },
    {
      "cell_type": "code",
      "source": [],
      "metadata": {
        "id": "TNkApDd-PUg5"
      },
      "execution_count": null,
      "outputs": []
    }
  ]
}