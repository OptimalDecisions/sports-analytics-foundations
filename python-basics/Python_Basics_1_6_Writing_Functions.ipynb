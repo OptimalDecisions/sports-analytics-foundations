{
  "cells": [
    {
      "cell_type": "markdown",
      "metadata": {
        "id": "view-in-github",
        "colab_type": "text"
      },
      "source": [
        "<a href=\"https://colab.research.google.com/github/OptimalDecisions/sports-analytics-foundations/blob/main/python-basics/Python_Basics_1_6_Writing_Functions.ipynb\" target=\"_parent\"><img src=\"https://colab.research.google.com/assets/colab-badge.svg\" alt=\"Open In Colab\"/></a>"
      ]
    },
    {
      "cell_type": "markdown",
      "metadata": {
        "id": "9IAnmibxiAZx"
      },
      "source": [
        "\n",
        "### Python Basics 1.6\n",
        "\n",
        "# Functions: Using and Creating Python Functions\n",
        "\n",
        "<img src = \"../img/sa_logo.png\" width=\"100\" align=\"left\">\n",
        "\n",
        "<br>Ram Narasimhan"
      ]
    },
    {
      "cell_type": "markdown",
      "metadata": {
        "id": "uWpz_L2IiAZ1"
      },
      "source": [
        "### <div class=\"alert alert-block alert-success\"> What are functions?\n",
        "\n",
        "</div>\n",
        "\n",
        "Functions are objects, defined with the ‘def’ statement followed by argument list. The function body is defined using indentation like other python statements.\n",
        "\n",
        "\n",
        "Some functions will return useful values, others may return nothing.\n"
      ]
    },
    {
      "cell_type": "markdown",
      "metadata": {
        "id": "zG9cDv0xiAZ2"
      },
      "source": [
        "### Purpose of writing functions\n",
        "\n",
        "* To make useful portions of the code re-usable\n",
        "\n",
        "* Functions group code into logical chunks (units) and make it more readable\n",
        "\n",
        "- We can bring in functions that we have written previously, in other python programs"
      ]
    },
    {
      "cell_type": "markdown",
      "metadata": {
        "id": "Xo77ewW4iAZ2"
      },
      "source": [
        "\n",
        "### Structure of any Python Function\n",
        "\n",
        "\n",
        "When creating a function you use the prefix:\n",
        "```\n",
        "\tdef name_of_function():\n",
        "        python statement\n",
        "        python statement\n",
        "        . . .\n",
        "        python statement\n",
        "\n",
        "        return() #closes the function.\n",
        "```\n",
        "\n",
        "The end of the function is defined by return. The function will not look at the code past the `return` statement\n",
        "\n",
        "It is important to remember that keywords must come at the end when using both non-keyword and keyword arguments.\n"
      ]
    },
    {
      "cell_type": "markdown",
      "metadata": {
        "id": "KdqsQmt0iAZ3"
      },
      "source": [
        "### Pre-built Python Functions\n",
        "\n",
        "\n",
        "We have been using many functions already"
      ]
    },
    {
      "cell_type": "markdown",
      "metadata": {
        "id": "XUsHLV6EiAZ3"
      },
      "source": [
        "`print()` is a built-in Python function"
      ]
    },
    {
      "cell_type": "code",
      "execution_count": 1,
      "metadata": {
        "colab": {
          "base_uri": "https://localhost:8080/"
        },
        "id": "rX5fuI7qiAZ4",
        "outputId": "c45ea243-5b2a-44fb-f5e1-6538c5730e43"
      },
      "outputs": [
        {
          "output_type": "stream",
          "name": "stdout",
          "text": [
            "3 4\n"
          ]
        }
      ],
      "source": [
        "x, y = 3, 4\n",
        "\n",
        "str(x)\n",
        "print(x, y) # x and y are called \"arguments\" to the function.\n",
        "\n",
        "#The print function is given two arguments, x and y"
      ]
    },
    {
      "cell_type": "code",
      "execution_count": 2,
      "metadata": {
        "colab": {
          "base_uri": "https://localhost:8080/"
        },
        "id": "_87tZYR7iAZ6",
        "outputId": "5664ca03-0919-41bd-daa3-fdb3c34ebdf2"
      },
      "outputs": [
        {
          "output_type": "stream",
          "name": "stdout",
          "text": [
            "Help on built-in function print in module builtins:\n",
            "\n",
            "print(...)\n",
            "    print(value, ..., sep=' ', end='\\n', file=sys.stdout, flush=False)\n",
            "    \n",
            "    Prints the values to a stream, or to sys.stdout by default.\n",
            "    Optional keyword arguments:\n",
            "    file:  a file-like object (stream); defaults to the current sys.stdout.\n",
            "    sep:   string inserted between values, default a space.\n",
            "    end:   string appended after the last value, default a newline.\n",
            "    flush: whether to forcibly flush the stream.\n",
            "\n"
          ]
        }
      ],
      "source": [
        "help(print)"
      ]
    },
    {
      "cell_type": "markdown",
      "metadata": {
        "id": "lQs7NngMiAZ6"
      },
      "source": [
        "\n",
        "### Function Parameters and Arguments\n",
        "\n",
        "A `parameter` is the variable listed inside the parentheses in the function definition. An `argument` is the value that are sent to the function when it is called.\n",
        "\n",
        "Functions may have *named* arguments.\n",
        "-  They are also arguments to the function, but they have a given name.\n",
        "\n",
        "Why do we need named arguments inside a function?\n",
        "\n",
        "We need them in case of optional parameters. If a function has lots and lots of arguments, we don't have to enter all of them. We can just send it the few that are of use to us. And we refer to this smaller group, we require their names.\n"
      ]
    },
    {
      "cell_type": "markdown",
      "metadata": {
        "id": "x0vq35ENiAZ7"
      },
      "source": [
        "<img src = \"../img/caution.png\" width=\"50\" align=\"left\">\n",
        "\n",
        "Note: <div class=\"alert alert-block alert-info\">If you use both non-keyword and keyword args in a function call, the keywords must come at the end\n",
        "</div>\n"
      ]
    },
    {
      "cell_type": "code",
      "execution_count": 14,
      "metadata": {
        "id": "PvU0-fBTiAZ7"
      },
      "outputs": [],
      "source": [
        "x, y = 1, 2\n"
      ]
    },
    {
      "cell_type": "code",
      "source": [
        "\n",
        "#The following won't work\n",
        "print(sep=\"@\", x, y)"
      ],
      "metadata": {
        "colab": {
          "base_uri": "https://localhost:8080/",
          "height": 145
        },
        "id": "b6yJOIhAOPpy",
        "outputId": "4171fb8a-06cc-4d00-ab72-5ce0b6d4d9bb"
      },
      "execution_count": 15,
      "outputs": [
        {
          "output_type": "error",
          "ename": "SyntaxError",
          "evalue": "ignored",
          "traceback": [
            "\u001b[0;36m  File \u001b[0;32m\"<ipython-input-15-bb6415bbaf20>\"\u001b[0;36m, line \u001b[0;32m2\u001b[0m\n\u001b[0;31m    print(sep=\"@\", x, y)\u001b[0m\n\u001b[0m                       ^\u001b[0m\n\u001b[0;31mSyntaxError\u001b[0m\u001b[0;31m:\u001b[0m positional argument follows keyword argument\n"
          ]
        }
      ]
    },
    {
      "cell_type": "code",
      "execution_count": 16,
      "metadata": {
        "colab": {
          "base_uri": "https://localhost:8080/"
        },
        "id": "-JRZB_qkiAZ6",
        "outputId": "ced348f3-3fdb-40e8-ef26-58642df4597d"
      },
      "outputs": [
        {
          "output_type": "stream",
          "name": "stdout",
          "text": [
            "1--2--1\n"
          ]
        }
      ],
      "source": [
        "print(x,y,x, sep=\"--\") # sep is called a keyword\n",
        "#In this case, we are asking that two dashes be a separator"
      ]
    },
    {
      "cell_type": "code",
      "source": [
        "print( x, y, sep=\"           \")"
      ],
      "metadata": {
        "colab": {
          "base_uri": "https://localhost:8080/"
        },
        "id": "hhWEn5meI44x",
        "outputId": "301af010-6fae-40ec-8fad-1777c2feb19a"
      },
      "execution_count": 17,
      "outputs": [
        {
          "output_type": "stream",
          "name": "stdout",
          "text": [
            "1           2\n"
          ]
        }
      ]
    },
    {
      "cell_type": "markdown",
      "source": [
        "`pow()` is a pre-built function. Let's see how to use it."
      ],
      "metadata": {
        "id": "jpT7YcL0OAK2"
      }
    },
    {
      "cell_type": "code",
      "execution_count": 18,
      "metadata": {
        "colab": {
          "base_uri": "https://localhost:8080/"
        },
        "id": "SH_3ZiZIiAZ7",
        "outputId": "66f31b21-35f4-4cb0-d07f-78c7bbdc70c4"
      },
      "outputs": [
        {
          "output_type": "execute_result",
          "data": {
            "text/plain": [
              "8"
            ]
          },
          "metadata": {},
          "execution_count": 18
        }
      ],
      "source": [
        "pow(2,3)\n",
        "\n",
        "#  What do we call 2 and 3 being sent to the pow() function?\n",
        "#  What is 8 for this function?"
      ]
    },
    {
      "cell_type": "markdown",
      "metadata": {
        "id": "tmBBDm7miAZ8"
      },
      "source": [
        "Functions sometimes might **return values**, but they don't have to.\n",
        "If a function returns a value, we can use it for future computation."
      ]
    },
    {
      "cell_type": "markdown",
      "metadata": {
        "id": "MAm95maSiAZ8"
      },
      "source": [
        "### Writing Our Own Functions"
      ]
    },
    {
      "cell_type": "markdown",
      "metadata": {
        "id": "GVmOCu-0iAZ8"
      },
      "source": [
        "* Use `def` `:` and a function name\n",
        "* Function names have the same rules as variable names\n",
        "- Remember to indent the content of each function with 4 white spaces"
      ]
    },
    {
      "cell_type": "code",
      "execution_count": 8,
      "metadata": {
        "id": "-Y37RWkEiAZ8"
      },
      "outputs": [],
      "source": [
        "def area_of_circle(radius):\n",
        "    area = 3.1415 * pow(radius,2)\n",
        "    print(area)\n",
        "    #print(\"Leaving Area function...Bye!\")\n",
        "    return(area)\n"
      ]
    },
    {
      "cell_type": "markdown",
      "source": [
        "To `call` a function, just type its name followed by the necessary parameters inside the parenthesis."
      ],
      "metadata": {
        "id": "nOg3vz7bKsHN"
      }
    },
    {
      "cell_type": "code",
      "execution_count": 11,
      "metadata": {
        "colab": {
          "base_uri": "https://localhost:8080/"
        },
        "id": "cJJmdoRZiAZ8",
        "outputId": "bea286d4-d331-4bad-e4c5-79bc5322d8d5"
      },
      "outputs": [
        {
          "output_type": "stream",
          "name": "stdout",
          "text": [
            "Area of circle with radius 2 is 12.566\n",
            "Area of circle with radius 1 is 3.1415\n"
          ]
        }
      ],
      "source": [
        "area_a = area_of_circle2(2)\n",
        "area_b = area_of_circle2(1)\n",
        "\n",
        "print(f\"Area of circle with radius {2} is {area_a}\")\n",
        "print(f\"Area of circle with radius {1} is {area_b}\")"
      ]
    },
    {
      "cell_type": "code",
      "source": [
        "def circle_area(radius=2):\n",
        "    area = 3.1415 * pow(radius,2)\n",
        "    #print(\"Leaving Area function...Bye!\")\n",
        "    return(area)"
      ],
      "metadata": {
        "id": "kXe3AFNvjrtz"
      },
      "execution_count": 15,
      "outputs": []
    },
    {
      "cell_type": "markdown",
      "metadata": {
        "id": "ieuKIfaFiAZ9"
      },
      "source": [
        "In the function `def` statement above `radius = 2`, is the default value.\n",
        "If the user does not specify any value, 2 is used.\n"
      ]
    },
    {
      "cell_type": "code",
      "execution_count": 16,
      "metadata": {
        "colab": {
          "base_uri": "https://localhost:8080/"
        },
        "id": "_WJHsXB5iAZ9",
        "outputId": "62e7afba-7e80-4f10-b967-8bc9c0799a8d"
      },
      "outputs": [
        {
          "output_type": "execute_result",
          "data": {
            "text/plain": [
              "12.566"
            ]
          },
          "metadata": {},
          "execution_count": 16
        }
      ],
      "source": [
        "circle_area()"
      ]
    },
    {
      "cell_type": "code",
      "source": [
        "circle_area(3)"
      ],
      "metadata": {
        "colab": {
          "base_uri": "https://localhost:8080/"
        },
        "id": "ZGG4hvkhkA-Z",
        "outputId": "3b232094-30de-4c5f-bb13-62c50ed70b4d"
      },
      "execution_count": 17,
      "outputs": [
        {
          "output_type": "execute_result",
          "data": {
            "text/plain": [
              "28.273500000000002"
            ]
          },
          "metadata": {},
          "execution_count": 17
        }
      ]
    },
    {
      "cell_type": "markdown",
      "metadata": {
        "id": "75oAXFgyiAZ9"
      },
      "source": [
        "##  Exercise...\n",
        "\n",
        "Try it yourself.\n",
        "\n",
        "Given n, write a function to calculate the sum of the first n integers. (1+2+3+... + n)\n",
        "\n",
        "for e.g. functionName(5) should return 15. (5+4+3+2+1) :)"
      ]
    },
    {
      "cell_type": "markdown",
      "metadata": {
        "id": "hnIstAaRiAZ-"
      },
      "source": [
        "Try it yourself.\n",
        "\n",
        "Given n, write a function to calculate the sum of the first n integers. (1+2+3+... + n)\n",
        "\n",
        "Hint: The sum of the first $n$ numbers is $n (n+1)/2$"
      ]
    },
    {
      "cell_type": "markdown",
      "metadata": {
        "id": "mdXAB_j1iAZ-"
      },
      "source": [
        "Note: Avoid using the same name for a variable and the name of the function"
      ]
    },
    {
      "cell_type": "code",
      "execution_count": 5,
      "metadata": {
        "id": "VEVJcMTKiAZ-"
      },
      "outputs": [],
      "source": [
        "def sum_n_using_loop(n):\n",
        "    total = 0\n",
        "\n",
        "    for i in range(1, n+1):\n",
        "        total = total + i\n",
        "\n",
        "    return total"
      ]
    },
    {
      "cell_type": "code",
      "execution_count": 6,
      "metadata": {
        "colab": {
          "base_uri": "https://localhost:8080/"
        },
        "id": "5tnjxVLViAZ-",
        "outputId": "bd8db214-6a25-47ae-cdba-f84a8a0fdc5d"
      },
      "outputs": [
        {
          "output_type": "execute_result",
          "data": {
            "text/plain": [
              "10"
            ]
          },
          "metadata": {},
          "execution_count": 6
        }
      ],
      "source": [
        "sum_n_using_loop(4)"
      ]
    },
    {
      "cell_type": "code",
      "execution_count": 7,
      "metadata": {
        "id": "FrTkXaJniAZ-"
      },
      "outputs": [],
      "source": [
        "def sum_of_first_n_numbers(n):\n",
        "    return(n * (n+1)/2)"
      ]
    },
    {
      "cell_type": "code",
      "execution_count": 8,
      "metadata": {
        "id": "8CdvSKngiAZ-"
      },
      "outputs": [],
      "source": [
        "s = sum_of_first_n_numbers(10)"
      ]
    },
    {
      "cell_type": "code",
      "execution_count": 9,
      "metadata": {
        "colab": {
          "base_uri": "https://localhost:8080/"
        },
        "id": "gvcYk-jBiAZ_",
        "outputId": "469b447c-579a-4190-a144-a3285b067c09"
      },
      "outputs": [
        {
          "output_type": "stream",
          "name": "stdout",
          "text": [
            "55.0\n"
          ]
        }
      ],
      "source": [
        "print(s)"
      ]
    },
    {
      "cell_type": "markdown",
      "source": [
        "\n",
        "Reference for Functions\n",
        "This document on writing functions in Python is very good.\n",
        "http://devarea.com/python-writing-functions-complete-guide/#.Wo0SxyXwa00\n",
        "\n",
        "\n"
      ],
      "metadata": {
        "id": "yJiwYcWnJ9Rw"
      }
    }
  ],
  "metadata": {
    "celltoolbar": "Slideshow",
    "kernelspec": {
      "display_name": "Python 3",
      "language": "python",
      "name": "python3"
    },
    "language_info": {
      "codemirror_mode": {
        "name": "ipython",
        "version": 3
      },
      "file_extension": ".py",
      "mimetype": "text/x-python",
      "name": "python",
      "nbconvert_exporter": "python",
      "pygments_lexer": "ipython3",
      "version": "3.6.5"
    },
    "colab": {
      "provenance": [],
      "include_colab_link": true
    }
  },
  "nbformat": 4,
  "nbformat_minor": 0
}