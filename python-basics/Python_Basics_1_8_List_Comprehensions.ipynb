{
  "cells": [
    {
      "cell_type": "markdown",
      "metadata": {
        "id": "view-in-github",
        "colab_type": "text"
      },
      "source": [
        "<a href=\"https://colab.research.google.com/github/OptimalDecisions/sports-analytics-foundations/blob/main/python-basics/Python_Basics_1_8_List_Comprehensions.ipynb\" target=\"_parent\"><img src=\"https://colab.research.google.com/assets/colab-badge.svg\" alt=\"Open In Colab\"/></a>"
      ]
    },
    {
      "cell_type": "markdown",
      "metadata": {
        "id": "9IAnmibxiAZx"
      },
      "source": [
        "\n",
        "### Python Basics 1.8\n",
        "\n",
        "# Python List Comprehensions\n",
        "\n",
        "<img src = \"../img/sa_logo.png\" width=\"100\" align=\"left\">\n",
        "\n",
        "<br>Ram Narasimhan"
      ]
    },
    {
      "cell_type": "markdown",
      "metadata": {
        "id": "uWpz_L2IiAZ1"
      },
      "source": [
        "### <div class=\"alert alert-block alert-success\"> What are List Comprehensions?\n",
        "\n",
        "</div>\n",
        "\n"
      ]
    },
    {
      "cell_type": "markdown",
      "metadata": {
        "id": "zG9cDv0xiAZ2"
      },
      "source": [
        "\n",
        "List comprehensions are a concise and readable way to create lists in Python. They provide a compact syntax to define lists in a single line, making code more expressive and reducing the need for traditional loops.\n",
        "\n",
        "In general, a list comprehension has the following structure:\n",
        "\n",
        "```\n",
        "new_list = [expression for item in iterable]\n",
        "```\n",
        "\n",
        "Here:\n",
        "\n",
        "- `expression` is the operation performed on each item.\n",
        "- `item` is a variable that takes on each value in the iterable.\n",
        "- `iterable` is any iterable object like a list, tuple, or string.\n",
        "\n"
      ]
    },
    {
      "cell_type": "markdown",
      "source": [
        "### 2. When should we use a list comprehension?\n",
        "\n",
        "Use list comprehensions when you want to create a new list by applying an operation to each item in an existing iterable. They are particularly useful when the logic is straightforward, and you want to write concise and readable code.\n",
        "\n"
      ],
      "metadata": {
        "id": "fMOjkTN5X9x5"
      }
    },
    {
      "cell_type": "markdown",
      "source": [
        "### 3. Examples of List Comprehensions:\n",
        "\n",
        "Example 1: Creating a list of squares\n",
        "\n"
      ],
      "metadata": {
        "id": "iwVMzF0MuqAU"
      }
    },
    {
      "cell_type": "code",
      "source": [
        "squares = [x**2 for x in range(15)]\n",
        "squares"
      ],
      "metadata": {
        "id": "7tK4UmGOveAe",
        "colab": {
          "base_uri": "https://localhost:8080/"
        },
        "outputId": "26de0d54-2456-4598-9ab3-98a46459bcf6"
      },
      "execution_count": 8,
      "outputs": [
        {
          "output_type": "execute_result",
          "data": {
            "text/plain": [
              "[0, 1, 4, 9, 16, 25, 36, 49, 64, 81, 100, 121, 144, 169, 196]"
            ]
          },
          "metadata": {},
          "execution_count": 8
        }
      ]
    },
    {
      "cell_type": "markdown",
      "source": [
        "\n",
        "Example 2: Filtering even numbers\n"
      ],
      "metadata": {
        "id": "XzTBd6XOvgyg"
      }
    },
    {
      "cell_type": "code",
      "source": [
        "even_numbers = [x for x in range(20) if x % 2 == 0]\n",
        "even_numbers"
      ],
      "metadata": {
        "id": "AJaGjujgvU1S",
        "colab": {
          "base_uri": "https://localhost:8080/"
        },
        "outputId": "1238ae2e-4471-41bf-dac3-511b4b251fa3"
      },
      "execution_count": 9,
      "outputs": [
        {
          "output_type": "execute_result",
          "data": {
            "text/plain": [
              "[0, 2, 4, 6, 8, 10, 12, 14, 16, 18]"
            ]
          },
          "metadata": {},
          "execution_count": 9
        }
      ]
    },
    {
      "cell_type": "markdown",
      "source": [
        "\n",
        "### 4. Modifying a list using List comprehensions:\n",
        "List comprehensions can also be used to modify existing lists.\n"
      ],
      "metadata": {
        "id": "JZ8vUMmIvR2E"
      }
    },
    {
      "cell_type": "markdown",
      "source": [
        "\n",
        "Example 3: Doubling each element in a list\n"
      ],
      "metadata": {
        "id": "3gDvLvPbYEXM"
      }
    },
    {
      "cell_type": "code",
      "source": [
        "original_list = [1, 2, 3, 4, 5]\n",
        "doubled_list = [x * 2 for x in original_list]\n",
        "doubled_list"
      ],
      "metadata": {
        "id": "VCByCL98vLBe",
        "colab": {
          "base_uri": "https://localhost:8080/"
        },
        "outputId": "ef0b8822-c481-4296-9c2e-b0751f41f882"
      },
      "execution_count": 10,
      "outputs": [
        {
          "output_type": "execute_result",
          "data": {
            "text/plain": [
              "[2, 4, 6, 8, 10]"
            ]
          },
          "metadata": {},
          "execution_count": 10
        }
      ]
    },
    {
      "cell_type": "markdown",
      "source": [
        "### 5. Using a condition (if) within a list comprehension:\n",
        "You can include an if statement to filter items based on a condition.\n",
        "\n"
      ],
      "metadata": {
        "id": "_fom5WPbYKlD"
      }
    },
    {
      "cell_type": "markdown",
      "source": [
        "Example 4: Squares of even numbers\n",
        "\n"
      ],
      "metadata": {
        "id": "BkfjU7ZPYHfn"
      }
    },
    {
      "cell_type": "code",
      "source": [
        "squares_of_evens = [x**2 for x in range(20) if x % 2 == 0]\n",
        "squares_of_evens"
      ],
      "metadata": {
        "id": "zTeLxNp6vpRj",
        "colab": {
          "base_uri": "https://localhost:8080/"
        },
        "outputId": "4cec116a-0142-40cb-c7c4-51585bb16460"
      },
      "execution_count": 11,
      "outputs": [
        {
          "output_type": "execute_result",
          "data": {
            "text/plain": [
              "[0, 4, 16, 36, 64, 100, 144, 196, 256, 324]"
            ]
          },
          "metadata": {},
          "execution_count": 11
        }
      ]
    },
    {
      "cell_type": "markdown",
      "source": [
        "\n",
        "List comprehensions offer a powerful and concise way to work with lists in Python. Experiment with different examples and gradually incorporate them into your coding practices for more efficient and readable code."
      ],
      "metadata": {
        "id": "2JmkjgyTvsfU"
      }
    }
  ],
  "metadata": {
    "celltoolbar": "Slideshow",
    "kernelspec": {
      "display_name": "Python 3",
      "language": "python",
      "name": "python3"
    },
    "language_info": {
      "codemirror_mode": {
        "name": "ipython",
        "version": 3
      },
      "file_extension": ".py",
      "mimetype": "text/x-python",
      "name": "python",
      "nbconvert_exporter": "python",
      "pygments_lexer": "ipython3",
      "version": "3.6.5"
    },
    "colab": {
      "provenance": [],
      "toc_visible": true,
      "include_colab_link": true
    }
  },
  "nbformat": 4,
  "nbformat_minor": 0
}