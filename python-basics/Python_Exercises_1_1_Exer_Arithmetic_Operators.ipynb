{
  "cells": [
    {
      "cell_type": "markdown",
      "metadata": {
        "id": "view-in-github",
        "colab_type": "text"
      },
      "source": [
        "<a href=\"https://colab.research.google.com/github/OptimalDecisions/sports-analytics-foundations/blob/main/python-basics/Python_Exercises_1_1_Exer_Arithmetic_Operators.ipynb\" target=\"_parent\"><img src=\"https://colab.research.google.com/assets/colab-badge.svg\" alt=\"Open In Colab\"/></a>"
      ]
    },
    {
      "cell_type": "markdown",
      "metadata": {
        "id": "lUyCGQ5aJjGc"
      },
      "source": [
        "### 1.1 Python Exercises\n",
        "\n",
        "## Python Arithmetic Operators\n",
        "\n",
        "<img src = \"../img/sa_logo.png\" width=\"100\" align=\"left\">\n",
        "\n",
        "Ram Narasimhan"
      ]
    },
    {
      "cell_type": "markdown",
      "source": [
        "\n",
        "### Exercise 1: Addition and Multiplication\n",
        "\n",
        "Write a Python program to take two numbers as input and calculate their sum and product. Print both the sum and the product.\n",
        "\n"
      ],
      "metadata": {
        "id": "_EQCZwbwSH36"
      }
    },
    {
      "cell_type": "markdown",
      "source": [
        "### Exercise 2: Division and Modulus\n",
        "\n",
        "Assign two numbers to variables `a` and `b`. Then, calculate the result of dividing a by b. Also, assign the `remainder` of `a` divided by `b` to another variable using the `modulus operator`.\n",
        "\n"
      ],
      "metadata": {
        "id": "zmCiBp5XoCPn"
      }
    },
    {
      "cell_type": "markdown",
      "source": [
        "### Exercise 3: Exponentiation\n",
        "\n",
        "Use the power operator to assign the square of a given number to a variable.\n",
        "\n",
        "\n",
        "\n",
        "\n"
      ],
      "metadata": {
        "id": "BH473LWToA6v"
      }
    }
  ],
  "metadata": {
    "kernelspec": {
      "display_name": "Python 3",
      "language": "python",
      "name": "python3"
    },
    "language_info": {
      "codemirror_mode": {
        "name": "ipython",
        "version": 3
      },
      "file_extension": ".py",
      "mimetype": "text/x-python",
      "name": "python",
      "nbconvert_exporter": "python",
      "pygments_lexer": "ipython3",
      "version": "3.7.3"
    },
    "colab": {
      "provenance": [],
      "include_colab_link": true
    }
  },
  "nbformat": 4,
  "nbformat_minor": 0
}