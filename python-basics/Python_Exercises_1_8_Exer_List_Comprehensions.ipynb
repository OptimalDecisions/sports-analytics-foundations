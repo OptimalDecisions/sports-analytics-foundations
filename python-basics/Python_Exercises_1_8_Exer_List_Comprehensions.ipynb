{
  "cells": [
    {
      "cell_type": "markdown",
      "metadata": {
        "id": "view-in-github",
        "colab_type": "text"
      },
      "source": [
        "<a href=\"https://colab.research.google.com/github/OptimalDecisions/sports-analytics-foundations/blob/main/python-basics/Python_Exercises_1_8_Exer_List_Comprehensions.ipynb\" target=\"_parent\"><img src=\"https://colab.research.google.com/assets/colab-badge.svg\" alt=\"Open In Colab\"/></a>"
      ]
    },
    {
      "cell_type": "markdown",
      "metadata": {
        "id": "9IAnmibxiAZx"
      },
      "source": [
        "\n",
        "### Python Exercises 1.8\n",
        "\n",
        "# Functions: Using and Creating Python Functions\n",
        "\n",
        "<img src = \"../img/sa_logo.png\" width=\"100\" align=\"left\">\n",
        "\n",
        "<br>Ram Narasimhan"
      ]
    },
    {
      "cell_type": "markdown",
      "source": [
        "### Exercise 1. Squared Pairs\n",
        "\n",
        "Create a list comprehension that generates a list of tuples, where each tuple contains a number and its square, for numbers in the range 1 to 5.\n"
      ],
      "metadata": {
        "id": "Tsknv4-5xdAy"
      }
    },
    {
      "cell_type": "code",
      "source": [],
      "metadata": {
        "id": "WzT1CPa6xwu0"
      },
      "execution_count": null,
      "outputs": []
    },
    {
      "cell_type": "markdown",
      "source": [
        "\n",
        "\n",
        "### Exercise 2. Even Cubes\n",
        "Generate a list of cubes of even numbers from 1 to 10 using a list comprehension.\n"
      ],
      "metadata": {
        "id": "OOF_xIgSxfMH"
      }
    },
    {
      "cell_type": "code",
      "source": [],
      "metadata": {
        "id": "A3MgNS1YxxKW"
      },
      "execution_count": null,
      "outputs": []
    },
    {
      "cell_type": "markdown",
      "source": [
        "\n",
        "\n",
        "### Exercise 3. Vowel Counter\n",
        "\n",
        "Given a string, create a list comprehension that counts the occurrences of vowels (a, e, i, o, u) in the string and stores the counts in a dictionary.\n"
      ],
      "metadata": {
        "id": "xlX9ZHFPxgQG"
      }
    },
    {
      "cell_type": "code",
      "source": [],
      "metadata": {
        "id": "aQTvYgegxyAH"
      },
      "execution_count": null,
      "outputs": []
    },
    {
      "cell_type": "markdown",
      "source": [
        "\n",
        "\n",
        "### Exercise  4. Filtered Names\n",
        "\n",
        "Given a list of names, create a list comprehension that filters out names that start with the letter 'J'.\n"
      ],
      "metadata": {
        "id": "oAUMWiOYxhg0"
      }
    },
    {
      "cell_type": "code",
      "source": [],
      "metadata": {
        "id": "W_K--NPIxyZ6"
      },
      "execution_count": null,
      "outputs": []
    },
    {
      "cell_type": "markdown",
      "source": [
        "\n",
        "\n",
        "### Exercise 5. Multiples of 3 and 5\n",
        "\n",
        "Generate a list of numbers from 1 to 20 that are multiples of either 3 or 5 using a list comprehension.\n"
      ],
      "metadata": {
        "id": "kD23mNgxxidW"
      }
    },
    {
      "cell_type": "code",
      "source": [],
      "metadata": {
        "id": "7BNE5LY-xy3G"
      },
      "execution_count": null,
      "outputs": []
    },
    {
      "cell_type": "markdown",
      "source": [
        "\n",
        "### Exercise 6. Character Repeater:\n",
        "Given a string, create a list comprehension that repeats each character in the string three times, excluding spaces."
      ],
      "metadata": {
        "id": "kJeWVOfTxjfD"
      }
    },
    {
      "cell_type": "code",
      "source": [],
      "metadata": {
        "id": "4KkWgxpsxz_R"
      },
      "execution_count": 3,
      "outputs": []
    },
    {
      "cell_type": "code",
      "source": [],
      "metadata": {
        "id": "KPvGBUrrx8Jc"
      },
      "execution_count": null,
      "outputs": []
    }
  ],
  "metadata": {
    "celltoolbar": "Slideshow",
    "kernelspec": {
      "display_name": "Python 3",
      "language": "python",
      "name": "python3"
    },
    "language_info": {
      "codemirror_mode": {
        "name": "ipython",
        "version": 3
      },
      "file_extension": ".py",
      "mimetype": "text/x-python",
      "name": "python",
      "nbconvert_exporter": "python",
      "pygments_lexer": "ipython3",
      "version": "3.6.5"
    },
    "colab": {
      "provenance": [],
      "include_colab_link": true
    }
  },
  "nbformat": 4,
  "nbformat_minor": 0
}