{
  "cells": [
    {
      "cell_type": "markdown",
      "metadata": {
        "id": "view-in-github",
        "colab_type": "text"
      },
      "source": [
        "<a href=\"https://colab.research.google.com/github/OptimalDecisions/sports-analytics-foundations/blob/main/python-basics/Python_Exercises_1_4__Exer_Lists.ipynb\" target=\"_parent\"><img src=\"https://colab.research.google.com/assets/colab-badge.svg\" alt=\"Open In Colab\"/></a>"
      ]
    },
    {
      "cell_type": "markdown",
      "metadata": {
        "id": "URKyef4G3JRo"
      },
      "source": [
        "## 1.4E Python Exercises\n",
        "\n",
        "# The Basics of Python Lists\n",
        "\n",
        "<br>Ram Narasimhan"
      ]
    },
    {
      "cell_type": "markdown",
      "source": [
        "### Ex 1: Reverse this list\n",
        "\n",
        "```\n",
        "greats = [\"Pele\", \"Maradonna\", \"Messi\", \"Ronaldo\", \"Cruyff\", \"Platini\"]\n",
        "```\n"
      ],
      "metadata": {
        "id": "NJDLO-ex_--t"
      }
    },
    {
      "cell_type": "markdown",
      "source": [
        "### Ex 2: Sort the following list alphabetically\n",
        "\n",
        "```\n",
        "greats = [\"Pele\", \"Maradonna\", \"Messi\", \"Ronaldo\", \"Cruyff\", \"Platini\"]\n",
        "```\n"
      ],
      "metadata": {
        "id": "fRZTfgW5ARtX"
      }
    },
    {
      "cell_type": "markdown",
      "source": [
        "### EX 3 Strings as Lists\n",
        "\n",
        "\n",
        "There are many English words hidden inside the word \"Halftime\". Can you use Python List indexing to print **3** smaller words inside HALFTIME.\n",
        "\n",
        "Example: word[:4]"
      ],
      "metadata": {
        "id": "tKD6H8OG_wHX"
      }
    },
    {
      "cell_type": "markdown",
      "metadata": {
        "id": "QbiNgm493JR5"
      },
      "source": [
        "### Ex 4: List Slicing Exercise\n",
        "\n",
        "What will each of the following print out?\n",
        "greats = [\"0Pele\", \"1Maradonna\", \"2Messi\", \"3Ronaldo\", \"4Cruyff\", \"5Platini\"]\n",
        "\n",
        "```\n",
        "print(\"line1\", greats[::-1])\n",
        "\n",
        "print(\"line2\", greats[-2])\n",
        "\n",
        "print(\"line3\", greats[-2::])\n",
        "\n",
        "print(\"line4\", greats[-2::-1])\n",
        "```"
      ]
    },
    {
      "cell_type": "markdown",
      "source": [
        "### Ex 5: Iterating Over Lists\n",
        "\n",
        "```\n",
        "teams = [\"Celtics\", \"Bulls\", \"Warriors\", \"Nuggets\"]\n",
        "\n",
        "```\n",
        "\n",
        "Iterate over the `teams` above and in each line,\n",
        "print out the team name, as well as the number of letters in the team name.\n",
        "\n",
        "```\n",
        "Celtics 7\n",
        "Bulls 5\n",
        "```\n",
        "etc\n"
      ],
      "metadata": {
        "id": "4cjLBeRQDc7_"
      }
    },
    {
      "cell_type": "markdown",
      "source": [
        "### Ex 6: Add two elements\n",
        "\n",
        "To the list called `greats` above, add \"Neymar\" and \"Zidane\" and print out the new list.\n"
      ],
      "metadata": {
        "id": "9fIMSL2E98ei"
      }
    }
  ],
  "metadata": {
    "kernelspec": {
      "display_name": "Python 3",
      "language": "python",
      "name": "python3"
    },
    "language_info": {
      "codemirror_mode": {
        "name": "ipython",
        "version": 3
      },
      "file_extension": ".py",
      "mimetype": "text/x-python",
      "name": "python",
      "nbconvert_exporter": "python",
      "pygments_lexer": "ipython3",
      "version": "3.7.1"
    },
    "colab": {
      "provenance": [],
      "toc_visible": true,
      "include_colab_link": true
    }
  },
  "nbformat": 4,
  "nbformat_minor": 0
}