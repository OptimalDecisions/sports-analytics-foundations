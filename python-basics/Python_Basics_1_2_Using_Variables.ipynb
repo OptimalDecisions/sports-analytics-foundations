{
  "cells": [
    {
      "cell_type": "markdown",
      "metadata": {
        "id": "view-in-github",
        "colab_type": "text"
      },
      "source": [
        "<a href=\"https://colab.research.google.com/github/OptimalDecisions/sports-analytics-foundations/blob/main/python-basics/Python_Basics_1_2_Using_Variables.ipynb\" target=\"_parent\"><img src=\"https://colab.research.google.com/assets/colab-badge.svg\" alt=\"Open In Colab\"/></a>"
      ]
    },
    {
      "cell_type": "markdown",
      "metadata": {
        "id": "1JbVtQ8-uiJt"
      },
      "source": [
        "## Python Basics 1.2\n",
        "\n",
        "## Using Variables in Python\n",
        "\n",
        "<img src = \"../img/sa_logo.png\" width=\"100\" align=\"left\">\n",
        "\n",
        "<br>Ram Narasimhan\n",
        "\n",
        "<br>\n",
        "\n",
        "<<  [Arithmetic Ops](Python_Basics_1_1_Arithmetic_Operations_in_Python.ipynb) | [Variables](Python_Basics_1_2_Using_Variables.ipynb) |\n",
        "[Python Strings](Python_Basics_1_3_String_Operations_in_Python.ipynb) >>"
      ]
    },
    {
      "cell_type": "markdown",
      "metadata": {
        "id": "vjDdgNbJuiJx"
      },
      "source": [
        "### Getting Help in Python"
      ]
    },
    {
      "cell_type": "code",
      "execution_count": null,
      "metadata": {
        "collapsed": true,
        "id": "H5Za_827uiJy"
      },
      "outputs": [],
      "source": [
        "import math\n",
        "import os"
      ]
    },
    {
      "cell_type": "code",
      "execution_count": null,
      "metadata": {
        "collapsed": true,
        "id": "JGz_mm3ZuiJz"
      },
      "outputs": [],
      "source": [
        "dir(math)"
      ]
    },
    {
      "cell_type": "code",
      "execution_count": null,
      "metadata": {
        "id": "Rq9vTyq_uiJ0"
      },
      "outputs": [],
      "source": [
        "help(math.sin)"
      ]
    },
    {
      "cell_type": "code",
      "execution_count": null,
      "metadata": {
        "scrolled": true,
        "id": "d0_D4Iw1uiJ0"
      },
      "outputs": [],
      "source": [
        "help()"
      ]
    },
    {
      "cell_type": "markdown",
      "metadata": {
        "id": "PkhXMouquiJ1"
      },
      "source": [
        "### Using Variables in your Code\n",
        "\n",
        "**What are variables?**"
      ]
    },
    {
      "cell_type": "markdown",
      "metadata": {
        "id": "UMPYy70GuiJ2"
      },
      "source": [
        "- A variable is a placeholder used to refer to values\n",
        "- Extremely important concept in all of programming\n",
        "- Variables can change their values (hence the name)\n"
      ]
    },
    {
      "cell_type": "code",
      "execution_count": null,
      "metadata": {
        "id": "wfEAbsSCuiJ2"
      },
      "outputs": [],
      "source": [
        "x = 3\n",
        "player_name = 'LeBron'"
      ]
    },
    {
      "cell_type": "markdown",
      "metadata": {
        "id": "YU5DQ0GVuiJ3"
      },
      "source": [
        "y = 17\n",
        "\n",
        "can be read as \"y *is assigned* the value of 17.\"\n"
      ]
    },
    {
      "cell_type": "markdown",
      "metadata": {
        "id": "BBB9qUJvuiJ3"
      },
      "source": [
        "# Rules for giving Variable Names in Python\n",
        "\n",
        "- A variable name can have letters, numbers, and _\n",
        "- You cannot use any Python keyword as a variable name. (If and not cannot be variable names.)\n",
        "- You cannot use other punctuation marks (!,-,&) in variable names\n",
        "- Can be of any length: But only made up of letters, numbers or underscore ( \\_ )\n",
        "- The First character of a variable name cannot be a number. I.e. A variable name cannot be `12x`, for example.\n",
        "\n",
        "- Python is case-sensitive. **X** and **x** are two *different* variable names. (Be careful!)\n",
        "- You cannot use any Python *keyword* as a variable name\n",
        "\n",
        "\n"
      ]
    },
    {
      "cell_type": "code",
      "execution_count": null,
      "metadata": {
        "id": "bWhFmn8huiJ3"
      },
      "outputs": [],
      "source": [
        "var1 = 60\n",
        "var1 = 78\n",
        "var1 + 11*2"
      ]
    },
    {
      "cell_type": "code",
      "execution_count": null,
      "metadata": {
        "id": "IWb5pnjpuiJ3"
      },
      "outputs": [],
      "source": [
        "abc + 1"
      ]
    },
    {
      "cell_type": "code",
      "execution_count": null,
      "metadata": {
        "id": "vsyNA89YuiJ4"
      },
      "outputs": [],
      "source": [
        "x = 'abc'\n",
        "x + 1"
      ]
    },
    {
      "cell_type": "code",
      "execution_count": null,
      "metadata": {
        "id": "NjYBFD01uiJ4",
        "colab": {
          "base_uri": "https://localhost:8080/"
        },
        "outputId": "691feb4e-5dc8-4aa9-9515-077298f24fb0"
      },
      "outputs": [
        {
          "output_type": "stream",
          "name": "stdout",
          "text": [
            "Hello\n",
            "22.34\n"
          ]
        }
      ],
      "source": [
        "# We can change the variable type if we like.\n",
        "\n",
        "xyz = \"Hello\"\n",
        "print(xyz)\n",
        "xyz = 22.34\n",
        "print(xyz)"
      ]
    },
    {
      "cell_type": "code",
      "execution_count": null,
      "metadata": {
        "collapsed": true,
        "id": "TDsjFPvSuiJ4"
      },
      "outputs": [],
      "source": [
        "x = 13\n",
        "y = 15\n",
        "z = 17\n"
      ]
    },
    {
      "cell_type": "code",
      "execution_count": null,
      "metadata": {
        "collapsed": true,
        "id": "Run9C6IvuiJ4"
      },
      "outputs": [],
      "source": [
        "x, y, z = 13, 15, 17"
      ]
    },
    {
      "cell_type": "markdown",
      "source": [
        "### Guidelines for Naming your variables\n",
        "\n",
        "- While names like `x`, or `abc` are easier to type, they are not inherently meaningful. For example, `outside_temperature` is a better name than `ot`.\n",
        "\n",
        "- If you will be using a variable in other parts of your script, be sure to give it a clear and *understandable* name. `player_lastname` and not `pln`\n"
      ],
      "metadata": {
        "id": "qnS_bcMbGLJW"
      }
    },
    {
      "cell_type": "markdown",
      "source": [
        "## Types of Python Variables\n",
        "\n",
        "Variables come in a few types. A few very common variables types include:\n",
        "*string, integer, float*, and *Boolean*\n",
        "To view the data type use `type(x)`\n"
      ],
      "metadata": {
        "id": "LMIrXoQqFUPg"
      }
    },
    {
      "cell_type": "code",
      "source": [
        "\n",
        "x = 3\n",
        "print(type(x))\n",
        "\n",
        "x = \"3\"\n",
        "print(type(x))\n",
        "\n",
        "x = 3.4\n",
        "print(type(x))\n",
        "\n",
        "y = True\n",
        "print(type(y))"
      ],
      "metadata": {
        "id": "67KZGVAMFcsN",
        "colab": {
          "base_uri": "https://localhost:8080/"
        },
        "outputId": "486f41ac-bc07-439f-af4c-ece5ba64625b"
      },
      "execution_count": null,
      "outputs": [
        {
          "output_type": "stream",
          "name": "stdout",
          "text": [
            "<class 'int'>\n",
            "<class 'str'>\n",
            "<class 'float'>\n",
            "<class 'bool'>\n"
          ]
        }
      ]
    },
    {
      "cell_type": "markdown",
      "source": [
        "\n",
        "\n",
        "\n",
        "**Summary**: A variable is a placeholder in where we store values in Python. Variables can change their values (hence the name). Variables cannot start with a number and are case sensitive. Python keywords cannot be used as a variable. Variables come in multiple types.\n",
        "\n",
        "\n",
        "<<  [Arithmetic Ops](Python_Basics_1_1_Arithmetic_Operations_in_Python.ipynb) | [Variables](Python_Basics_1_2_Using_Variables.ipynb) |\n",
        "[Python Strings](Python_Basics_1_3_String_Operations_in_Python.ipynb) >>"
      ],
      "metadata": {
        "id": "9gAW8Y-BFeb3"
      }
    },
    {
      "cell_type": "code",
      "source": [],
      "metadata": {
        "id": "aeeLcnP8w7T0"
      },
      "execution_count": null,
      "outputs": []
    }
  ],
  "metadata": {
    "celltoolbar": "Slideshow",
    "kernelspec": {
      "display_name": "Python 3",
      "language": "python",
      "name": "python3"
    },
    "language_info": {
      "codemirror_mode": {
        "name": "ipython",
        "version": 3
      },
      "file_extension": ".py",
      "mimetype": "text/x-python",
      "name": "python",
      "nbconvert_exporter": "python",
      "pygments_lexer": "ipython3",
      "version": "3.6.0"
    },
    "colab": {
      "provenance": [],
      "include_colab_link": true
    }
  },
  "nbformat": 4,
  "nbformat_minor": 0
}