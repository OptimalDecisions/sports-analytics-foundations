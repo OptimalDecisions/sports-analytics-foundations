{
  "cells": [
    {
      "cell_type": "markdown",
      "metadata": {
        "id": "view-in-github",
        "colab_type": "text"
      },
      "source": [
        "<a href=\"https://colab.research.google.com/github/OptimalDecisions/sports-analytics-foundations/blob/main/python-basics/Python_Exercises_1_6_Exer_Control_of_Flow.ipynb\" target=\"_parent\"><img src=\"https://colab.research.google.com/assets/colab-badge.svg\" alt=\"Open In Colab\"/></a>"
      ]
    },
    {
      "cell_type": "markdown",
      "metadata": {
        "id": "uUX7kByPLTcM"
      },
      "source": [
        "## Python Exercises 1.6\n",
        "\n",
        "# Control of Flow in Python\n",
        "\n",
        "<img src = \"../img/sa_logo.png\" width=\"100\" align=\"left\">\n",
        "\n",
        "<br>Ram Narasimhan"
      ]
    },
    {
      "cell_type": "markdown",
      "source": [
        "Fill in this table... to test your understanding of Boolean logic."
      ],
      "metadata": {
        "id": "PTyjtSEQJsMH"
      }
    },
    {
      "cell_type": "markdown",
      "metadata": {
        "id": "4IYFQ7PBLTcV"
      },
      "source": [
        "![Truth Table](https://github.com/OptimalDecisions/sports-analytics-foundations/blob/main/img/py_truth_table_open.JPG?raw=1)"
      ]
    },
    {
      "cell_type": "markdown",
      "metadata": {
        "id": "dp6RdIlKLTca"
      },
      "source": [
        "\n",
        "### Ex 1: Write a program that uses a for loop to print numbers from 1 to 10\n",
        "\n"
      ]
    },
    {
      "cell_type": "markdown",
      "metadata": {
        "id": "t8r9oMkgLTca"
      },
      "source": [
        "\n",
        "Ex 1a: How to print the numbers from 0 to 9? (Instead of from 1 to 10?)**"
      ]
    },
    {
      "cell_type": "markdown",
      "metadata": {
        "id": "a2DvO2aeLTcb"
      },
      "source": [
        "Challenge: How to print 8 to 1 (in reverse order!)?\n"
      ]
    },
    {
      "cell_type": "markdown",
      "metadata": {
        "id": "fxrOha-LLTcb"
      },
      "source": [
        "**Hint. Try \"`help(range)`\"**"
      ]
    },
    {
      "cell_type": "markdown",
      "source": [
        "### Ex 2: Print a Pattern: Write a Python program to construct the following pattern, using a nested for loop\n",
        "\n",
        "```\n",
        "1\n",
        "22\n",
        "333\n",
        "4444\n",
        "55555\n",
        "666666\n",
        "7777777\n",
        "88888888\n",
        "999999999\n",
        "```"
      ],
      "metadata": {
        "id": "udxiL2tqNWkR"
      }
    },
    {
      "cell_type": "markdown",
      "source": [
        "### Ex 3: Elif\n",
        "\n",
        "**Triangle Type**\n",
        "\n",
        "Write a Python program that takes the lengths of three sides of a triangle as input and determines whether the triangle is equilateral, isosceles, or obtuse.\n",
        "\n",
        "- An equilateral triangle has all three sides equal,\n",
        "- an isosceles triangle has two sides equal,\n",
        "- and if none of these conditions are met, the triangle is obtuse\n",
        "\n",
        "Be sure to use the `elif` keyword in your code."
      ],
      "metadata": {
        "id": "8S9Bn7o7KYuU"
      }
    },
    {
      "cell_type": "markdown",
      "source": [
        "### Challenge 1: FizzBuzz\n",
        "\n",
        "FizzBuzz is a classic example of using loops and conditionals.\n",
        "\n",
        "**FizzBuzz**: Write a Python program that prints the numbers from 1 to 100. But for multiples of three, print \"Fizz\" instead of the number, and for multiples of five, print \"Buzz\". For numbers which are multiples of both three and five, print \"FizzBuzz\""
      ],
      "metadata": {
        "id": "CQdcflV3LXC2"
      }
    },
    {
      "cell_type": "markdown",
      "source": [
        "### Challenge 2: Team Classification\n",
        "\n",
        "Write a Python program that takes a string as input.\n",
        "\n",
        "1. print \"DEN\" if the input equals \"Broncos\" or \"BRONCOS\"\n",
        "1. print \"NE\" if the input equals \"Patriots\" or \"PATRIOTS\"\n",
        "1. print \"LA\" if the input equals \"Chargers\" or \"CHARGERS\"\n",
        "4. Print \"None\" for all other teams\n"
      ],
      "metadata": {
        "id": "6XNTp-Z-Lvtp"
      }
    },
    {
      "cell_type": "code",
      "source": [],
      "metadata": {
        "id": "e-CeGP9dMsbg"
      },
      "execution_count": null,
      "outputs": []
    }
  ],
  "metadata": {
    "kernelspec": {
      "display_name": "Python 3",
      "language": "python",
      "name": "python3"
    },
    "language_info": {
      "codemirror_mode": {
        "name": "ipython",
        "version": 3
      },
      "file_extension": ".py",
      "mimetype": "text/x-python",
      "name": "python",
      "nbconvert_exporter": "python",
      "pygments_lexer": "ipython3",
      "version": "3.7.3"
    },
    "colab": {
      "provenance": [],
      "include_colab_link": true
    }
  },
  "nbformat": 4,
  "nbformat_minor": 0
}