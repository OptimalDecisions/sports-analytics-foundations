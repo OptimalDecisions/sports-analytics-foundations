{
  "cells": [
    {
      "cell_type": "markdown",
      "metadata": {
        "id": "view-in-github",
        "colab_type": "text"
      },
      "source": [
        "<a href=\"https://colab.research.google.com/github/OptimalDecisions/sports-analytics-foundations/blob/main/python-basics/Python_Exercises_1_5_Exer_Python_Dictionaries.ipynb\" target=\"_parent\"><img src=\"https://colab.research.google.com/assets/colab-badge.svg\" alt=\"Open In Colab\"/></a>"
      ]
    },
    {
      "cell_type": "markdown",
      "metadata": {
        "id": "9IAnmibxiAZx"
      },
      "source": [
        "\n",
        "## Python Exercises 1.5\n",
        "\n",
        "# Python Dictionaries\n",
        "\n",
        "<img src = \"../img/sa_logo.png\" width=\"100\" align=\"left\">\n",
        "\n",
        "<br>Ram Narasimhan"
      ]
    },
    {
      "cell_type": "markdown",
      "source": [
        "### Exercise 1: Create a Dictionary\n",
        "\n",
        "Create a dictionary named `student` with the following 3 key-value pairs: `name` (your name), `age` (your age), `grade` (your current academic grade).\n",
        "\n"
      ],
      "metadata": {
        "id": "G5YDkhhZ1Llk"
      }
    },
    {
      "cell_type": "code",
      "source": [],
      "metadata": {
        "id": "em7TFgqN2UKi"
      },
      "execution_count": null,
      "outputs": []
    },
    {
      "cell_type": "markdown",
      "source": [
        "### Exercise 2: Access and Print Values\n",
        "\n"
      ],
      "metadata": {
        "id": "DT6E4xAr1tf2"
      }
    },
    {
      "cell_type": "markdown",
      "source": [
        "Using the `student` dictionary from the previous exercise, print the value associated with the `age` key.\n"
      ],
      "metadata": {
        "id": "PyrJzeyL1OPv"
      }
    },
    {
      "cell_type": "code",
      "source": [],
      "metadata": {
        "id": "sqEwLXcx2TsJ"
      },
      "execution_count": null,
      "outputs": []
    },
    {
      "cell_type": "markdown",
      "source": [
        "### Exercise 3: Update Dictionary\n",
        "\n",
        "Update the `student` dictionary to include a new key-value pair: `course` (your favorite course).\n",
        "\n",
        "Print the updated dictionary.\n",
        "\n"
      ],
      "metadata": {
        "id": "E5rkoNV_1R7E"
      }
    },
    {
      "cell_type": "code",
      "source": [],
      "metadata": {
        "id": "MrRqU1XX2TIH"
      },
      "execution_count": null,
      "outputs": []
    },
    {
      "cell_type": "markdown",
      "source": [
        "### Exercise 4: Iterate Through Keys:\n",
        "\n",
        "Create a new dictionary named `colors` with three color names as keys and their corresponding `RGB` values as values.\n",
        "\n",
        "Use a loop to iterate through the `keys` and print each color name.\n",
        "\n"
      ],
      "metadata": {
        "id": "JkZm1kfv1Vi-"
      }
    },
    {
      "cell_type": "code",
      "source": [],
      "metadata": {
        "id": "qO-9DXGq2Rp0"
      },
      "execution_count": null,
      "outputs": []
    },
    {
      "cell_type": "markdown",
      "source": [
        "### Exercise 5: Check for Key:\n",
        "\n",
        "Write a function named check_key that takes a dictionary and a key as arguments. The function should return 'Key found!' if the key exists in the dictionary and 'Key not found!' otherwise. Test the function with the colors dictionary and a key of your choice."
      ],
      "metadata": {
        "id": "rwQv62fw1XaT"
      }
    },
    {
      "cell_type": "code",
      "source": [],
      "metadata": {
        "id": "2syJfSVo2iyI"
      },
      "execution_count": null,
      "outputs": []
    },
    {
      "cell_type": "markdown",
      "source": [
        "\n",
        "\n",
        "### 🎯 Challenge 1: Team Information Dictionary\n",
        "\n",
        "Create a dictionary named `nfl_teams` that includes information about at least three NFL teams. Each team should be represented as a dictionary with keys such as `team_name`, `city`, `conference`, and `superbowl_wins`. Make sure to include information for at least one team from each conference (AFC and NFC).\n",
        "\n"
      ],
      "metadata": {
        "id": "WoDYAFPg2sXv"
      }
    },
    {
      "cell_type": "code",
      "source": [],
      "metadata": {
        "id": "DnMeK3om3SPj"
      },
      "execution_count": null,
      "outputs": []
    },
    {
      "cell_type": "markdown",
      "source": [
        "### 🎯 Challenge 2: Print Team Information\n",
        "\n",
        "Write a function named `print_team_info` that takes the `nfl_teams` dictionary and a team name as arguments.\n",
        "\n",
        "Output: The function should print information about the specified team, including the team name, city, conference, and the number of Super Bowl wins."
      ],
      "metadata": {
        "id": "rbOvgF2b2za0"
      }
    },
    {
      "cell_type": "markdown",
      "source": [
        "```\n",
        "# Sample call to the function\n",
        "print_team_info(nfl_teams, 'Dallas Cowboys')\n",
        "```"
      ],
      "metadata": {
        "id": "bORJ1l1C3A3c"
      }
    },
    {
      "cell_type": "code",
      "source": [],
      "metadata": {
        "id": "kM2g0di33Emq"
      },
      "execution_count": null,
      "outputs": []
    }
  ],
  "metadata": {
    "celltoolbar": "Slideshow",
    "kernelspec": {
      "display_name": "Python 3",
      "language": "python",
      "name": "python3"
    },
    "language_info": {
      "codemirror_mode": {
        "name": "ipython",
        "version": 3
      },
      "file_extension": ".py",
      "mimetype": "text/x-python",
      "name": "python",
      "nbconvert_exporter": "python",
      "pygments_lexer": "ipython3",
      "version": "3.6.5"
    },
    "colab": {
      "provenance": [],
      "toc_visible": true,
      "include_colab_link": true
    }
  },
  "nbformat": 4,
  "nbformat_minor": 0
}