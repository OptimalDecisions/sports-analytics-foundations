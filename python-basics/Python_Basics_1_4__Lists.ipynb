{
  "cells": [
    {
      "cell_type": "markdown",
      "metadata": {
        "id": "view-in-github",
        "colab_type": "text"
      },
      "source": [
        "<a href=\"https://colab.research.google.com/github/OptimalDecisions/sports-analytics-foundations/blob/main/python-basics/Python_Basics_1_4__Lists.ipynb\" target=\"_parent\"><img src=\"https://colab.research.google.com/assets/colab-badge.svg\" alt=\"Open In Colab\"/></a>"
      ]
    },
    {
      "cell_type": "markdown",
      "metadata": {
        "id": "URKyef4G3JRo"
      },
      "source": [
        "## 1.4 Python Basics\n",
        "\n",
        "# The Basics of Python Lists\n",
        "\n",
        "<br>Ram Narasimhan"
      ]
    },
    {
      "cell_type": "markdown",
      "source": [
        "## What are Lists, Dictionaries, Sets & Tuples?\n",
        "\n",
        "1.\t`List` : list [1, 2, 3] Ordered collection This is a fundamental structure in Python. We will spend more time on this type of container.\n",
        "2.\t`Dictionary` : dict {'a':1, 'b':2, 'c':3} Unordered (key, value) mapping\n",
        "3.\t`Set`: set {1, 2, 3} Collection of unique values - there is no ordering, and there can be no duplicates.\n",
        "4.\t`Tuple` : tuple (1, 2, 3) A tuple is a \"bundle\" that cannot be modified. In Python, we call these an Immutable ordered collection\n"
      ],
      "metadata": {
        "id": "dw4ia40x_HSy"
      }
    },
    {
      "cell_type": "markdown",
      "metadata": {
        "id": "4hLgsZ0m3JRu"
      },
      "source": [
        "Python has several built-in **data structures**\n",
        "\n",
        "These are:\n",
        "    \n",
        "| Type Name | Example                   |Description                            |\n",
        "|-----------|---------------------------|---------------------------------------|\n",
        "| ``list``  | ``[1, 2, 3]``             | Ordered collection                    |\n",
        "| ``tuple`` | ``(1, 2, 3)``             | Immutable ordered collection          |\n",
        "| ``dict``  | ``{'a':1, 'b':2, 'c':3}`` | Unordered (key,value) mapping         |\n",
        "| ``set``   | ``{1, 2, 3}``             | Unordered collection of unique values |\n",
        "    \n",
        "As you can see, each type of bracket i.e. round, square, or curly brackets have distinct meanings when it comes to the type of Python `collection` produced. They can't be used interchangably.\n",
        "    \n",
        "\n",
        "Python includes several built-in container types: lists, dictionaries, sets, and tuples.  Of these, we will look closely at Lists and Dictionaries."
      ]
    },
    {
      "cell_type": "markdown",
      "metadata": {
        "id": "MiQobPs83JRw"
      },
      "source": [
        "# <div class=\"alert alert-block alert-success\"> Introduction to Python Lists    </div>\n",
        "\n",
        "\"Lists\" are a fundamental data structure in Python. We will be using them quite a bit.\n",
        "\n",
        "It is good to learn them well.\n"
      ]
    },
    {
      "cell_type": "markdown",
      "metadata": {
        "collapsed": true,
        "id": "Koii4ToQ3JRw"
      },
      "source": [
        "#### List Topics Covered\n",
        "1. Lists\n",
        "2. Accessing Elements by Position (Index)\n",
        "3. Modifying (replacing) elements\n",
        "4. Adding Elements\n"
      ]
    },
    {
      "cell_type": "markdown",
      "metadata": {
        "id": "Os7q2tYz3JRx"
      },
      "source": [
        "For the next several examples, we are going to take a list. (A list of cars.)\n",
        "We will use this list to understand LIST INDEXING and LIST SLICING.\n",
        "\n",
        "\n",
        "\n",
        "A Python list is a “container” that holds an array of items in sequence. These items have indices which can be used to access them. A Python list is \"mutable\" (that is, it can be mutated or changed) by adding, removing and replacing items. So, a list is simply an ordered collection of items.\n",
        "\n",
        "To define a list, we use square brackets and each item is separated by a comma.\n",
        "\n",
        "```\n",
        "list_a = [12, 14, 15, ‘abc’]\n",
        "```\n",
        "\n"
      ]
    },
    {
      "cell_type": "code",
      "execution_count": null,
      "metadata": {
        "id": "_GSsxw1X3JRx",
        "outputId": "68d5699c-edd1-4179-a2b0-ab9d204735e2"
      },
      "outputs": [
        {
          "data": {
            "text/plain": [
              "['0Jaguar', '1Audi', '2BMW', '3Maserati', '4Mercedes-Benz', '5Aston Martin']"
            ]
          },
          "execution_count": 6,
          "metadata": {},
          "output_type": "execute_result"
        }
      ],
      "source": [
        "cars = [\"0Jaguar\", \"1Audi\", \"2BMW\", \"3Maserati\",\"4Mercedes-Benz\", \"5Aston Martin\"]\n",
        "cars"
      ]
    },
    {
      "cell_type": "code",
      "execution_count": null,
      "metadata": {
        "id": "HbGdk-La3JR0",
        "outputId": "b1d56ad1-fdb9-498c-83ec-ab37c77932d1"
      },
      "outputs": [
        {
          "data": {
            "text/plain": [
              "'0Jaguar'"
            ]
          },
          "execution_count": 8,
          "metadata": {},
          "output_type": "execute_result"
        }
      ],
      "source": [
        "cars[0]\n"
      ]
    },
    {
      "cell_type": "markdown",
      "metadata": {
        "id": "YwQPlYMN3JR1"
      },
      "source": [
        "# List[begin:end]\n",
        "\n",
        "upto but NOT INCLUDING the END"
      ]
    },
    {
      "cell_type": "code",
      "execution_count": null,
      "metadata": {
        "id": "6U5a7BiJ3JR1",
        "outputId": "db07f458-00a1-4c8b-92c6-4cf6e7b7692e"
      },
      "outputs": [
        {
          "data": {
            "text/plain": [
              "['3Maserati', '4Mercedes-Benz', '5Aston Martin']"
            ]
          },
          "execution_count": 11,
          "metadata": {},
          "output_type": "execute_result"
        }
      ],
      "source": [
        "#cars[4:5]\n",
        "cars[3:]\n"
      ]
    },
    {
      "cell_type": "code",
      "execution_count": null,
      "metadata": {
        "id": "jeqIV3HK3JR2",
        "outputId": "c9300177-c997-47a0-806c-fce10b46a898"
      },
      "outputs": [
        {
          "data": {
            "text/plain": [
              "6"
            ]
          },
          "execution_count": 13,
          "metadata": {},
          "output_type": "execute_result"
        }
      ],
      "source": [
        "#list[start:end:step]\n",
        "#cars[4:5]\n",
        "len(cars)\n",
        "\n",
        "#cars[1:5]"
      ]
    },
    {
      "cell_type": "code",
      "execution_count": null,
      "metadata": {
        "id": "EYlovR-r3JR2",
        "outputId": "c330da99-7a4e-4dcf-e5e3-e49ec000b0ae"
      },
      "outputs": [
        {
          "data": {
            "text/plain": [
              "'5Aston Martin'"
            ]
          },
          "execution_count": 14,
          "metadata": {},
          "output_type": "execute_result"
        }
      ],
      "source": [
        "cars[-1] # The Last element of the list\n",
        "#print(cars)\n",
        "# print the LAST TWO ELEMENTS of a List (length unknown)\n",
        "#cars[-5:-1]"
      ]
    },
    {
      "cell_type": "markdown",
      "source": [
        "# <div class=\"alert alert-block alert-warning\"> How to Manipulate Lists?\n",
        "</div>\n",
        "\n",
        "\n",
        "\n",
        "\n",
        "We can do several things to a Python list. We can see how long it is, we can add elements to it, we can remove elements from it, and we can replace certain elements inside it.\n",
        "\n",
        "### Length of a List\n",
        "\n",
        "`len(listname)`- is the length of the list. It displays the number of elements in the list.\n",
        "\n",
        "By the way, it aslo displays the number of characters in a string (Python treats each string as a list)\n"
      ],
      "metadata": {
        "id": "od4bXWJPAIMk"
      }
    },
    {
      "cell_type": "code",
      "source": [
        "len(vowels)"
      ],
      "metadata": {
        "colab": {
          "base_uri": "https://localhost:8080/",
          "height": 182
        },
        "id": "gE7yjzQ5ATgu",
        "outputId": "512a3122-4f22-48f3-ffeb-a9b61d49fae1"
      },
      "execution_count": 15,
      "outputs": [
        {
          "output_type": "error",
          "ename": "NameError",
          "evalue": "ignored",
          "traceback": [
            "\u001b[0;31m---------------------------------------------------------------------------\u001b[0m",
            "\u001b[0;31mNameError\u001b[0m                                 Traceback (most recent call last)",
            "\u001b[0;32m<ipython-input-15-b8dd2a01ac87>\u001b[0m in \u001b[0;36m<cell line: 1>\u001b[0;34m()\u001b[0m\n\u001b[0;32m----> 1\u001b[0;31m \u001b[0mlen\u001b[0m\u001b[0;34m(\u001b[0m\u001b[0mvowels\u001b[0m\u001b[0;34m)\u001b[0m\u001b[0;34m\u001b[0m\u001b[0;34m\u001b[0m\u001b[0m\n\u001b[0m",
            "\u001b[0;31mNameError\u001b[0m: name 'vowels' is not defined"
          ]
        }
      ]
    },
    {
      "cell_type": "code",
      "execution_count": 16,
      "metadata": {
        "colab": {
          "base_uri": "https://localhost:8080/",
          "height": 145
        },
        "id": "RjCAnQDD3JR3",
        "outputId": "582a5f4e-cfe6-47f3-e6f6-dbd5f2df7ed6"
      },
      "outputs": [
        {
          "output_type": "error",
          "ename": "SyntaxError",
          "evalue": "ignored",
          "traceback": [
            "\u001b[0;36m  File \u001b[0;32m\"<ipython-input-16-1cb7fd3793fd>\"\u001b[0;36m, line \u001b[0;32m21\u001b[0m\n\u001b[0;31m    10.\tPython list indexes start with 0, 1, 2… (the first element is at index 0)\u001b[0m\n\u001b[0m       \t                                     ^\u001b[0m\n\u001b[0;31mSyntaxError\u001b[0m\u001b[0;31m:\u001b[0m invalid decimal literal\n"
          ]
        }
      ],
      "source": [
        "#cars\n",
        "##cars[5] = \"Honda\"\n",
        "#cars\n",
        "#cars.append(\"Honda2\")\n",
        "#cars\n",
        "print(len(cars))\n",
        "#cars\n",
        "#cars[len(cars)-1] = 'Toyota'\n",
        "#print(cars)\n",
        "## 10 things about Python Lists\n",
        "\n",
        "1.\tLists are ordered.\n",
        "2.\tLists can contain any arbitrary objects.\n",
        "3.\tList elements can be accessed by index\n",
        "4.\tList indices are integers\n",
        "5.\tLists are mutable.\n",
        "6.\tYou can have a list within a list\n",
        "7.\tStrings are Python lists of characters\n",
        "8.\tThe last element of a list can be accessed with index -1\n",
        "9.\tAny list has its length defined by len()\n",
        "10.\tPython list indexes start with 0, 1, 2… (the first element is at index 0)\n"
      ]
    },
    {
      "cell_type": "markdown",
      "source": [
        "## How to Add new elements to a List?\n",
        "\n",
        "3.5.3\tAdding Elements\n",
        "\n",
        "Python lists come with a nice method called `append()`. This method simply adds elements at the tail end of the list, extending it. The integer index is also extended.\n",
        "\n",
        "```\n",
        "evens = [0, 2, 4, 6]\n",
        "\n",
        "> evens.append(8)\n",
        "> evens.append(10)\n",
        "\n",
        "# Now print out the bigger list\n",
        ">evens\n",
        "[0, 2, 4, 6, 8, 10]\n",
        "```\n",
        "\n",
        "By using append twice, we have added two elements to the end of an existing list.\n",
        "\n"
      ],
      "metadata": {
        "id": "GX69C1SgBOFB"
      }
    },
    {
      "cell_type": "code",
      "execution_count": 17,
      "metadata": {
        "colab": {
          "base_uri": "https://localhost:8080/"
        },
        "id": "K81JatNn3JR3",
        "outputId": "e616b323-4722-4459-ac12-2fc79b87733b"
      },
      "outputs": [
        {
          "output_type": "stream",
          "name": "stdout",
          "text": [
            "['a', 'e', 'i']\n"
          ]
        }
      ],
      "source": [
        "vowels = [\"a\", \"e\", \"i\"]\n",
        "print(vowels)"
      ]
    },
    {
      "cell_type": "code",
      "execution_count": 18,
      "metadata": {
        "colab": {
          "base_uri": "https://localhost:8080/",
          "height": 182
        },
        "id": "xkaULp0X3JR3",
        "outputId": "68ef7aba-b40a-4d70-d9ad-c6f3cc729768"
      },
      "outputs": [
        {
          "output_type": "error",
          "ename": "TypeError",
          "evalue": "ignored",
          "traceback": [
            "\u001b[0;31m---------------------------------------------------------------------------\u001b[0m",
            "\u001b[0;31mTypeError\u001b[0m                                 Traceback (most recent call last)",
            "\u001b[0;32m<ipython-input-18-728420e95e21>\u001b[0m in \u001b[0;36m<cell line: 1>\u001b[0;34m()\u001b[0m\n\u001b[0;32m----> 1\u001b[0;31m \u001b[0mvowels\u001b[0m \u001b[0;34m+\u001b[0m \u001b[0;34m'o'\u001b[0m\u001b[0;34m\u001b[0m\u001b[0;34m\u001b[0m\u001b[0m\n\u001b[0m",
            "\u001b[0;31mTypeError\u001b[0m: can only concatenate list (not \"str\") to list"
          ]
        }
      ],
      "source": [
        "vowels + 'o'"
      ]
    },
    {
      "cell_type": "code",
      "execution_count": 19,
      "metadata": {
        "colab": {
          "base_uri": "https://localhost:8080/"
        },
        "id": "JyX11mpf3JR4",
        "outputId": "c826295e-f734-4430-bc1f-a67ec5f52235"
      },
      "outputs": [
        {
          "output_type": "stream",
          "name": "stdout",
          "text": [
            "['a', 'e', 'i', 'o', 'u']\n"
          ]
        }
      ],
      "source": [
        "vowels.append(\"o\")\n",
        "vowels.append(\"u\")\n",
        "\n",
        "print(vowels)"
      ]
    },
    {
      "cell_type": "markdown",
      "source": [
        "\n",
        "\n",
        "If you want to *add* two Lists, just use the `+` operator. It is that easy!\n"
      ],
      "metadata": {
        "id": "q4HXUS0gB9ZO"
      }
    },
    {
      "cell_type": "code",
      "source": [
        "vowels + ['p', 'q']"
      ],
      "metadata": {
        "id": "qcDsLbaX3JR4",
        "colab": {
          "base_uri": "https://localhost:8080/"
        },
        "outputId": "4133c013-c273-4b88-a24f-870187c530e8"
      },
      "execution_count": 20,
      "outputs": [
        {
          "output_type": "execute_result",
          "data": {
            "text/plain": [
              "['a', 'e', 'i', 'o', 'u', 'p', 'q']"
            ]
          },
          "metadata": {},
          "execution_count": 20
        }
      ]
    },
    {
      "cell_type": "markdown",
      "source": [
        "### Removing Elements from a List\n",
        "\n",
        "There is a function called del(), which will take a list with index, and will delete it.\n",
        "\n",
        "```\n",
        "> evens = [0, 2, 4, 6]\n",
        "> del(evens[1])\n",
        "> evens\n",
        "[0, 4, 6] #2 is deleted from the list\n",
        "```\n"
      ],
      "metadata": {
        "id": "_BjsCMmYCX5S"
      }
    },
    {
      "cell_type": "markdown",
      "source": [
        "###\tSorting A List\n",
        "\n",
        "Python provides two options for sorting lists. The difference is subtle.\n",
        "You can use sorted() on a list. This creates a copy and you can work with the sorted list.\n",
        "But if you use list.sort() method, the original list is mutated (changed in place.)\n",
        "\n"
      ],
      "metadata": {
        "id": "xN2-_RcZCxm9"
      }
    },
    {
      "cell_type": "code",
      "source": [
        "\n",
        "somelist = [3, 5, 1, 2]\n",
        "\n",
        "print(sorted(somelist))\n",
        "\n",
        "print(somelist)\n",
        "\n"
      ],
      "metadata": {
        "id": "118Q7_4qC9BC",
        "colab": {
          "base_uri": "https://localhost:8080/"
        },
        "outputId": "e16e8968-066d-4039-ad59-c12db3039d94"
      },
      "execution_count": 21,
      "outputs": [
        {
          "output_type": "stream",
          "name": "stdout",
          "text": [
            "[1, 2, 3, 5]\n",
            "[3, 5, 1, 2]\n"
          ]
        }
      ]
    },
    {
      "cell_type": "markdown",
      "source": [
        "\n",
        "Notice that even though we sorted it, the original list did not change.\n",
        "However, if we try:\n"
      ],
      "metadata": {
        "id": "37fP2Q-8C_82"
      }
    },
    {
      "cell_type": "code",
      "source": [
        "\n",
        "somelist = [3, 5, 1, 2]\n",
        "somelist.sort()\n",
        "print(somelist)\n"
      ],
      "metadata": {
        "colab": {
          "base_uri": "https://localhost:8080/"
        },
        "id": "YzUsE7ObDAz7",
        "outputId": "e4fb6238-65f5-42d6-bb74-bfc4a5e58f15"
      },
      "execution_count": 22,
      "outputs": [
        {
          "output_type": "stream",
          "name": "stdout",
          "text": [
            "[1, 2, 3, 5]\n"
          ]
        }
      ]
    },
    {
      "cell_type": "code",
      "source": [
        "somelist = [\"cars\", \"buses\", \"autos\"]\n",
        "somelist.sort()\n",
        "\n",
        "print(somelist)\n",
        "\n",
        "#The list is permanently sorted, in place.\n"
      ],
      "metadata": {
        "id": "NyPKRZRYC5wM",
        "colab": {
          "base_uri": "https://localhost:8080/"
        },
        "outputId": "1960bc14-61e1-4d7a-89fb-60b4f0c3ac40"
      },
      "execution_count": 23,
      "outputs": [
        {
          "output_type": "stream",
          "name": "stdout",
          "text": [
            "['autos', 'buses', 'cars']\n"
          ]
        }
      ]
    },
    {
      "cell_type": "markdown",
      "source": [
        "### Reversing A List\n",
        "\n",
        "There is a ready-made method called reverse() that permanently reverses the order of elements in a list.\n"
      ],
      "metadata": {
        "id": "bKm4JH0DDZqH"
      }
    },
    {
      "cell_type": "code",
      "source": [
        "\n",
        "somelist = [\"cars\", \"buses\", \"autos\"]\n",
        "print(somelist)\n",
        "\n",
        "somelist.reverse()\n",
        "print(somelist)\n",
        "\n"
      ],
      "metadata": {
        "id": "txvpedpvDmyf",
        "colab": {
          "base_uri": "https://localhost:8080/"
        },
        "outputId": "5df9d07b-cf1e-4644-f659-4cee8cd46121"
      },
      "execution_count": 24,
      "outputs": [
        {
          "output_type": "stream",
          "name": "stdout",
          "text": [
            "['cars', 'buses', 'autos']\n",
            "['autos', 'buses', 'cars']\n"
          ]
        }
      ]
    },
    {
      "cell_type": "markdown",
      "source": [
        "The other way to reverse a list, is to start from the end, and work back, in negative steps, 1 by 1.\n",
        "\n",
        "listname[: : -1] will do that. (Steps of negative one.)\n",
        "Note that there are two colons within the square bracket. In this case, we are asking Python to traverse the entire list, starting from the *last* elements in steps of -1.\n"
      ],
      "metadata": {
        "id": "ssQfqcRPDphG"
      }
    },
    {
      "cell_type": "code",
      "source": [
        "\n",
        "\n",
        "abc = [1, 3, 5, 7, 9]\n",
        "\n",
        "abc[::-1]\n",
        "\n"
      ],
      "metadata": {
        "id": "zgKgkyxBEBBZ",
        "colab": {
          "base_uri": "https://localhost:8080/"
        },
        "outputId": "a4d9a123-c559-4709-f298-c71299bfaca9"
      },
      "execution_count": 25,
      "outputs": [
        {
          "output_type": "execute_result",
          "data": {
            "text/plain": [
              "[9, 7, 5, 3, 1]"
            ]
          },
          "metadata": {},
          "execution_count": 25
        }
      ]
    },
    {
      "cell_type": "markdown",
      "source": [
        "### Iterating Over Lists\n",
        "\n",
        "We use the phrase ‘to iterate over’  to denote traversing items in a collection. (Think of it as going over items in a list, one by one.)\n",
        "\n",
        "```\n",
        "for item in my_list:\n",
        "    # do something with item\n",
        "```\n",
        "\n",
        "In English, we are saying for each item in the list, do something to it each time. The control of this program will take the items in my_list, one at a time and do something to it each time.\n",
        "\n",
        "```\n",
        "for i in range(len(seq)):\n",
        "    # do something to seq[i]\n",
        "```\n",
        "\n",
        "In this case, i is a number, and it starts from 0 (remember, everything starts with 0 in Python), and goes till the length of seq minus 1.\n",
        "\n"
      ],
      "metadata": {
        "id": "4cjLBeRQDc7_"
      }
    },
    {
      "cell_type": "code",
      "source": [
        "teams = [\"Celtics\", \"Bulls\", \"Warriors\"]\n",
        "for i in range(len(teams)):\n",
        "  print(f\"{teams[i]} is in position {i}\")"
      ],
      "metadata": {
        "colab": {
          "base_uri": "https://localhost:8080/"
        },
        "id": "xkjWwnrkEYVU",
        "outputId": "22c674a1-937a-475f-c343-886cf3820c2e"
      },
      "execution_count": 26,
      "outputs": [
        {
          "output_type": "stream",
          "name": "stdout",
          "text": [
            "Celtics is in position 0\n",
            "Bulls is in position 1\n",
            "Warriors is in position 2\n"
          ]
        }
      ]
    },
    {
      "cell_type": "markdown",
      "source": [
        "\n",
        "\n",
        "## 10 things about Python Lists\n",
        "\n",
        "1.\tLists are ordered.\n",
        "2.\tLists can contain any arbitrary objects.\n",
        "3.\tList elements can be accessed by index\n",
        "4.\tList indices are integers\n",
        "5.\tLists are mutable.\n",
        "6.\tYou can have a list within a list\n",
        "7.\tStrings are Python lists of characters\n",
        "8.\tThe last element of a list can be accessed with index -1\n",
        "9.\tAny list has its length defined by len()\n",
        "10.\tPython list indexes start with 0, 1, 2… (the first element is at index 0)\n"
      ],
      "metadata": {
        "id": "TLz1y8TDEWpz"
      }
    },
    {
      "cell_type": "markdown",
      "metadata": {
        "id": "QbiNgm493JR5"
      },
      "source": [
        "## Test your Lists Understanding\n",
        "\n",
        "What will each of the following print out?"
      ]
    },
    {
      "cell_type": "code",
      "execution_count": 27,
      "metadata": {
        "colab": {
          "base_uri": "https://localhost:8080/"
        },
        "id": "2iE3ZNyM3JR5",
        "outputId": "58ffc520-ce17-4468-bc7b-f0dcaad6cdb9"
      },
      "outputs": [
        {
          "output_type": "stream",
          "name": "stdout",
          "text": [
            "cars ['0Jaguar', '1Audi', '2BMW', '3Maserati', '4Mercedes-Benz', '5Aston Martin']\n",
            "line1 ['5Aston Martin', '4Mercedes-Benz', '3Maserati', '2BMW', '1Audi', '0Jaguar']\n",
            "line2 4Mercedes-Benz\n",
            "line3 ['4Mercedes-Benz', '5Aston Martin']\n",
            "line4 ['4Mercedes-Benz', '3Maserati', '2BMW', '1Audi', '0Jaguar']\n"
          ]
        }
      ],
      "source": [
        "cars = [\"0Jaguar\", \"1Audi\", \"2BMW\", \"3Maserati\",\"4Mercedes-Benz\", \"5Aston Martin\"]\n",
        "print(\"cars\", cars)\n",
        "print(\"line1\", cars[::-1]) #step size of -1 means go in the reverse direction\n",
        "print(\"line2\", cars[-2]) # starting point is -2. Last element is -1, for this it the last but one element.\n",
        "print(\"line3\", cars[-2::]) # start from -2 (4Mercedes-Benz) and go till the end\n",
        "print(\"line4\", cars[-2::-1]) #start from -2 (4Mercedes-Benz) and go in OPPOSITE direction till the beginning of the list\n"
      ]
    }
  ],
  "metadata": {
    "kernelspec": {
      "display_name": "Python 3",
      "language": "python",
      "name": "python3"
    },
    "language_info": {
      "codemirror_mode": {
        "name": "ipython",
        "version": 3
      },
      "file_extension": ".py",
      "mimetype": "text/x-python",
      "name": "python",
      "nbconvert_exporter": "python",
      "pygments_lexer": "ipython3",
      "version": "3.7.1"
    },
    "colab": {
      "provenance": [],
      "include_colab_link": true
    }
  },
  "nbformat": 4,
  "nbformat_minor": 0
}