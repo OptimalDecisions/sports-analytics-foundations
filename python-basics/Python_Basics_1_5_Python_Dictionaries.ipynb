{
  "cells": [
    {
      "cell_type": "markdown",
      "metadata": {
        "id": "view-in-github",
        "colab_type": "text"
      },
      "source": [
        "<a href=\"https://colab.research.google.com/github/OptimalDecisions/sports-analytics-foundations/blob/main/python-basics/Python_Basics_1_5_Python_Dictionaries.ipynb\" target=\"_parent\"><img src=\"https://colab.research.google.com/assets/colab-badge.svg\" alt=\"Open In Colab\"/></a>"
      ]
    },
    {
      "cell_type": "markdown",
      "metadata": {
        "id": "9IAnmibxiAZx"
      },
      "source": [
        "\n",
        "## Python Basics 1.5\n",
        "\n",
        "# Python Dictionaries\n",
        "\n",
        "<img src = \"../img/sa_logo.png\" width=\"100\" align=\"left\">\n",
        "\n",
        "<br>Ram Narasimhan"
      ]
    },
    {
      "cell_type": "markdown",
      "metadata": {
        "id": "zG9cDv0xiAZ2"
      },
      "source": [
        "Python has several built-in **data structures**\n",
        "\n",
        "These are:\n",
        "    \n",
        "| Type Name | Example                   |Description                            |\n",
        "|-----------|---------------------------|---------------------------------------|\n",
        "| ``list``  | ``[1, 2, 3]``             | Ordered collection                    |\n",
        "| ``tuple`` | ``(1, 2, 3)``             | Immutable ordered collection          |\n",
        "| ``dict``  | ``{'a':1, 'b':2, 'c':3}`` | Unordered (key,value) mapping         |\n",
        "| ``set``   | ``{1, 2, 3}``             | Unordered collection of unique values |\n",
        "    \n",
        "As you can see, round, square, and curly brackets have distinct meanings when it comes to the type of collection produced.\n"
      ]
    },
    {
      "cell_type": "markdown",
      "metadata": {
        "id": "uYM_kl580rd6"
      },
      "source": [
        "# <div class=\"alert alert-block alert-success\"> Introduction to Python Dictionaries    </div>\n",
        "\n"
      ]
    },
    {
      "cell_type": "markdown",
      "metadata": {
        "id": "w9xxDiHI0rd7"
      },
      "source": [
        "A Python Dictionary is a data structure for storing *pairs* of values.\n",
        "\n",
        "These are often referred to as a *`Key:Value`* pair.\n",
        "\n",
        "Dictionaries are **comma-separated key:value pairs, contained within {curly braces}**\n",
        "\n",
        "### Creating a dictionary"
      ]
    },
    {
      "cell_type": "code",
      "execution_count": 2,
      "metadata": {
        "collapsed": true,
        "id": "ayRToDk60rd8"
      },
      "outputs": [],
      "source": [
        "color_dictionary = {'red': '#FF0000', 'black': \"#000000\",\n",
        "                    'green':\"#00FF00\" , 'blue': \"#0000FF\" }"
      ]
    },
    {
      "cell_type": "code",
      "execution_count": 18,
      "metadata": {
        "id": "6giYWMyO0rd_",
        "outputId": "9856434f-60ba-41d9-f7b6-7f2ace5bb480",
        "colab": {
          "base_uri": "https://localhost:8080/"
        }
      },
      "outputs": [
        {
          "output_type": "stream",
          "name": "stdout",
          "text": [
            "{'red': '#F00', 'black': '#000000', 'green': '#00FF00', 'blue': '#0000FF', 'yellow': 24}\n"
          ]
        }
      ],
      "source": [
        "print(color_dictionary)"
      ]
    },
    {
      "cell_type": "markdown",
      "source": [
        "Note that the order of elements may not be the same order in which they dictionary was created. A dictionary is \"unordered\"\n"
      ],
      "metadata": {
        "id": "MGVMj-J8zH5-"
      }
    },
    {
      "cell_type": "markdown",
      "source": [
        "### Accessing by using the Key\n",
        "\n",
        "To access any value in the dictionary, just provide its key."
      ],
      "metadata": {
        "id": "ccBnDLGCzbF7"
      }
    },
    {
      "cell_type": "code",
      "execution_count": 19,
      "metadata": {
        "id": "E46-LZ390re_",
        "outputId": "ae664789-a1a4-48d5-8b06-bd434df5542f",
        "colab": {
          "base_uri": "https://localhost:8080/",
          "height": 35
        }
      },
      "outputs": [
        {
          "output_type": "execute_result",
          "data": {
            "text/plain": [
              "'#00FF00'"
            ],
            "application/vnd.google.colaboratory.intrinsic+json": {
              "type": "string"
            }
          },
          "metadata": {},
          "execution_count": 19
        }
      ],
      "source": [
        "color_dictionary[\"green\"]"
      ]
    },
    {
      "cell_type": "markdown",
      "source": [
        "If a key is not present and you try to access using that key, you will get a `KeyError`"
      ],
      "metadata": {
        "id": "eqm5Cc6gzrxf"
      }
    },
    {
      "cell_type": "code",
      "execution_count": 16,
      "metadata": {
        "id": "VCyzgWLu0rfB",
        "outputId": "d58202d8-1d3f-437b-ac44-ed94c8e04173",
        "colab": {
          "base_uri": "https://localhost:8080/",
          "height": 175
        }
      },
      "outputs": [
        {
          "output_type": "error",
          "ename": "KeyError",
          "evalue": "ignored",
          "traceback": [
            "\u001b[0;31m---------------------------------------------------------------------------\u001b[0m",
            "\u001b[0;31mKeyError\u001b[0m                                  Traceback (most recent call last)",
            "\u001b[0;32m<ipython-input-16-f17aec62cc70>\u001b[0m in \u001b[0;36m<cell line: 1>\u001b[0;34m()\u001b[0m\n\u001b[0;32m----> 1\u001b[0;31m \u001b[0mcolor_dictionary\u001b[0m\u001b[0;34m[\u001b[0m\u001b[0;34m\"Green\"\u001b[0m\u001b[0;34m]\u001b[0m \u001b[0;31m#case sensitive\u001b[0m\u001b[0;34m\u001b[0m\u001b[0;34m\u001b[0m\u001b[0m\n\u001b[0m",
            "\u001b[0;31mKeyError\u001b[0m: 'Green'"
          ]
        }
      ],
      "source": [
        "color_dictionary[\"Green\"] #case sensitive\n"
      ]
    },
    {
      "cell_type": "code",
      "source": [
        "color_dictionary[\"yellow\"] #key has to be present for us to be able to access it"
      ],
      "metadata": {
        "id": "ztnF0BJMy8JU",
        "outputId": "81b2012b-9432-464a-eb20-f3ba9ffe27d7",
        "colab": {
          "base_uri": "https://localhost:8080/"
        }
      },
      "execution_count": 17,
      "outputs": [
        {
          "output_type": "execute_result",
          "data": {
            "text/plain": [
              "24"
            ]
          },
          "metadata": {},
          "execution_count": 17
        }
      ]
    },
    {
      "cell_type": "markdown",
      "metadata": {
        "id": "bLd00X4h0rfD"
      },
      "source": [
        "### Adding New Elements into a Dictionary\n",
        "\n",
        "We can insert new elements into a dictionary at any time. Please note that by default, a python dictionary is *unordered*. This means that there is no position or slice like we could do with a List.\n",
        "\n",
        "```\n",
        "dictionary_name[key] = some_value\n",
        "```"
      ]
    },
    {
      "cell_type": "code",
      "execution_count": 20,
      "metadata": {
        "id": "d4gZk3mu0rfE",
        "outputId": "212bfd1d-c9cf-40a9-b39a-42b3bb46ddb6",
        "colab": {
          "base_uri": "https://localhost:8080/"
        }
      },
      "outputs": [
        {
          "output_type": "stream",
          "name": "stdout",
          "text": [
            "{'red': '#F00', 'black': '#000000', 'green': '#00FF00', 'blue': '#0000FF', 'yellow': '#FFFF00'}\n"
          ]
        }
      ],
      "source": [
        "color_dictionary['yellow'] = \"#FFFF00\"\n",
        "\n",
        "print(color_dictionary)"
      ]
    },
    {
      "cell_type": "markdown",
      "metadata": {
        "id": "Se0POdcO0rfF"
      },
      "source": [
        "### How to change or update a dictionary value?\n",
        "\n",
        "If there is a value already associated with a particular key, we can simply overwrite it with a new assignment. It is that easy.\n",
        "\n",
        "What will happen if we try to add a key that already exists?\n",
        "Let's try it out."
      ]
    },
    {
      "cell_type": "code",
      "execution_count": 21,
      "metadata": {
        "id": "R45tjy6R0rfF",
        "outputId": "879949a8-3725-434a-ffe6-4946ee28357e",
        "colab": {
          "base_uri": "https://localhost:8080/"
        }
      },
      "outputs": [
        {
          "output_type": "execute_result",
          "data": {
            "text/plain": [
              "{'red': '#F00',\n",
              " 'black': '#000000',\n",
              " 'green': '#00FF00',\n",
              " 'blue': '#0000FF',\n",
              " 'yellow': '#FFFF00'}"
            ]
          },
          "metadata": {},
          "execution_count": 21
        }
      ],
      "source": [
        "color_dictionary['red'] = '#F00'\n",
        "color_dictionary"
      ]
    },
    {
      "cell_type": "code",
      "execution_count": 9,
      "metadata": {
        "collapsed": true,
        "id": "1RcqKz-h0rfG",
        "outputId": "c2e253ee-def5-450a-c8d7-c465c68f2e48",
        "colab": {
          "base_uri": "https://localhost:8080/"
        }
      },
      "outputs": [
        {
          "output_type": "stream",
          "name": "stdout",
          "text": [
            "{'red': '#F00', 'black': '#000000', 'green': '#00FF00', 'blue': '#0000FF', 'yellow': 24}\n"
          ]
        }
      ],
      "source": [
        "print(color_dictionary)\n"
      ]
    },
    {
      "cell_type": "markdown",
      "source": [
        "Notice that the value for key `red` has changed (over-written)."
      ],
      "metadata": {
        "id": "pf08E-7x0niz"
      }
    },
    {
      "cell_type": "markdown",
      "metadata": {
        "id": "a45DHTOu0rfH"
      },
      "source": [
        "### How to check if a \"key\" is already present in a dictionary?\n",
        "\n",
        "This is often a very useful check. We need to know if a piece of information is available in the dictionary.\n",
        "\n",
        "The format of the check is both simple and elegant:\n",
        "\n",
        "```\n",
        "if key in dictionary:\n",
        "  do something\n",
        "\n",
        "```"
      ]
    },
    {
      "cell_type": "code",
      "execution_count": 12,
      "metadata": {
        "id": "WUhLfU1w0rfH",
        "outputId": "7777b4b0-a9d1-4e4f-d349-b2ca3131fa2c",
        "colab": {
          "base_uri": "https://localhost:8080/"
        }
      },
      "outputs": [
        {
          "output_type": "stream",
          "name": "stdout",
          "text": [
            "True\n"
          ]
        }
      ],
      "source": [
        "print('black' in color_dictionary)\n"
      ]
    },
    {
      "cell_type": "code",
      "source": [
        "if 'white' in color_dictionary:\n",
        "    print('Found white')\n",
        "\n",
        "else:\n",
        "    print('white is missing')"
      ],
      "metadata": {
        "id": "I6fxINubysm_",
        "outputId": "fd08af2b-1507-4b69-b348-2e12ccaf5250",
        "colab": {
          "base_uri": "https://localhost:8080/"
        }
      },
      "execution_count": 13,
      "outputs": [
        {
          "output_type": "stream",
          "name": "stdout",
          "text": [
            "white is missing\n"
          ]
        }
      ]
    },
    {
      "cell_type": "markdown",
      "metadata": {
        "id": "_zNGYA0i0rfI"
      },
      "source": [
        "## Iterating through a dictionary\n",
        "\n",
        "Each \"Key:Value\" pair is called an _\"`item`\"_ in Python\n",
        "\n",
        "There are at least 3 ways of traversing a dictionary. Going through it item by item.\n",
        "\n"
      ]
    },
    {
      "cell_type": "markdown",
      "source": [
        "### 1. Items"
      ],
      "metadata": {
        "id": "NzdS6ldbPfHH"
      }
    },
    {
      "cell_type": "code",
      "execution_count": 10,
      "metadata": {
        "id": "CsKOGgv_0rfI",
        "outputId": "37799650-75f1-4052-aa19-aade597b0b56",
        "colab": {
          "base_uri": "https://localhost:8080/"
        }
      },
      "outputs": [
        {
          "output_type": "stream",
          "name": "stdout",
          "text": [
            "Key:  red Value: #F00\n",
            "Key:  black Value: #000000\n",
            "Key:  green Value: #00FF00\n",
            "Key:  blue Value: #0000FF\n",
            "Key:  yellow Value: 24\n"
          ]
        }
      ],
      "source": [
        "for k,v in color_dictionary.items():\n",
        "    print(\"Key: \", k,\"Value:\", v)"
      ]
    },
    {
      "cell_type": "markdown",
      "source": [
        "### 2. Keys"
      ],
      "metadata": {
        "id": "KLSipsFXPfbh"
      }
    },
    {
      "cell_type": "code",
      "execution_count": 14,
      "metadata": {
        "outputId": "85f41b26-6ea1-4e1b-e27b-9f2bd533bb77",
        "colab": {
          "base_uri": "https://localhost:8080/"
        },
        "id": "atMoiAN1PGdq"
      },
      "outputs": [
        {
          "output_type": "stream",
          "name": "stdout",
          "text": [
            "Key:  red Value: #F00\n",
            "Key:  black Value: #000000\n",
            "Key:  green Value: #00FF00\n",
            "Key:  blue Value: #0000FF\n",
            "Key:  yellow Value: 24\n"
          ]
        }
      ],
      "source": [
        "for k in color_dictionary.keys():\n",
        "    print(\"Key: \", k,\"Value:\", color_dictionary[k])"
      ]
    },
    {
      "cell_type": "markdown",
      "source": [
        "### 3. Values"
      ],
      "metadata": {
        "id": "7WA_K781PbAC"
      }
    },
    {
      "cell_type": "code",
      "execution_count": 12,
      "metadata": {
        "outputId": "2b55a583-1196-41d9-9f8a-9d0c198362e5",
        "colab": {
          "base_uri": "https://localhost:8080/"
        },
        "id": "-gvdR-N7O-I8"
      },
      "outputs": [
        {
          "output_type": "stream",
          "name": "stdout",
          "text": [
            "Value: #F00\n",
            "Value: #000000\n",
            "Value: #00FF00\n",
            "Value: #0000FF\n",
            "Value: 24\n"
          ]
        }
      ],
      "source": [
        "for v in color_dictionary.values():\n",
        "    print(\"Value:\", v)"
      ]
    },
    {
      "cell_type": "markdown",
      "source": [
        "## Further Reading\n",
        "\n",
        " 1. Try solving the [1.5 Python Dictionary Exercises]()"
      ],
      "metadata": {
        "id": "ZHe8a9YF2Y4A"
      }
    },
    {
      "cell_type": "code",
      "source": [],
      "metadata": {
        "id": "2syJfSVo2iyI"
      },
      "execution_count": null,
      "outputs": []
    }
  ],
  "metadata": {
    "celltoolbar": "Slideshow",
    "kernelspec": {
      "display_name": "Python 3",
      "language": "python",
      "name": "python3"
    },
    "language_info": {
      "codemirror_mode": {
        "name": "ipython",
        "version": 3
      },
      "file_extension": ".py",
      "mimetype": "text/x-python",
      "name": "python",
      "nbconvert_exporter": "python",
      "pygments_lexer": "ipython3",
      "version": "3.6.5"
    },
    "colab": {
      "provenance": [],
      "toc_visible": true,
      "include_colab_link": true
    }
  },
  "nbformat": 4,
  "nbformat_minor": 0
}