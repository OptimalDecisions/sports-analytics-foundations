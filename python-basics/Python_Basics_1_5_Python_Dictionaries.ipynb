{
  "cells": [
    {
      "cell_type": "markdown",
      "metadata": {
        "id": "view-in-github",
        "colab_type": "text"
      },
      "source": [
        "<a href=\"https://colab.research.google.com/github/OptimalDecisions/sports-analytics-foundations/blob/main/python-basics/Python_Basics_1_5_Python_Dictionaries.ipynb\" target=\"_parent\"><img src=\"https://colab.research.google.com/assets/colab-badge.svg\" alt=\"Open In Colab\"/></a>"
      ]
    },
    {
      "cell_type": "markdown",
      "metadata": {
        "id": "9IAnmibxiAZx"
      },
      "source": [
        "\n",
        "### Python Basics 1.5\n",
        "\n",
        "# Python Dictionaries\n",
        "\n",
        "<img src = \"../img/sa_logo.png\" width=\"100\" align=\"left\">\n",
        "\n",
        "<br>Ram Narasimhan"
      ]
    },
    {
      "cell_type": "markdown",
      "metadata": {
        "id": "zG9cDv0xiAZ2"
      },
      "source": [
        "Python has several built-in **data structures**\n",
        "\n",
        "These are:\n",
        "    \n",
        "| Type Name | Example                   |Description                            |\n",
        "|-----------|---------------------------|---------------------------------------|\n",
        "| ``list``  | ``[1, 2, 3]``             | Ordered collection                    |\n",
        "| ``tuple`` | ``(1, 2, 3)``             | Immutable ordered collection          |\n",
        "| ``dict``  | ``{'a':1, 'b':2, 'c':3}`` | Unordered (key,value) mapping         |\n",
        "| ``set``   | ``{1, 2, 3}``             | Unordered collection of unique values |\n",
        "    \n",
        "As you can see, round, square, and curly brackets have distinct meanings when it comes to the type of collection produced.\n"
      ]
    },
    {
      "cell_type": "markdown",
      "metadata": {
        "id": "uYM_kl580rd6"
      },
      "source": [
        "# <div class=\"alert alert-block alert-success\"> Introduction to Python Dictionaries    </div>\n",
        "\n"
      ]
    },
    {
      "cell_type": "markdown",
      "metadata": {
        "id": "w9xxDiHI0rd7"
      },
      "source": [
        "### A Python Dictionary is a data structure for storing *pairs* of values.\n",
        "\n",
        "### These are often referred to as a *Key:Value* pair.\n",
        "\n",
        "Dictionaries are **comma-separated key:value pairs, contained within {curly braces}**"
      ]
    },
    {
      "cell_type": "code",
      "execution_count": 2,
      "metadata": {
        "collapsed": true,
        "id": "ayRToDk60rd8"
      },
      "outputs": [],
      "source": [
        "color_dictionary = {'red': '#FF0000', 'black': \"#000000\",\n",
        "                    'green':\"#00FF00\" , 'blue': \"#0000FF\" }"
      ]
    },
    {
      "cell_type": "code",
      "execution_count": 3,
      "metadata": {
        "id": "6giYWMyO0rd_",
        "outputId": "2f523045-169c-49ce-e4e1-9653dee7bec5",
        "colab": {
          "base_uri": "https://localhost:8080/"
        }
      },
      "outputs": [
        {
          "output_type": "stream",
          "name": "stdout",
          "text": [
            "{'red': '#FF0000', 'black': '#000000', 'green': '#00FF00', 'blue': '#0000FF'}\n"
          ]
        }
      ],
      "source": [
        "color_dictionary = {'red': '#FF0000', 'black': \"#000000\",\n",
        "                    'green':\"#00FF00\" , 'blue': \"#0000FF\" }\n",
        "\n",
        "print(color_dictionary)"
      ]
    },
    {
      "cell_type": "code",
      "execution_count": 4,
      "metadata": {
        "id": "E46-LZ390re_",
        "outputId": "64569ff0-9159-4a42-bacc-d222870ddd54",
        "colab": {
          "base_uri": "https://localhost:8080/",
          "height": 35
        }
      },
      "outputs": [
        {
          "output_type": "execute_result",
          "data": {
            "text/plain": [
              "'#00FF00'"
            ],
            "application/vnd.google.colaboratory.intrinsic+json": {
              "type": "string"
            }
          },
          "metadata": {},
          "execution_count": 4
        }
      ],
      "source": [
        "#To access any value, provide its key\n",
        "\n",
        "color_dictionary[\"green\"]"
      ]
    },
    {
      "cell_type": "code",
      "execution_count": 5,
      "metadata": {
        "id": "VCyzgWLu0rfB",
        "outputId": "35a56328-c2f5-454d-b7d6-7d4c17a3ef75",
        "colab": {
          "base_uri": "https://localhost:8080/",
          "height": 193
        }
      },
      "outputs": [
        {
          "output_type": "error",
          "ename": "KeyError",
          "evalue": "ignored",
          "traceback": [
            "\u001b[0;31m---------------------------------------------------------------------------\u001b[0m",
            "\u001b[0;31mKeyError\u001b[0m                                  Traceback (most recent call last)",
            "\u001b[0;32m<ipython-input-5-185bc1cd664e>\u001b[0m in \u001b[0;36m<cell line: 2>\u001b[0;34m()\u001b[0m\n\u001b[1;32m      1\u001b[0m \u001b[0;31m#color_dictionary[\"Green\"] #case sensitive\u001b[0m\u001b[0;34m\u001b[0m\u001b[0;34m\u001b[0m\u001b[0m\n\u001b[0;32m----> 2\u001b[0;31m \u001b[0mcolor_dictionary\u001b[0m\u001b[0;34m[\u001b[0m\u001b[0;34m\"yellow\"\u001b[0m\u001b[0;34m]\u001b[0m \u001b[0;31m#key has to be present for us to be able to access it\u001b[0m\u001b[0;34m\u001b[0m\u001b[0;34m\u001b[0m\u001b[0m\n\u001b[0m",
            "\u001b[0;31mKeyError\u001b[0m: 'yellow'"
          ]
        }
      ],
      "source": [
        "#color_dictionary[\"Green\"] #case sensitive\n",
        "color_dictionary[\"yellow\"] #key has to be present for us to be able to access it"
      ]
    },
    {
      "cell_type": "markdown",
      "metadata": {
        "id": "bLd00X4h0rfD"
      },
      "source": [
        "# We can insert new elements into a dictionary at any time"
      ]
    },
    {
      "cell_type": "code",
      "execution_count": 11,
      "metadata": {
        "id": "d4gZk3mu0rfE",
        "outputId": "e7e93593-f1c5-420b-8c49-5f077f6fc312",
        "colab": {
          "base_uri": "https://localhost:8080/"
        }
      },
      "outputs": [
        {
          "output_type": "stream",
          "name": "stdout",
          "text": [
            "{'red': '#F00', 'black': '#000000', 'green': '#00FF00', 'blue': '#0000FF', 'yellow': 24}\n"
          ]
        }
      ],
      "source": [
        "color_dictionary['yellow'] = 24\n",
        "\n",
        "print(color_dictionary)"
      ]
    },
    {
      "cell_type": "markdown",
      "metadata": {
        "id": "Se0POdcO0rfF"
      },
      "source": [
        "# What will happen if we try to add a key that already exists?\n",
        "\n",
        "## Let's try it out...\n"
      ]
    },
    {
      "cell_type": "code",
      "execution_count": 12,
      "metadata": {
        "id": "R45tjy6R0rfF",
        "outputId": "47291507-e63f-41db-f099-d113088d5d9b",
        "colab": {
          "base_uri": "https://localhost:8080/"
        }
      },
      "outputs": [
        {
          "output_type": "execute_result",
          "data": {
            "text/plain": [
              "{'red': '#F00',\n",
              " 'black': '#000000',\n",
              " 'green': '#00FF00',\n",
              " 'blue': '#0000FF',\n",
              " 'yellow': 24}"
            ]
          },
          "metadata": {},
          "execution_count": 12
        }
      ],
      "source": [
        "color_dictionary['red'] = '#F00'\n",
        "color_dictionary"
      ]
    },
    {
      "cell_type": "code",
      "execution_count": 13,
      "metadata": {
        "collapsed": true,
        "id": "1RcqKz-h0rfG",
        "outputId": "792d9a5b-4de4-4ed8-ba0b-bf0a6093edd3",
        "colab": {
          "base_uri": "https://localhost:8080/"
        }
      },
      "outputs": [
        {
          "output_type": "stream",
          "name": "stdout",
          "text": [
            "{'red': '#F00', 'black': '#000000', 'green': '#00FF00', 'blue': '#0000FF', 'yellow': 24}\n"
          ]
        }
      ],
      "source": [
        "print(color_dictionary)\n",
        "\n",
        "#notice the value was changed (over-written)."
      ]
    },
    {
      "cell_type": "markdown",
      "metadata": {
        "id": "a45DHTOu0rfH"
      },
      "source": [
        "## How to check if a \"key\" is already present in a dictionary?"
      ]
    },
    {
      "cell_type": "code",
      "execution_count": 14,
      "metadata": {
        "id": "WUhLfU1w0rfH",
        "outputId": "53deb6f0-544e-4ecf-fb96-dc0f4efdd576",
        "colab": {
          "base_uri": "https://localhost:8080/"
        }
      },
      "outputs": [
        {
          "output_type": "stream",
          "name": "stdout",
          "text": [
            "True\n",
            "False\n"
          ]
        }
      ],
      "source": [
        "print('black' in color_dictionary)\n",
        "print('white' in color_dictionary)"
      ]
    },
    {
      "cell_type": "markdown",
      "metadata": {
        "id": "_zNGYA0i0rfI"
      },
      "source": [
        "# Iterating through a dictionary...\n",
        "\n",
        "## Each \"Key:Value\" pair is called an _\"item\"_ in Python"
      ]
    },
    {
      "cell_type": "code",
      "execution_count": 15,
      "metadata": {
        "id": "CsKOGgv_0rfI",
        "outputId": "970cce15-e361-40d6-9bfd-9bf1cb9dfcd4",
        "colab": {
          "base_uri": "https://localhost:8080/"
        }
      },
      "outputs": [
        {
          "output_type": "stream",
          "name": "stdout",
          "text": [
            "Key:  red Value: #F00\n",
            "Key:  black Value: #000000\n",
            "Key:  green Value: #00FF00\n",
            "Key:  blue Value: #0000FF\n",
            "Key:  yellow Value: 24\n"
          ]
        }
      ],
      "source": [
        "for k,v in color_dictionary.items():\n",
        "    print(\"Key: \", k,\"Value:\", v)"
      ]
    },
    {
      "cell_type": "markdown",
      "source": [
        "### Further Reading\n",
        "\n",
        " 1. Try solving the [1.5 Python Dictionary Exercises]()"
      ],
      "metadata": {
        "id": "ZHe8a9YF2Y4A"
      }
    },
    {
      "cell_type": "code",
      "source": [],
      "metadata": {
        "id": "2syJfSVo2iyI"
      },
      "execution_count": 10,
      "outputs": []
    }
  ],
  "metadata": {
    "celltoolbar": "Slideshow",
    "kernelspec": {
      "display_name": "Python 3",
      "language": "python",
      "name": "python3"
    },
    "language_info": {
      "codemirror_mode": {
        "name": "ipython",
        "version": 3
      },
      "file_extension": ".py",
      "mimetype": "text/x-python",
      "name": "python",
      "nbconvert_exporter": "python",
      "pygments_lexer": "ipython3",
      "version": "3.6.5"
    },
    "colab": {
      "provenance": [],
      "include_colab_link": true
    }
  },
  "nbformat": 4,
  "nbformat_minor": 0
}