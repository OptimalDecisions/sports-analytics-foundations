{
  "cells": [
    {
      "cell_type": "markdown",
      "metadata": {
        "id": "view-in-github",
        "colab_type": "text"
      },
      "source": [
        "<a href=\"https://colab.research.google.com/github/OptimalDecisions/sports-analytics-foundations/blob/main/python-basics/Python_Exercises_1_7_Exer_Writing_Functions.ipynb\" target=\"_parent\"><img src=\"https://colab.research.google.com/assets/colab-badge.svg\" alt=\"Open In Colab\"/></a>"
      ]
    },
    {
      "cell_type": "markdown",
      "metadata": {
        "id": "9IAnmibxiAZx"
      },
      "source": [
        "\n",
        "### Python Exercises 1.7\n",
        "\n",
        "# Functions: Using and Creating Python Functions\n",
        "\n",
        "<img src = \"../img/sa_logo.png\" width=\"100\" align=\"left\">\n",
        "\n",
        "<br>Ram Narasimhan"
      ]
    },
    {
      "cell_type": "markdown",
      "metadata": {
        "id": "75oAXFgyiAZ9"
      },
      "source": [
        "###  Exercise 1: Sum of First n integers\n",
        "\n",
        "Given n, write a function to calculate the sum of the first n integers. (1+2+3+... + n)\n",
        "\n",
        "for e.g. functionName(5) should return 15. (5+4+3+2+1) :)"
      ]
    },
    {
      "cell_type": "markdown",
      "metadata": {
        "id": "hnIstAaRiAZ-"
      },
      "source": [
        "\n",
        "Hint: The sum of the first $n$ numbers is $n (n+1)/2$"
      ]
    },
    {
      "cell_type": "code",
      "execution_count": null,
      "metadata": {
        "id": "VEVJcMTKiAZ-"
      },
      "outputs": [],
      "source": [
        "def sum_n_using_loop(n):\n",
        "    total = 0\n",
        "\n",
        "    # Try it using a FOR loop\n",
        "    #write your code here\n",
        "\n",
        "\n",
        "    return total"
      ]
    },
    {
      "cell_type": "code",
      "execution_count": null,
      "metadata": {
        "colab": {
          "base_uri": "https://localhost:8080/"
        },
        "id": "5tnjxVLViAZ-",
        "outputId": "bd8db214-6a25-47ae-cdba-f84a8a0fdc5d"
      },
      "outputs": [
        {
          "output_type": "execute_result",
          "data": {
            "text/plain": [
              "10"
            ]
          },
          "metadata": {},
          "execution_count": 6
        }
      ],
      "source": [
        "sum_n_using_loop(4)"
      ]
    },
    {
      "cell_type": "markdown",
      "source": [
        "### Alternative Method: Using the formula"
      ],
      "metadata": {
        "id": "TtL4vXv6-gFy"
      }
    },
    {
      "cell_type": "code",
      "execution_count": null,
      "metadata": {
        "id": "FrTkXaJniAZ-"
      },
      "outputs": [],
      "source": [
        "def sum_of_first_n_numbers(n):\n",
        "\n",
        "    #use the sum of first n numbers formular\n",
        "    #write your code here\n",
        "\n",
        "\n",
        "\n",
        "\n",
        "    return(total)"
      ]
    },
    {
      "cell_type": "code",
      "execution_count": null,
      "metadata": {
        "id": "8CdvSKngiAZ-"
      },
      "outputs": [],
      "source": [
        "s = sum_of_first_n_numbers(10)"
      ]
    },
    {
      "cell_type": "code",
      "execution_count": null,
      "metadata": {
        "colab": {
          "base_uri": "https://localhost:8080/"
        },
        "id": "gvcYk-jBiAZ_",
        "outputId": "469b447c-579a-4190-a144-a3285b067c09"
      },
      "outputs": [
        {
          "output_type": "stream",
          "name": "stdout",
          "text": [
            "55.0\n"
          ]
        }
      ],
      "source": [
        "print(s)"
      ]
    },
    {
      "cell_type": "markdown",
      "source": [
        "### E2. Maximum of Three Numbers:\n",
        "Write a Python function to find the maximum of three numbers.\n",
        "Take in 3 numbers as the parameters, and return the maximum of the three\n"
      ],
      "metadata": {
        "id": "SrkVX6PJ87ie"
      }
    },
    {
      "cell_type": "code",
      "source": [
        "def max_of_three(a, b, c):\n",
        "\n",
        "  # your code here\n",
        "  return(largest)"
      ],
      "metadata": {
        "id": "6HW4CcM895D_"
      },
      "execution_count": null,
      "outputs": []
    },
    {
      "cell_type": "markdown",
      "source": [
        "### E3. Sum of Numbers in a List:\n",
        "Write a Python function to sum all the numbers in a list.\n",
        "\n"
      ],
      "metadata": {
        "id": "0-ggg7_n9NuI"
      }
    },
    {
      "cell_type": "code",
      "source": [
        "def sum_list(numbers):\n",
        "\n",
        "  # your code here\n",
        "  return list_sum\n"
      ],
      "metadata": {
        "id": "k9iwiOQo93mb"
      },
      "execution_count": null,
      "outputs": []
    },
    {
      "cell_type": "markdown",
      "source": [
        "### Challenge 1: Count the number of Upper- and Lower-Case Letters\n",
        "\n",
        "- Write a Python function that accepts a string and counts the number of upper and lower case letters.\n",
        "\n",
        "- Note that this function should return 2 numbers!\n",
        "\n"
      ],
      "metadata": {
        "id": "xDJlxkS_9OXS"
      }
    },
    {
      "cell_type": "code",
      "source": [
        "def count_letters_by_case(text):\n",
        "\n",
        "    #your code here\n",
        "\n",
        "    return upper, lower"
      ],
      "metadata": {
        "id": "fH5RdKDO94Y1"
      },
      "execution_count": null,
      "outputs": []
    },
    {
      "cell_type": "markdown",
      "source": [
        "### Challenge 2: Return only a Player's Last name\n",
        "\n",
        "- Write a Python function that accepts a string with at least 2 parts (First name Lastname)\n",
        "\n",
        "- Write code to return only the last \"word\" (token) of the input string text.\n"
      ],
      "metadata": {
        "id": "-3Owmr_k_Dso"
      }
    },
    {
      "cell_type": "code",
      "source": [
        "def get_last_name(fullname):\n",
        "\n",
        "    #your code here\n",
        "\n",
        "    return lastname"
      ],
      "metadata": {
        "id": "MRSt1wGV_Dsp"
      },
      "execution_count": null,
      "outputs": []
    },
    {
      "cell_type": "code",
      "source": [],
      "metadata": {
        "id": "d5qf_Irq_X30"
      },
      "execution_count": null,
      "outputs": []
    }
  ],
  "metadata": {
    "celltoolbar": "Slideshow",
    "kernelspec": {
      "display_name": "Python 3",
      "language": "python",
      "name": "python3"
    },
    "language_info": {
      "codemirror_mode": {
        "name": "ipython",
        "version": 3
      },
      "file_extension": ".py",
      "mimetype": "text/x-python",
      "name": "python",
      "nbconvert_exporter": "python",
      "pygments_lexer": "ipython3",
      "version": "3.6.5"
    },
    "colab": {
      "provenance": [],
      "include_colab_link": true
    }
  },
  "nbformat": 4,
  "nbformat_minor": 0
}