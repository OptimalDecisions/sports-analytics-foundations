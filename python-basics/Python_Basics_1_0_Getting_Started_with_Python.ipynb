{
  "cells": [
    {
      "cell_type": "markdown",
      "metadata": {
        "id": "view-in-github",
        "colab_type": "text"
      },
      "source": [
        "<a href=\"https://colab.research.google.com/github/OptimalDecisions/sports-analytics-foundations/blob/main/python-basics/Python_Basics_1_0_Getting_Started_with_Python.ipynb\" target=\"_parent\"><img src=\"https://colab.research.google.com/assets/colab-badge.svg\" alt=\"Open In Colab\"/></a>"
      ]
    },
    {
      "cell_type": "markdown",
      "metadata": {
        "id": "sJgS-7Ll1OAr"
      },
      "source": [
        "### 1.0 Python Basics\n",
        "\n",
        "# Getting Started with Python\n",
        "\n",
        "Ram Narasimhan"
      ]
    },
    {
      "cell_type": "markdown",
      "metadata": {
        "id": "K0qItyxL1OAv"
      },
      "source": [
        "In this notebook, we take a few minutes to familiarize ourselves with a few things about Python. We will be using Python throughout the Digital Foundations course. Python is very easy to learn and to get started. If you understand a few basic aspects of the language, you can use it for your own work and analysis."
      ]
    },
    {
      "cell_type": "markdown",
      "metadata": {
        "id": "0i8utFvT1OAw"
      },
      "source": [
        "Python is an *Interpreted* Language. This means that you can type your commands line by line, and execute them. In this (Colab) Notebook, you can run one cell at a time."
      ]
    },
    {
      "cell_type": "markdown",
      "metadata": {
        "id": "Un6kWTc71OAw"
      },
      "source": [
        "# <div class=\"alert alert-block alert-warning\"> In python # is the comment indicator </div>\n",
        "\n",
        "Anything written after a comment is ignored."
      ]
    },
    {
      "cell_type": "code",
      "execution_count": 1,
      "metadata": {
        "colab": {
          "base_uri": "https://localhost:8080/"
        },
        "id": "f5d4zp5z1OAx",
        "outputId": "96eb1210-fa18-4f31-d885-1bb9a259314c"
      },
      "outputs": [
        {
          "output_type": "execute_result",
          "data": {
            "text/plain": [
              "6"
            ]
          },
          "metadata": {},
          "execution_count": 1
        }
      ],
      "source": [
        "1 + 2 + 3 # + 4"
      ]
    },
    {
      "cell_type": "markdown",
      "metadata": {
        "id": "jE4PFMNK1OAy"
      },
      "source": [
        "# <div class=\"alert alert-block alert-warning\"> Python is Case-Sensitive!  </div>\n",
        "### Upper case and lower-case are not the same..\n",
        "\n",
        "#### lebron is different from LeBron is different from Lebron"
      ]
    },
    {
      "cell_type": "markdown",
      "metadata": {
        "id": "V5ZUYZrt1OAz"
      },
      "source": [
        "# <div class=\"alert alert-block alert-warning\"> In python white-space is important. </div>\n",
        "\n",
        "### We use Indentation instead of brackets. (Many people don't like this, in the beginning). We will get to this when we discuss functions and flow of control.\n"
      ]
    },
    {
      "cell_type": "code",
      "execution_count": null,
      "metadata": {
        "id": "xe6z4-JT1OAz"
      },
      "outputs": [],
      "source": [
        "#This whole line is a comment, continue\n",
        "\n"
      ]
    },
    {
      "cell_type": "markdown",
      "metadata": {
        "id": "Eugoegpm1OA0"
      },
      "source": [
        "# How to check which version of Python you are using...\n",
        "\n",
        "There are modules (libraries). A library called `sys` is useful for this purpose\n",
        "Use sys and version"
      ]
    },
    {
      "cell_type": "code",
      "execution_count": 2,
      "metadata": {
        "colab": {
          "base_uri": "https://localhost:8080/"
        },
        "id": "-Puor8i21OA0",
        "outputId": "d5d5a5fe-bfcf-4b3d-d67f-606b0f2da088"
      },
      "outputs": [
        {
          "output_type": "stream",
          "name": "stdout",
          "text": [
            "3.10.12 (main, Nov 20 2023, 15:14:05) [GCC 11.4.0]\n"
          ]
        }
      ],
      "source": [
        "import sys\n",
        "print(sys.version)"
      ]
    },
    {
      "cell_type": "markdown",
      "metadata": {
        "id": "5DCaZpFS1OA1"
      },
      "source": [
        "# References & Acknowledgements\n",
        "\n",
        "\n",
        "\n",
        "If you are in a hurry, check out Jake's excellent tour of Python.\n",
        "[Jake's Whirlwind Tour of Python](http://nbviewer.jupyter.org/github/jakevdp/WhirlwindTourOfPython/tree/master/)  \n",
        "\n",
        "* There are many fantastic resources. (Web, YouTube, Free Online courses). Use any that you like."
      ]
    }
  ],
  "metadata": {
    "kernelspec": {
      "display_name": "Python 3",
      "language": "python",
      "name": "python3"
    },
    "language_info": {
      "codemirror_mode": {
        "name": "ipython",
        "version": 3
      },
      "file_extension": ".py",
      "mimetype": "text/x-python",
      "name": "python",
      "nbconvert_exporter": "python",
      "pygments_lexer": "ipython3",
      "version": "3.7.3"
    },
    "colab": {
      "provenance": [],
      "include_colab_link": true
    }
  },
  "nbformat": 4,
  "nbformat_minor": 0
}