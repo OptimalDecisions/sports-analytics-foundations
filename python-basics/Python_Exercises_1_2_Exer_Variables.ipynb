{
  "cells": [
    {
      "cell_type": "markdown",
      "metadata": {
        "id": "view-in-github",
        "colab_type": "text"
      },
      "source": [
        "<a href=\"https://colab.research.google.com/github/OptimalDecisions/sports-analytics-foundations/blob/main/python-basics/Python_Exercises_1_2_Exer_Variables.ipynb\" target=\"_parent\"><img src=\"https://colab.research.google.com/assets/colab-badge.svg\" alt=\"Open In Colab\"/></a>"
      ]
    },
    {
      "cell_type": "markdown",
      "metadata": {
        "id": "lUyCGQ5aJjGc"
      },
      "source": [
        "### 1.2 Python Exercises\n",
        "\n",
        "## Python Variables\n",
        "\n",
        "<img src = \"img/sa_logo.png\" width=\"100\" align=\"left\">\n",
        "\n",
        "Ram Narasimhan"
      ]
    },
    {
      "cell_type": "markdown",
      "source": [
        "### Exercise 1: Variable Declaration and Printing\n",
        "Declare two variables, name and age, and assign your name to the name variable and your age to the age variable. Then print the values of these variables.\n",
        "\n",
        "\n"
      ],
      "metadata": {
        "id": "_EQCZwbwSH36"
      }
    },
    {
      "cell_type": "markdown",
      "source": [
        "### Exercise 2: Variable Reassignment and Arithmetic Operations\n",
        "\n",
        "Create a variable `num1` and assign it a value of `10`. Then reassign the value of `num1` to be the result of adding `5` to its current value. Print the final value of `num1`.\n",
        "\n"
      ],
      "metadata": {
        "id": "DYvOTdTYm0AG"
      }
    },
    {
      "cell_type": "markdown",
      "source": [
        "### Exercise 3: Variable Comparison\n",
        "\n",
        "Create two variables, `x` and `y`, and assign them integer values. Then write a program to check whether `x` is equal to `y` and print the result.\n",
        "\n"
      ],
      "metadata": {
        "id": "ELJOl86tmyi2"
      }
    },
    {
      "cell_type": "markdown",
      "source": [
        "### Exercise 4: Variable Concatenation\n",
        "Create two variables, `first_name` and `last_name`, and assign them your first and last name, respectively. Then concatenate them and store the result in a new variable called `full_name`. Print the value of `full_name`. Don't forget to include a space inbetween the two parts of your name.\n",
        "\n"
      ],
      "metadata": {
        "id": "Mfwyuk9rmw9I"
      }
    }
  ],
  "metadata": {
    "kernelspec": {
      "display_name": "Python 3",
      "language": "python",
      "name": "python3"
    },
    "language_info": {
      "codemirror_mode": {
        "name": "ipython",
        "version": 3
      },
      "file_extension": ".py",
      "mimetype": "text/x-python",
      "name": "python",
      "nbconvert_exporter": "python",
      "pygments_lexer": "ipython3",
      "version": "3.7.3"
    },
    "colab": {
      "provenance": [],
      "include_colab_link": true
    }
  },
  "nbformat": 4,
  "nbformat_minor": 0
}