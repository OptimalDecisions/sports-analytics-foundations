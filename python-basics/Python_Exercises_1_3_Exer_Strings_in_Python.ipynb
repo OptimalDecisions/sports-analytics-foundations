{
  "cells": [
    {
      "cell_type": "markdown",
      "metadata": {
        "id": "view-in-github",
        "colab_type": "text"
      },
      "source": [
        "<a href=\"https://colab.research.google.com/github/OptimalDecisions/sports-analytics-foundations/blob/main/python-basics/Python_Exercises_1_3_Exer_Strings_in_Python.ipynb\" target=\"_parent\"><img src=\"https://colab.research.google.com/assets/colab-badge.svg\" alt=\"Open In Colab\"/></a>"
      ]
    },
    {
      "cell_type": "markdown",
      "metadata": {
        "id": "lUyCGQ5aJjGc"
      },
      "source": [
        "### 1.3 Python Exercises\n",
        "\n",
        "## String Operations in Python\n",
        "\n",
        "<img src = \"../img/sa_logo.png\" width=\"100\" align=\"left\">\n",
        "\n",
        "Ram Narasimhan"
      ]
    },
    {
      "cell_type": "markdown",
      "source": [
        "### Ex 1: Pick and choose characters\n",
        "\n",
        "Write a Python program to get a string made of the first and last characters of a given string.\n",
        "\n",
        "Example input and output:\n",
        "```\n",
        "inp  = \"The lazy dog\"\n",
        "\n",
        "out = \"Tg\"\n",
        "\n",
        "\n",
        "```"
      ],
      "metadata": {
        "id": "_EQCZwbwSH36"
      }
    },
    {
      "cell_type": "markdown",
      "source": [
        "### Ex 2: Remove Vowels\n",
        "\n",
        "Write a Python program that takes a string and replaces all the characters with an empty string \"\" (i.e. all the vowels are removed).\n",
        "\n",
        "For example:\n",
        "\n",
        "```\n",
        "_input = \"Basketball\"\n",
        "_output = \"Bsktbll\"\n",
        "```"
      ],
      "metadata": {
        "id": "7JM6rW1xSoxS"
      }
    },
    {
      "cell_type": "markdown",
      "source": [
        "### Ex 3: Reverse the sequence of words in a sentence\n",
        "\n",
        "Write some Python code to take in a sentence (words with spaces) and to reverse the order of the tokens (words).\n",
        "\n",
        "```\n",
        "inp = \"The Cowboys scored 14 points in the final quarter.\"\n",
        "\n",
        "out = \"quarter final the in point 14 scored Cowboys The\"\n",
        "\n",
        "```"
      ],
      "metadata": {
        "id": "kQ7Er6oHlQpe"
      }
    },
    {
      "cell_type": "markdown",
      "source": [
        "### Challenge: Find the total points made.\n",
        "\n",
        "Write a python script that takes in strings of the following format and returns the total points\n",
        "\n",
        "```\n",
        "_input_string = \"Q1 14, Q2 9, Q3 5, Q4 11\"\n",
        "total = 39\n",
        "```"
      ],
      "metadata": {
        "id": "7guaXC0hjnJ1"
      }
    }
  ],
  "metadata": {
    "kernelspec": {
      "display_name": "Python 3",
      "language": "python",
      "name": "python3"
    },
    "language_info": {
      "codemirror_mode": {
        "name": "ipython",
        "version": 3
      },
      "file_extension": ".py",
      "mimetype": "text/x-python",
      "name": "python",
      "nbconvert_exporter": "python",
      "pygments_lexer": "ipython3",
      "version": "3.7.3"
    },
    "colab": {
      "provenance": [],
      "include_colab_link": true
    }
  },
  "nbformat": 4,
  "nbformat_minor": 0
}