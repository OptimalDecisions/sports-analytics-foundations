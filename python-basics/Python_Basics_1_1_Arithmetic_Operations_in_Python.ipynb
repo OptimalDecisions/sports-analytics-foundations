{
  "cells": [
    {
      "cell_type": "markdown",
      "metadata": {
        "id": "view-in-github",
        "colab_type": "text"
      },
      "source": [
        "<a href=\"https://colab.research.google.com/github/OptimalDecisions/sports-analytics-foundations/blob/main/python-basics/Python_Basics_1_1_Arithmetic_Operations_in_Python.ipynb\" target=\"_parent\"><img src=\"https://colab.research.google.com/assets/colab-badge.svg\" alt=\"Open In Colab\"/></a>"
      ]
    },
    {
      "cell_type": "markdown",
      "metadata": {
        "id": "5P8ejtRhyBgd"
      },
      "source": [
        "\n",
        "## Python Basics 1.1\n",
        "\n",
        "# Arithmentic Operations in Python\n",
        "\n",
        "<img src = \"img/sa_logo.png\" width=\"100\" align=\"left\">\n",
        "\n",
        "Ram Narasimhan"
      ]
    },
    {
      "cell_type": "markdown",
      "metadata": {
        "id": "HBcPvQZGyBgh"
      },
      "source": [
        "### Using Python as a Calculator\n",
        "\n",
        "# <div class=\"alert alert-block alert-success\"> Integer Arithmetic\n",
        "\n"
      ]
    },
    {
      "cell_type": "code",
      "execution_count": null,
      "metadata": {
        "colab": {
          "base_uri": "https://localhost:8080/"
        },
        "id": "-oCYIBvQyBgi",
        "outputId": "0418b8a8-1989-46e8-9015-cbeb57837406"
      },
      "outputs": [
        {
          "output_type": "stream",
          "name": "stdout",
          "text": [
            "14\n",
            "A\n",
            "7\n"
          ]
        }
      ],
      "source": [
        "print(5 + 9)\n",
        "print(\"A\")\n",
        "print(16 - 9)\n"
      ]
    },
    {
      "cell_type": "code",
      "execution_count": null,
      "metadata": {
        "colab": {
          "base_uri": "https://localhost:8080/"
        },
        "id": "F-rKJEY1yBgj",
        "outputId": "a443002d-1913-4ab1-dbaf-0aa7a86fb3c3"
      },
      "outputs": [
        {
          "output_type": "execute_result",
          "data": {
            "text/plain": [
              "2.142857142857143"
            ]
          },
          "metadata": {},
          "execution_count": 2
        }
      ],
      "source": [
        "3 * 15 # multiplication\n",
        "15 / 7"
      ]
    },
    {
      "cell_type": "code",
      "execution_count": null,
      "metadata": {
        "colab": {
          "base_uri": "https://localhost:8080/"
        },
        "id": "XgqCvS83yBgk",
        "outputId": "c98b08bb-b9fc-4aca-bb46-5f9a655d474f"
      },
      "outputs": [
        {
          "output_type": "execute_result",
          "data": {
            "text/plain": [
              "4"
            ]
          },
          "metadata": {},
          "execution_count": 3
        }
      ],
      "source": [
        "# What is going on here?\n",
        "29 // 6"
      ]
    },
    {
      "cell_type": "code",
      "execution_count": null,
      "metadata": {
        "colab": {
          "base_uri": "https://localhost:8080/"
        },
        "id": "--p0PA6RyBgk",
        "outputId": "8881ebf2-b51f-48dd-8945-58ceda189786"
      },
      "outputs": [
        {
          "output_type": "execute_result",
          "data": {
            "text/plain": [
              "2"
            ]
          },
          "metadata": {},
          "execution_count": 4
        }
      ],
      "source": [
        "15 // 7 # double slash '//' division\"\n",
        "#Sometimes known as the \"Quotient\""
      ]
    },
    {
      "cell_type": "markdown",
      "metadata": {
        "id": "NV02RTnRyBgl"
      },
      "source": [
        "# Exercises"
      ]
    },
    {
      "cell_type": "markdown",
      "metadata": {
        "id": "Xv2jWFsfyBgl"
      },
      "source": [
        "Let's make sure that we have understood correctly. So DON'T try this out. First, let's guess what the answer should be. Then we can verify. That is the way to learn."
      ]
    },
    {
      "cell_type": "code",
      "execution_count": null,
      "metadata": {
        "colab": {
          "base_uri": "https://localhost:8080/"
        },
        "id": "_J2scvfyyBgm",
        "outputId": "5888e4e9-a94a-4ba8-bcaa-a61ed90ed854"
      },
      "outputs": [
        {
          "output_type": "execute_result",
          "data": {
            "text/plain": [
              "5.666666666666667"
            ]
          },
          "metadata": {},
          "execution_count": 5
        }
      ],
      "source": [
        "17 / 3  # classic division returns a float"
      ]
    },
    {
      "cell_type": "code",
      "execution_count": null,
      "metadata": {
        "colab": {
          "base_uri": "https://localhost:8080/"
        },
        "id": "RMb6NSy6yBgm",
        "outputId": "ae95106d-ea8d-4ee9-f50c-62ed044bee80"
      },
      "outputs": [
        {
          "output_type": "execute_result",
          "data": {
            "text/plain": [
              "5"
            ]
          },
          "metadata": {},
          "execution_count": 6
        }
      ],
      "source": [
        "17 // 3  # floor division discards the fractional part"
      ]
    },
    {
      "cell_type": "code",
      "execution_count": null,
      "metadata": {
        "colab": {
          "base_uri": "https://localhost:8080/"
        },
        "id": "TH8_wpH_yBgm",
        "outputId": "2fc9abe8-d384-4090-9b7f-3194b35b5e4c"
      },
      "outputs": [
        {
          "output_type": "execute_result",
          "data": {
            "text/plain": [
              "2"
            ]
          },
          "metadata": {},
          "execution_count": 7
        }
      ],
      "source": [
        "17 % 3  # the % operator returns the remainder of the division"
      ]
    },
    {
      "cell_type": "code",
      "execution_count": null,
      "metadata": {
        "colab": {
          "base_uri": "https://localhost:8080/"
        },
        "id": "SmZZKwYkyBgn",
        "outputId": "47e0649f-bc6c-4aa2-882e-3a2f4933dbdb"
      },
      "outputs": [
        {
          "output_type": "execute_result",
          "data": {
            "text/plain": [
              "17"
            ]
          },
          "metadata": {},
          "execution_count": 8
        }
      ],
      "source": [
        "5 * 3 + 2  # result * divisor + remainder"
      ]
    },
    {
      "cell_type": "code",
      "execution_count": null,
      "metadata": {
        "colab": {
          "base_uri": "https://localhost:8080/"
        },
        "id": "u0kn4s-hyBgn",
        "outputId": "b15b3c52-6141-4371-f664-b20d2f0e33d8"
      },
      "outputs": [
        {
          "output_type": "execute_result",
          "data": {
            "text/plain": [
              "8"
            ]
          },
          "metadata": {},
          "execution_count": 9
        }
      ],
      "source": [
        "2 ** 3"
      ]
    },
    {
      "cell_type": "code",
      "execution_count": null,
      "metadata": {
        "colab": {
          "base_uri": "https://localhost:8080/"
        },
        "id": "37Zozb-uyBgn",
        "outputId": "9ddeaddf-0467-4a99-f394-2caead4b2e79"
      },
      "outputs": [
        {
          "output_type": "execute_result",
          "data": {
            "text/plain": [
              "28.57142857142857"
            ]
          },
          "metadata": {},
          "execution_count": 10
        }
      ],
      "source": [
        "(2 / 7) * 100\n"
      ]
    },
    {
      "cell_type": "code",
      "execution_count": null,
      "metadata": {
        "colab": {
          "base_uri": "https://localhost:8080/"
        },
        "id": "rJr8Ef4uyBgo",
        "outputId": "e0b8cd37-b9b9-45c8-e423-81e84f246247"
      },
      "outputs": [
        {
          "output_type": "execute_result",
          "data": {
            "text/plain": [
              "13"
            ]
          },
          "metadata": {},
          "execution_count": 11
        }
      ],
      "source": [
        "5 ** 2 - 4 * 3"
      ]
    },
    {
      "cell_type": "code",
      "execution_count": null,
      "metadata": {
        "colab": {
          "base_uri": "https://localhost:8080/"
        },
        "id": "NdmzSoM7yBgo",
        "outputId": "681ab3e7-b31c-4b4d-9e1b-d3470bd3ed3e"
      },
      "outputs": [
        {
          "output_type": "execute_result",
          "data": {
            "text/plain": [
              "29"
            ]
          },
          "metadata": {},
          "execution_count": 12
        }
      ],
      "source": [
        "(5 - 4) * 3\n",
        "29 % 6\n",
        "6 * 4 + 5"
      ]
    },
    {
      "cell_type": "markdown",
      "metadata": {
        "id": "ScLlDoELyBgo"
      },
      "source": [
        "## Review your understanding\n",
        "\n",
        "![image.png](https://github.com/OptimalDecisions/sports-analytics-foundations/blob/main/img/py_arithmetic_operators.png?raw=1)"
      ]
    },
    {
      "cell_type": "markdown",
      "metadata": {
        "id": "tiMUhqxJyBgo"
      },
      "source": [
        "# <div class=\"alert alert-block alert-success\"> Floating Point Arithmetic"
      ]
    },
    {
      "cell_type": "code",
      "execution_count": null,
      "metadata": {
        "colab": {
          "base_uri": "https://localhost:8080/"
        },
        "id": "_sJuIi1PyBgo",
        "outputId": "3395675c-3f71-4535-b4bd-ce1d8f75caa4"
      },
      "outputs": [
        {
          "output_type": "execute_result",
          "data": {
            "text/plain": [
              "-125.55999999999999"
            ]
          },
          "metadata": {},
          "execution_count": 13
        }
      ],
      "source": [
        "-4.3 * 29.2"
      ]
    },
    {
      "cell_type": "code",
      "execution_count": null,
      "metadata": {
        "colab": {
          "base_uri": "https://localhost:8080/"
        },
        "id": "wkAX1PXeyBgo",
        "outputId": "29d8aa2a-ec1d-44fa-e2a1-4885851ba589"
      },
      "outputs": [
        {
          "output_type": "execute_result",
          "data": {
            "text/plain": [
              "-3.142526169123096e+18"
            ]
          },
          "metadata": {},
          "execution_count": 14
        }
      ],
      "source": [
        "-4.3 ** 29.2\n",
        "# Note the Exponential notation"
      ]
    },
    {
      "cell_type": "code",
      "execution_count": null,
      "metadata": {
        "colab": {
          "base_uri": "https://localhost:8080/",
          "height": 182
        },
        "id": "i1zi3WuNyBgp",
        "outputId": "1889a9e8-adb2-4669-e087-314304bfbfa5"
      },
      "outputs": [
        {
          "output_type": "error",
          "ename": "NameError",
          "evalue": "ignored",
          "traceback": [
            "\u001b[0;31m---------------------------------------------------------------------------\u001b[0m",
            "\u001b[0;31mNameError\u001b[0m                                 Traceback (most recent call last)",
            "\u001b[0;32m<ipython-input-16-1bf613b64533>\u001b[0m in \u001b[0;36m<cell line: 1>\u001b[0;34m()\u001b[0m\n\u001b[0;32m----> 1\u001b[0;31m \u001b[0msqrt\u001b[0m\u001b[0;34m(\u001b[0m\u001b[0;36m25\u001b[0m\u001b[0;34m)\u001b[0m\u001b[0;34m\u001b[0m\u001b[0;34m\u001b[0m\u001b[0m\n\u001b[0m",
            "\u001b[0;31mNameError\u001b[0m: name 'sqrt' is not defined"
          ]
        }
      ],
      "source": [
        "sqrt(25)"
      ]
    },
    {
      "cell_type": "markdown",
      "metadata": {
        "id": "dBUxxVEIyBgp"
      },
      "source": [
        "Why did `sqrt(25)` not work? Because Python did not understand what to do with `sqrt`. Look at the error message. It is trying to tell you something! If we know where to find the sqrt() command, we can make this work."
      ]
    },
    {
      "cell_type": "markdown",
      "metadata": {
        "id": "WiMB6h5_yBgp"
      },
      "source": [
        "# <div class=\"alert alert-block alert-warning\"> Using Math Functions\n",
        "</div>\n",
        "\n",
        "There is module called 'math.' We can use functions from there"
      ]
    },
    {
      "cell_type": "code",
      "execution_count": null,
      "metadata": {
        "id": "oAjp2GSkyBgq"
      },
      "outputs": [],
      "source": [
        "import math"
      ]
    },
    {
      "cell_type": "code",
      "execution_count": null,
      "metadata": {
        "colab": {
          "base_uri": "https://localhost:8080/"
        },
        "id": "yduaAtVLyBgq",
        "outputId": "ae755165-ae0a-4910-ff3a-31d6c6965def"
      },
      "outputs": [
        {
          "output_type": "execute_result",
          "data": {
            "text/plain": [
              "5.0"
            ]
          },
          "metadata": {},
          "execution_count": 18
        }
      ],
      "source": [
        "import math\n",
        "math.sqrt(25) # from the module 'math' use the sqrt function..."
      ]
    },
    {
      "cell_type": "code",
      "execution_count": null,
      "metadata": {
        "id": "PkvAhrlIyBgq"
      },
      "outputs": [],
      "source": [
        "from math import sqrt\n",
        "#In this case, we want just ONE FUNCTION (sqrt) from the module called 'math'"
      ]
    },
    {
      "cell_type": "code",
      "execution_count": null,
      "metadata": {
        "colab": {
          "base_uri": "https://localhost:8080/"
        },
        "id": "TPknVVnpyBgq",
        "outputId": "fd863199-f829-44c8-8063-aff8e9c57498"
      },
      "outputs": [
        {
          "output_type": "execute_result",
          "data": {
            "text/plain": [
              "5.0"
            ]
          },
          "metadata": {},
          "execution_count": 20
        }
      ],
      "source": [
        "sqrt(25) # Now it works!"
      ]
    },
    {
      "cell_type": "code",
      "execution_count": 2,
      "metadata": {
        "id": "7EcOVbaiyBgq"
      },
      "outputs": [],
      "source": [
        "from math import *"
      ]
    },
    {
      "cell_type": "markdown",
      "source": [
        "Be sure to understand the difference between the following two lines (both imports)\n",
        "\n",
        "```\n",
        "from math import *\n",
        "#vs.\n",
        "import math\n",
        "```"
      ],
      "metadata": {
        "id": "HpvsofsZyBgq"
      }
    },
    {
      "cell_type": "code",
      "execution_count": null,
      "metadata": {
        "colab": {
          "base_uri": "https://localhost:8080/"
        },
        "id": "MQTi4lTlyBgr",
        "outputId": "544d54dd-d0f2-43c1-a5ac-ea9aa86ad95e"
      },
      "outputs": [
        {
          "output_type": "execute_result",
          "data": {
            "text/plain": [
              "4.605170185988092"
            ]
          },
          "metadata": {},
          "execution_count": 23
        }
      ],
      "source": [
        "log(100) # why is this not 2?!"
      ]
    },
    {
      "cell_type": "code",
      "execution_count": 4,
      "metadata": {
        "colab": {
          "base_uri": "https://localhost:8080/"
        },
        "id": "J84UB9wmyBgr",
        "outputId": "e45cbeeb-5317-4f16-8db0-b88aeb27f53a"
      },
      "outputs": [
        {
          "output_type": "stream",
          "name": "stdout",
          "text": [
            "Help on built-in function atan in module math:\n",
            "\n",
            "atan(x, /)\n",
            "    Return the arc tangent (measured in radians) of x.\n",
            "    \n",
            "    The result is between -pi/2 and pi/2.\n",
            "\n"
          ]
        }
      ],
      "source": [
        "import math\n",
        "help(math.atan)"
      ]
    },
    {
      "cell_type": "markdown",
      "metadata": {
        "id": "LlC8K4m4yBgr"
      },
      "source": [
        "![List of Math Functions](https://github.com/OptimalDecisions/sports-analytics-foundations/blob/main/python-basics/img/py_math_functions.JPG?raw=1)\n",
        "\n",
        "You have all of these in your handouts"
      ]
    },
    {
      "cell_type": "code",
      "execution_count": null,
      "metadata": {
        "colab": {
          "base_uri": "https://localhost:8080/"
        },
        "id": "2W4gbV1dyBgr",
        "outputId": "0ae73b53-e145-4345-ce47-82210e2f1d91"
      },
      "outputs": [
        {
          "output_type": "execute_result",
          "data": {
            "text/plain": [
              "True"
            ]
          },
          "metadata": {},
          "execution_count": 25
        }
      ],
      "source": [
        "log(100, 10) == log10(100)"
      ]
    },
    {
      "cell_type": "code",
      "source": [],
      "metadata": {
        "id": "F9gyWWKSyed8"
      },
      "execution_count": null,
      "outputs": []
    }
  ],
  "metadata": {
    "celltoolbar": "Slideshow",
    "kernelspec": {
      "display_name": "Python 3",
      "language": "python",
      "name": "python3"
    },
    "language_info": {
      "codemirror_mode": {
        "name": "ipython",
        "version": 3
      },
      "file_extension": ".py",
      "mimetype": "text/x-python",
      "name": "python",
      "nbconvert_exporter": "python",
      "pygments_lexer": "ipython3",
      "version": "3.6.5"
    },
    "colab": {
      "provenance": [],
      "include_colab_link": true
    }
  },
  "nbformat": 4,
  "nbformat_minor": 0
}